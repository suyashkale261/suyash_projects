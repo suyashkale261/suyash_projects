{
 "cells": [
  {
   "cell_type": "code",
   "execution_count": 1,
   "id": "ac3f81d0-48f9-4387-8dee-200619aac314",
   "metadata": {},
   "outputs": [
    {
     "name": "stdout",
     "output_type": "stream",
     "text": [
      "Request Granted !!!! 200\n",
      "Data has been written to 20th_century_books.csv\n"
     ]
    }
   ],
   "source": [
    "import requests,pandas as pd\n",
    "from bs4 import BeautifulSoup\n",
    "url1 = \"https://www.goodreads.com/list/show/6\"\n",
    "headers = {\n",
    "    \"authority\": \"www.goodreads.com\",\"method\": \"GET\",\"path\": \"list/show/6\",\"scheme\": \"https\",\n",
    "    \"accept\": \"text/html,application/xhtml+xml,application/xml;q=0.9,image/webp,image/apng,*/*;q=0.8,application/signed-exchange;v=b3;q=0.9\",\n",
    "    \"accept-encoding\": \"gzip, deflate, br\",\"accept-language\": \"en-US,en;q=0.9\",\"cache-control\": \"max-age=0\",\n",
    "    \"sec-fetch-dest\": \"document\",\"sec-fetch-mode\": \"navigate\",\"sec-fetch-site\": \"none\",\"sec-fetch-user\": \"?1\",\"upgrade-insecure-requests\": \"1\",\n",
    "    \"user-agent\": \"Mozilla/5.0 (Windows NT 10.0; Win64; x64) AppleWebKit/537.36 (KHTML, like Gecko) Chrome/91.0.4472.124 Safari/537.36\"\n",
    "}\n",
    "response = requests.get(url1, headers=headers)\n",
    "soup = BeautifulSoup(response.content, \"html.parser\")\n",
    "print(\"Request Granted !!!!\",response.status_code) if response.status_code == 200 else print(\"Request Denied !!!!\",response.status_code)\n",
    "booknames = soup.find_all(\"a\", {\"class\":\"bookTitle\"}) if soup.find_all(\"a\", {\"class\":\"bookTitle\"}) else \"N/A\"\n",
    "authors = soup.find_all(\"a\", {\"class\": \"authorName\"}) if soup.find_all(\"a\", {\"class\": \"authorName\"}) else \"N/A\"\n",
    "bookslist = []\n",
    "for name in booknames: bookslist.append(name.get_text(strip = True))\n",
    "authorlist = []\n",
    "for writer in authors: authorlist.append(writer.get_text(strip = True))\n",
    "#print(bookslist)\n",
    "#print(writerlist)\n",
    "books = pd.DataFrame({})\n",
    "books['Name'] = bookslist\n",
    "books['Author'] = authorlist\n",
    "books_csv = books.to_csv('20th_century_books.csv',index = False)\n",
    "print(\"Data has been written to 20th_century_books.csv\")"
   ]
  },
  {
   "cell_type": "code",
   "execution_count": null,
   "id": "7fa9e454-8304-4622-9e50-8c46f2a1929d",
   "metadata": {},
   "outputs": [],
   "source": []
  }
 ],
 "metadata": {
  "kernelspec": {
   "display_name": "Python 3 (ipykernel)",
   "language": "python",
   "name": "python3"
  },
  "language_info": {
   "codemirror_mode": {
    "name": "ipython",
    "version": 3
   },
   "file_extension": ".py",
   "mimetype": "text/x-python",
   "name": "python",
   "nbconvert_exporter": "python",
   "pygments_lexer": "ipython3",
   "version": "3.12.4"
  }
 },
 "nbformat": 4,
 "nbformat_minor": 5
}
