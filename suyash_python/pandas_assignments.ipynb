{
 "cells": [
  {
   "cell_type": "code",
   "execution_count": 7,
   "id": "2bf4a52d-90fe-4ed4-ac9d-17699f78624a",
   "metadata": {},
   "outputs": [
    {
     "name": "stdout",
     "output_type": "stream",
     "text": [
      "Original Series:\n",
      "0     1\n",
      "1     2\n",
      "2     3\n",
      "3     4\n",
      "4     5\n",
      "5     6\n",
      "6     7\n",
      "7     8\n",
      "8     9\n",
      "9    10\n",
      "dtype: int64\n",
      "Resulting Series after applying f(x) = x/2:\n",
      "0    0.5\n",
      "1    1.0\n",
      "2    1.5\n",
      "3    2.0\n",
      "4    2.5\n",
      "5    3.0\n",
      "6    3.5\n",
      "7    4.0\n",
      "8    4.5\n",
      "9    5.0\n",
      "dtype: float64\n"
     ]
    }
   ],
   "source": [
    "import pandas as pd\n",
    "numbers = pd.Series([1,2,3,4,5,6,7,8,9,10])\n",
    "def f(x): return x / 2\n",
    "result = numbers.apply(f)\n",
    "print(\"Original Series:\")\n",
    "print(numbers)\n",
    "print(\"Resulting Series after applying f(x) = x/2:\")\n",
    "print(result)"
   ]
  },
  {
   "cell_type": "code",
   "execution_count": 10,
   "id": "ac0c73f4-67ad-44d9-bcfb-4a5e71d2f8ec",
   "metadata": {},
   "outputs": [
    {
     "name": "stdout",
     "output_type": "stream",
     "text": [
      "     name  age         occ\n",
      "0   Vinay   22    engineer\n",
      "1  Kushal   25      doctor\n",
      "2    Aman   24  accountant\n"
     ]
    }
   ],
   "source": [
    "import pandas as pd\n",
    "data = {\n",
    "    'name': ['Vinay', 'Kushal', 'Aman'],\n",
    "    'age': [22, 25, 24],\n",
    "    'occ': ['engineer', 'doctor', 'accountant']\n",
    "}\n",
    "df = pd.DataFrame(data)\n",
    "print(df)"
   ]
  },
  {
   "cell_type": "code",
   "execution_count": 11,
   "id": "0f60ab64-d082-46a9-a670-aee3a4ff425f",
   "metadata": {},
   "outputs": [
    {
     "name": "stdout",
     "output_type": "stream",
     "text": [
      "Modified DataFrame:\n",
      "                cname  profit\n",
      "0         Shyam & Co.   False\n",
      "1      Ramlal & Bros.    True\n",
      "2  Sharma Enterprises   False\n",
      "3    Verma Furnitures    True\n",
      "4        Rahul Stores    True\n"
     ]
    }
   ],
   "source": [
    "import pandas as pd\n",
    "data = {\n",
    "    'cname': ['Shyam & Co.', 'Ramlal & Bros.', 'Sharma Enterprises', 'Verma Furnitures', 'Rahul Stores'],\n",
    "    'profit': [-10000, 10000, -5000, 15000, 20000]\n",
    "}\n",
    "df = pd.DataFrame(data)\n",
    "df['profit'] = df['profit'] > 0\n",
    "print(\"Modified DataFrame:\")\n",
    "print(df)"
   ]
  },
  {
   "cell_type": "code",
   "execution_count": 12,
   "id": "ca05b82f-8237-48cb-ab44-bbdddb7ab8fb",
   "metadata": {},
   "outputs": [
    {
     "name": "stdout",
     "output_type": "stream",
     "text": [
      "Statistical Summary :\n",
      "            eid       stipend\n",
      "count  4.000000      4.000000\n",
      "mean   2.500000  10000.000000\n",
      "std    1.290994   4082.482905\n",
      "min    1.000000   5000.000000\n",
      "25%    1.750000   8750.000000\n",
      "50%    2.500000  10000.000000\n",
      "75%    3.250000  11250.000000\n",
      "max    4.000000  15000.000000\n"
     ]
    }
   ],
   "source": [
    "import pandas as pd\n",
    "data = {\n",
    "    'eid': [1, 2, 3, 4],\n",
    "    'ename': ['Sid', 'Ramesh', 'Ron', 'Harry'],\n",
    "    'stipend': [10000, 10000, 5000, 15000],\n",
    "    'position': ['employee', 'employee', 'intern', 'senior_employee']\n",
    "}\n",
    "df = pd.DataFrame(data)\n",
    "summary = df.describe()\n",
    "print(\"Statistical Summary :\")\n",
    "print(summary)"
   ]
  },
  {
   "cell_type": "code",
   "execution_count": null,
   "id": "77dfdc83-4272-463a-9317-05f9f00f1405",
   "metadata": {},
   "outputs": [],
   "source": []
  }
 ],
 "metadata": {
  "kernelspec": {
   "display_name": "Python 3 (ipykernel)",
   "language": "python",
   "name": "python3"
  },
  "language_info": {
   "codemirror_mode": {
    "name": "ipython",
    "version": 3
   },
   "file_extension": ".py",
   "mimetype": "text/x-python",
   "name": "python",
   "nbconvert_exporter": "python",
   "pygments_lexer": "ipython3",
   "version": "3.12.4"
  }
 },
 "nbformat": 4,
 "nbformat_minor": 5
}
