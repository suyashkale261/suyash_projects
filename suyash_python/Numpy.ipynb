{
 "cells": [
  {
   "cell_type": "code",
   "execution_count": 1798,
   "id": "c772e3fb-c6c0-4fd2-b059-e79035d10ffe",
   "metadata": {},
   "outputs": [
    {
     "name": "stdout",
     "output_type": "stream",
     "text": [
      "Shape :  (4, 2)\n",
      "Dimensions :  2\n",
      "Length in Bytes:  4\n"
     ]
    }
   ],
   "source": [
    "import numpy as np\n",
    "arr = np.array([[1,2],[3,4],[5,6],[7,8]], dtype = np.int32)\n",
    "print(\"Shape : \",arr.shape)\n",
    "print(\"Dimensions : \",arr.ndim)\n",
    "print(\"Length in Bytes: \",arr.itemsize)"
   ]
  },
  {
   "cell_type": "code",
   "execution_count": 1799,
   "id": "fba51c87-c18f-4124-8b8a-774dd3a54bed",
   "metadata": {},
   "outputs": [
    {
     "name": "stdout",
     "output_type": "stream",
     "text": [
      "Creating 8x3 array\n",
      "\n",
      "[[10 11 12]\n",
      " [13 14 15]\n",
      " [16 17 18]\n",
      " [19 20 21]\n",
      " [22 23 24]\n",
      " [25 26 27]\n",
      " [28 29 30]\n",
      " [31 32 33]]\n",
      "\n",
      "Dividing 8x3 array into 4 sub-arrays\n",
      "\n",
      "[array([[10, 11, 12],\n",
      "       [13, 14, 15]]), array([[16, 17, 18],\n",
      "       [19, 20, 21]]), array([[22, 23, 24],\n",
      "       [25, 26, 27]]), array([[28, 29, 30],\n",
      "       [31, 32, 33]])]\n"
     ]
    }
   ],
   "source": [
    "import numpy as np\n",
    "array = np.arange(10, 34).reshape(8, 3)\n",
    "print(\"Creating 8x3 array\\n\")\n",
    "print(array)\n",
    "sub_arrays = np.split(array, 4)\n",
    "print(\"\\nDividing 8x3 array into 4 sub-arrays\\n\")\n",
    "print(sub_arrays)"
   ]
  },
  {
   "cell_type": "code",
   "execution_count": 1800,
   "id": "9cf992ed-4acf-4205-9f09-2946f8c5e767",
   "metadata": {},
   "outputs": [
    {
     "name": "stdout",
     "output_type": "stream",
     "text": [
      "Memory used by Python list: 36056 bytes\n",
      "Memory used by NumPy array: 4000 bytes\n"
     ]
    }
   ],
   "source": [
    "import numpy as np\n",
    "import sys\n",
    "python_list = list(range(1000))\n",
    "numpy_array = np.arange(1000)\n",
    "python_list_memory = sys.getsizeof(python_list) + sum(sys.getsizeof(i) for i in python_list)\n",
    "numpy_array_memory = numpy_array.nbytes\n",
    "print(f\"Memory used by Python list: {python_list_memory} bytes\")\n",
    "print(f\"Memory used by NumPy array: {numpy_array_memory} bytes\")"
   ]
  },
  {
   "cell_type": "code",
   "execution_count": 1801,
   "id": "7a856eb0-2249-4f20-8a78-62edb13f2dfa",
   "metadata": {},
   "outputs": [],
   "source": [
    "import numpy as np"
   ]
  },
  {
   "cell_type": "code",
   "execution_count": 1802,
   "id": "89351e6f-8a85-4941-88c4-1c014871dabc",
   "metadata": {},
   "outputs": [
    {
     "name": "stdout",
     "output_type": "stream",
     "text": [
      "[1 2 3 4 5]\n"
     ]
    }
   ],
   "source": [
    "a = np.array([1,2,3,4,5])\n",
    "print(a)"
   ]
  },
  {
   "cell_type": "code",
   "execution_count": 1803,
   "id": "456e7679-4a49-4224-be77-ee9e9c0e2114",
   "metadata": {},
   "outputs": [
    {
     "data": {
      "text/plain": [
       "numpy.ndarray"
      ]
     },
     "execution_count": 1803,
     "metadata": {},
     "output_type": "execute_result"
    }
   ],
   "source": [
    "type(a)"
   ]
  },
  {
   "cell_type": "code",
   "execution_count": 1804,
   "id": "4ef54c8b-b402-4604-8c4b-e1297418798c",
   "metadata": {},
   "outputs": [
    {
     "name": "stdout",
     "output_type": "stream",
     "text": [
      "Matrix : \n",
      " [[ 1  2  3  4]\n",
      " [ 5  6  7  8]\n",
      " [ 9 10 11 12]\n",
      " [13 14 15 16]]\n",
      "Number of Dimensions :  2\n",
      "Shape :  (4, 4)\n",
      "Number of Elements :  16\n",
      "Transpose : \n",
      " [[ 1  5  9 13]\n",
      " [ 2  6 10 14]\n",
      " [ 3  7 11 15]\n",
      " [ 4  8 12 16]]\n",
      "Reshaping : \n",
      " [[ 1  2  3  4  5  6  7  8]\n",
      " [ 9 10 11 12 13 14 15 16]]\n"
     ]
    }
   ],
   "source": [
    "d1 = np.array([[1,2,3,4],[5,6,7,8],[9,10,11,12],[13,14,15,16]])\n",
    "print(\"Matrix : \\n\",d1)\n",
    "print(\"Number of Dimensions : \",d1.ndim)\n",
    "print(\"Shape : \",d1.shape)\n",
    "print(\"Number of Elements : \",d1.size)\n",
    "print(\"Transpose : \\n\",d1.T)\n",
    "print(\"Reshaping : \\n\",d1.reshape(2,8))"
   ]
  },
  {
   "cell_type": "code",
   "execution_count": 1805,
   "id": "920bac46-8242-4b54-b566-d82694738160",
   "metadata": {},
   "outputs": [
    {
     "data": {
      "text/plain": [
       "array([[1, 2, 3],\n",
       "       [4, 5, 6]])"
      ]
     },
     "execution_count": 1805,
     "metadata": {},
     "output_type": "execute_result"
    }
   ],
   "source": [
    "np.array([1,2,3,4,5,6]).reshape(2,3)"
   ]
  },
  {
   "cell_type": "code",
   "execution_count": 1806,
   "id": "73858a4c-4219-4e39-a4a3-ba71622ff074",
   "metadata": {},
   "outputs": [
    {
     "data": {
      "text/plain": [
       "array([[ 1,  2,  3],\n",
       "       [ 4,  5,  6],\n",
       "       [ 7,  8,  9],\n",
       "       [10, 11, 12]])"
      ]
     },
     "execution_count": 1806,
     "metadata": {},
     "output_type": "execute_result"
    }
   ],
   "source": [
    "a = np.array([1,2,3,4,5,6]).reshape(2,3)\n",
    "b = np.array([7,8,9,10,11,12]).reshape(2,3)\n",
    "np.concatenate((a,b))"
   ]
  },
  {
   "cell_type": "code",
   "execution_count": 1807,
   "id": "25e8bf38-38d4-49a1-8ad8-48449b07d1c2",
   "metadata": {},
   "outputs": [
    {
     "data": {
      "text/plain": [
       "array([[ 1,  2,  3],\n",
       "       [ 4,  5,  6],\n",
       "       [ 7,  8,  9],\n",
       "       [10, 11, 12]])"
      ]
     },
     "execution_count": 1807,
     "metadata": {},
     "output_type": "execute_result"
    }
   ],
   "source": [
    "np.vstack((a,b))"
   ]
  },
  {
   "cell_type": "code",
   "execution_count": 1808,
   "id": "8063f4bf-afde-49f5-bd00-592759a6d429",
   "metadata": {},
   "outputs": [
    {
     "data": {
      "text/plain": [
       "array([[ 1,  2,  3,  7,  8,  9],\n",
       "       [ 4,  5,  6, 10, 11, 12]])"
      ]
     },
     "execution_count": 1808,
     "metadata": {},
     "output_type": "execute_result"
    }
   ],
   "source": [
    "np.hstack((a,b))"
   ]
  },
  {
   "cell_type": "code",
   "execution_count": 1809,
   "id": "3622c12b-2410-4d89-8645-d7d8acf423b1",
   "metadata": {},
   "outputs": [
    {
     "name": "stdout",
     "output_type": "stream",
     "text": [
      "[ 1  2  3  4  5  6  7  8  9 10]\n"
     ]
    }
   ],
   "source": [
    "c = np.array([1,2,3,4,5,6,7,8,9,10])\n",
    "print(c)"
   ]
  },
  {
   "cell_type": "code",
   "execution_count": 1810,
   "id": "17067df4-ab69-43fc-bab6-dec1edf2c8ba",
   "metadata": {},
   "outputs": [
    {
     "name": "stdout",
     "output_type": "stream",
     "text": [
      "[ 1  2  3  4  5  6  7  8  9 10 11 12 13 14 15]\n"
     ]
    }
   ],
   "source": [
    "print(np.append(c,[11,12,13,14,15]))"
   ]
  },
  {
   "cell_type": "code",
   "execution_count": 1811,
   "id": "d005df74-a6ba-4720-ba71-4efcde092085",
   "metadata": {},
   "outputs": [
    {
     "name": "stdout",
     "output_type": "stream",
     "text": [
      "[ 1  2  3 16 17 18 19 20  4  5  6  7  8  9 10]\n"
     ]
    }
   ],
   "source": [
    "print(np.insert(c,3,[16,17,18,19,20]))"
   ]
  },
  {
   "cell_type": "code",
   "execution_count": 1812,
   "id": "660ed5bd-dda0-4f6e-a900-6c8e0d143c4e",
   "metadata": {},
   "outputs": [
    {
     "name": "stdout",
     "output_type": "stream",
     "text": [
      "[1 2 3 4 5 6 7 8 9]\n"
     ]
    }
   ],
   "source": [
    "print(np.delete(c,[-1]))"
   ]
  },
  {
   "cell_type": "code",
   "execution_count": 1813,
   "id": "9bf265c2-ee3a-460f-800a-7c5509e011be",
   "metadata": {},
   "outputs": [
    {
     "name": "stdout",
     "output_type": "stream",
     "text": [
      "[ 1  4  5  6  7  8  9 10]\n"
     ]
    }
   ],
   "source": [
    "print(np.delete(c,[1,2]))"
   ]
  },
  {
   "cell_type": "code",
   "execution_count": 1814,
   "id": "49710a50-a734-47ec-8d1b-d9afa48def42",
   "metadata": {},
   "outputs": [
    {
     "data": {
      "text/plain": [
       "array([1., 1., 1.])"
      ]
     },
     "execution_count": 1814,
     "metadata": {},
     "output_type": "execute_result"
    }
   ],
   "source": [
    "np.empty(3)"
   ]
  },
  {
   "cell_type": "code",
   "execution_count": 1815,
   "id": "bb93224a-fc45-496e-b0b6-16ef97ded14e",
   "metadata": {},
   "outputs": [
    {
     "data": {
      "text/plain": [
       "array([[8.48798316e-314, 1.27319747e-313],\n",
       "       [1.69759663e-313, 2.12199579e-313]])"
      ]
     },
     "execution_count": 1815,
     "metadata": {},
     "output_type": "execute_result"
    }
   ],
   "source": [
    "np.empty((2,2))"
   ]
  },
  {
   "cell_type": "code",
   "execution_count": 1816,
   "id": "66b56bfa-3457-4699-993c-57502595f896",
   "metadata": {},
   "outputs": [
    {
     "data": {
      "text/plain": [
       "array([[2, 4],\n",
       "       [6, 8]])"
      ]
     },
     "execution_count": 1816,
     "metadata": {},
     "output_type": "execute_result"
    }
   ],
   "source": [
    "np.empty((2,2),dtype = int)"
   ]
  },
  {
   "cell_type": "code",
   "execution_count": 1817,
   "id": "aa2b8ce7-dd63-4caf-9f5e-816d60dd2d0a",
   "metadata": {},
   "outputs": [
    {
     "data": {
      "text/plain": [
       "array([[0., 0.],\n",
       "       [0., 0.]])"
      ]
     },
     "execution_count": 1817,
     "metadata": {},
     "output_type": "execute_result"
    }
   ],
   "source": [
    "np.zeros((2,2))"
   ]
  },
  {
   "cell_type": "code",
   "execution_count": 1818,
   "id": "dc05988a-f4d0-4584-90d6-664c5af2ac33",
   "metadata": {},
   "outputs": [
    {
     "data": {
      "text/plain": [
       "array([0., 0., 0., 0.])"
      ]
     },
     "execution_count": 1818,
     "metadata": {},
     "output_type": "execute_result"
    }
   ],
   "source": [
    "np.zeros(4)"
   ]
  },
  {
   "cell_type": "code",
   "execution_count": 1819,
   "id": "9b6f4a2b-dd11-432f-9d95-095b1dbdf4f9",
   "metadata": {},
   "outputs": [
    {
     "data": {
      "text/plain": [
       "array([[0, 0],\n",
       "       [0, 0]])"
      ]
     },
     "execution_count": 1819,
     "metadata": {},
     "output_type": "execute_result"
    }
   ],
   "source": [
    "np.zeros((2,2),dtype=int)"
   ]
  },
  {
   "cell_type": "code",
   "execution_count": 1820,
   "id": "4227e7a3-7fd1-43fc-afa4-4f705b81a96c",
   "metadata": {},
   "outputs": [
    {
     "data": {
      "text/plain": [
       "array([1., 1., 1., 1., 1., 1., 1., 1., 1., 1.])"
      ]
     },
     "execution_count": 1820,
     "metadata": {},
     "output_type": "execute_result"
    }
   ],
   "source": [
    "np.ones(10)"
   ]
  },
  {
   "cell_type": "code",
   "execution_count": 1821,
   "id": "53a369d7-52f4-4184-a0ac-34956ef23518",
   "metadata": {},
   "outputs": [
    {
     "data": {
      "text/plain": [
       "array([[1., 1.],\n",
       "       [1., 1.]])"
      ]
     },
     "execution_count": 1821,
     "metadata": {},
     "output_type": "execute_result"
    }
   ],
   "source": [
    "np.ones((2,2))"
   ]
  },
  {
   "cell_type": "code",
   "execution_count": 1822,
   "id": "32c3e832-ba2f-4f39-bf84-e1f93f40e4c7",
   "metadata": {},
   "outputs": [
    {
     "data": {
      "text/plain": [
       "array([[1, 1],\n",
       "       [1, 1]])"
      ]
     },
     "execution_count": 1822,
     "metadata": {},
     "output_type": "execute_result"
    }
   ],
   "source": [
    "np.ones((2,2),dtype=int)"
   ]
  },
  {
   "cell_type": "code",
   "execution_count": 1823,
   "id": "679af46d-667d-4d5b-b7d4-6cf11e0a3e1a",
   "metadata": {},
   "outputs": [
    {
     "data": {
      "text/plain": [
       "array([[1., 0., 0.],\n",
       "       [0., 1., 0.],\n",
       "       [0., 0., 1.]])"
      ]
     },
     "execution_count": 1823,
     "metadata": {},
     "output_type": "execute_result"
    }
   ],
   "source": [
    "np.eye(3)"
   ]
  },
  {
   "cell_type": "code",
   "execution_count": 1824,
   "id": "49ca2286-d66d-4eff-8344-acb152cc23fc",
   "metadata": {},
   "outputs": [
    {
     "name": "stdout",
     "output_type": "stream",
     "text": [
      "Identity Matrix \n",
      " [[1 0 0]\n",
      " [0 1 0]\n",
      " [0 0 1]]\n"
     ]
    }
   ],
   "source": [
    "print(\"Identity Matrix \\n\",np.eye(3,dtype=int))"
   ]
  },
  {
   "cell_type": "code",
   "execution_count": 1825,
   "id": "261e69df-b68b-4244-a214-73b17f4d8e91",
   "metadata": {},
   "outputs": [
    {
     "data": {
      "text/plain": [
       "[1, 2, 3, 4, 5, 6, 7, 8, 9, 10]"
      ]
     },
     "execution_count": 1825,
     "metadata": {},
     "output_type": "execute_result"
    }
   ],
   "source": [
    "list(range(1,11))"
   ]
  },
  {
   "cell_type": "code",
   "execution_count": 1826,
   "id": "5a5e94bc-0db5-41fb-9b58-e1325ebaef83",
   "metadata": {},
   "outputs": [
    {
     "name": "stdout",
     "output_type": "stream",
     "text": [
      "[ 1  2  3  4  5  6  7  8  9 10]\n"
     ]
    }
   ],
   "source": [
    "print(np.arange(1,11))"
   ]
  },
  {
   "cell_type": "code",
   "execution_count": 1827,
   "id": "a0c2b168-76b4-486f-a5b0-d7724118a641",
   "metadata": {},
   "outputs": [
    {
     "name": "stdout",
     "output_type": "stream",
     "text": [
      "[[ 1  2  3  4  5]\n",
      " [ 6  7  8  9 10]\n",
      " [11 12 13 14 15]\n",
      " [16 17 18 19 20]]\n"
     ]
    }
   ],
   "source": [
    "print(np.arange(1,21).reshape(4,5))"
   ]
  },
  {
   "cell_type": "code",
   "execution_count": 1828,
   "id": "accbabf0-86f2-4706-949c-45db4d7e040c",
   "metadata": {},
   "outputs": [
    {
     "name": "stdout",
     "output_type": "stream",
     "text": [
      "[11 20]\n"
     ]
    }
   ],
   "source": [
    "print(np.linspace(11,20,2,dtype = int))"
   ]
  },
  {
   "cell_type": "code",
   "execution_count": 1829,
   "id": "98cea5e9-d9cd-405f-a165-5033e5310ef5",
   "metadata": {},
   "outputs": [
    {
     "name": "stdout",
     "output_type": "stream",
     "text": [
      "[11 14 17 20]\n"
     ]
    }
   ],
   "source": [
    "print(np.linspace(11,20,4,dtype = int))"
   ]
  },
  {
   "cell_type": "code",
   "execution_count": 1830,
   "id": "2c5f8bf5-21d6-4359-bf3c-3036bbf2ba3f",
   "metadata": {},
   "outputs": [
    {
     "name": "stdout",
     "output_type": "stream",
     "text": [
      "[ 1  4  7 10]\n"
     ]
    }
   ],
   "source": [
    "print(np.linspace(1,10,4,dtype = int))"
   ]
  },
  {
   "cell_type": "code",
   "execution_count": 1831,
   "id": "306c5830-6acc-4dd6-8a73-07e412386dfa",
   "metadata": {},
   "outputs": [
    {
     "name": "stdout",
     "output_type": "stream",
     "text": [
      "[0.90452335 0.02854059 0.33940952 0.24685753 0.68544275]\n"
     ]
    }
   ],
   "source": [
    "print(np.random.rand(5))"
   ]
  },
  {
   "cell_type": "code",
   "execution_count": 1832,
   "id": "377558bf-2d7b-4d20-9ef0-63ad7afd22db",
   "metadata": {},
   "outputs": [
    {
     "name": "stdout",
     "output_type": "stream",
     "text": [
      "[-1.33633714 -1.74964381 -1.16057318 -0.42973519  2.84615109]\n"
     ]
    }
   ],
   "source": [
    "print(np.random.randn(5))"
   ]
  },
  {
   "cell_type": "code",
   "execution_count": 1833,
   "id": "2a75ce03-1d18-42b3-b29a-31b8b41fd0c1",
   "metadata": {},
   "outputs": [
    {
     "data": {
      "text/plain": [
       "3"
      ]
     },
     "execution_count": 1833,
     "metadata": {},
     "output_type": "execute_result"
    }
   ],
   "source": [
    "import random\n",
    "random.randint(1,5)"
   ]
  },
  {
   "cell_type": "code",
   "execution_count": 1834,
   "id": "ecfbb1bd-0b4e-4690-88fc-224204ce4f91",
   "metadata": {},
   "outputs": [
    {
     "data": {
      "text/plain": [
       "1"
      ]
     },
     "execution_count": 1834,
     "metadata": {},
     "output_type": "execute_result"
    }
   ],
   "source": [
    "random.randrange(1,10)"
   ]
  },
  {
   "cell_type": "code",
   "execution_count": 1835,
   "id": "e01d5f1a-e88b-49c3-8e96-91231254200f",
   "metadata": {},
   "outputs": [
    {
     "name": "stdout",
     "output_type": "stream",
     "text": [
      "0.9560342718892494\n"
     ]
    }
   ],
   "source": [
    "random.seed(2) # seed function is a sequence number generator\n",
    "print(random.random())"
   ]
  },
  {
   "cell_type": "code",
   "execution_count": 1836,
   "id": "3a188678-b118-4b0e-8bf3-76a28ff3f6ae",
   "metadata": {},
   "outputs": [
    {
     "name": "stdout",
     "output_type": "stream",
     "text": [
      "0.23796462709189137\n",
      "0.23604808973743452\n",
      "0.6229016948897019\n",
      "0.793340083761663\n"
     ]
    }
   ],
   "source": [
    "random.seed(3)\n",
    "print(random.random())\n",
    "random.seed(4)\n",
    "print(random.random())\n",
    "random.seed(5)\n",
    "print(random.random())\n",
    "random.seed(6)\n",
    "print(random.random())"
   ]
  },
  {
   "cell_type": "code",
   "execution_count": 1837,
   "id": "638fd8a5-ad9c-4a72-82a5-aaba6bf5558c",
   "metadata": {},
   "outputs": [
    {
     "name": "stdout",
     "output_type": "stream",
     "text": [
      "0.32383276483316237\n",
      "0.15084917392450192\n",
      "0.6509344730398537\n",
      "0.07243628666754276\n",
      "0.5358820043066892\n"
     ]
    }
   ],
   "source": [
    "random.seed(7)\n",
    "print(random.random())\n",
    "print(random.random())\n",
    "print(random.random())\n",
    "print(random.random())\n",
    "print(random.random())"
   ]
  },
  {
   "cell_type": "code",
   "execution_count": 1838,
   "id": "b55606a0-e8ee-432c-97ce-40c9ce907312",
   "metadata": {},
   "outputs": [
    {
     "name": "stdout",
     "output_type": "stream",
     "text": [
      "[ 1  2  3  4  5  6  7  8  9 10]\n"
     ]
    }
   ],
   "source": [
    "a = np.arange(1,11)\n",
    "print(a)"
   ]
  },
  {
   "cell_type": "code",
   "execution_count": 1839,
   "id": "37913fa9-62bb-4588-9f47-948a5be8d1cc",
   "metadata": {},
   "outputs": [
    {
     "name": "stdout",
     "output_type": "stream",
     "text": [
      "3\n"
     ]
    }
   ],
   "source": [
    "print(a[2])"
   ]
  },
  {
   "cell_type": "code",
   "execution_count": 1840,
   "id": "a3aea864-8d3d-4ebe-8153-a11b08a2e54e",
   "metadata": {},
   "outputs": [
    {
     "name": "stdout",
     "output_type": "stream",
     "text": [
      "[4 5]\n"
     ]
    }
   ],
   "source": [
    "print(a[3:5])"
   ]
  },
  {
   "cell_type": "code",
   "execution_count": 1841,
   "id": "69ae19c0-a733-4e52-a031-45b9ca82776b",
   "metadata": {},
   "outputs": [
    {
     "name": "stdout",
     "output_type": "stream",
     "text": [
      "[10  9  8  7  6  5  4  3  2  1]\n"
     ]
    }
   ],
   "source": [
    "print(a[::-1])"
   ]
  },
  {
   "cell_type": "code",
   "execution_count": 1842,
   "id": "ed56cc77-0670-4d3d-811b-00dde4b811fa",
   "metadata": {},
   "outputs": [
    {
     "name": "stdout",
     "output_type": "stream",
     "text": [
      "[ 1  4  7 10]\n"
     ]
    }
   ],
   "source": [
    "print(a[::3])"
   ]
  },
  {
   "cell_type": "code",
   "execution_count": 1843,
   "id": "bdca90d5-bda9-4904-9459-f120f5bc01a7",
   "metadata": {},
   "outputs": [
    {
     "name": "stdout",
     "output_type": "stream",
     "text": [
      "[[1 2 3]\n",
      " [4 5 6]\n",
      " [7 8 9]]\n"
     ]
    }
   ],
   "source": [
    "b = np.arange(1,10).reshape(3,3)\n",
    "print(b)"
   ]
  },
  {
   "cell_type": "code",
   "execution_count": 1844,
   "id": "75f3ff95-bc7b-457d-a032-117e7d527b5a",
   "metadata": {},
   "outputs": [
    {
     "name": "stdout",
     "output_type": "stream",
     "text": [
      "9\n"
     ]
    }
   ],
   "source": [
    "print(b[2,2])"
   ]
  },
  {
   "cell_type": "code",
   "execution_count": 1845,
   "id": "46709c8b-f983-41b3-8806-5d2546593bec",
   "metadata": {},
   "outputs": [
    {
     "name": "stdout",
     "output_type": "stream",
     "text": [
      "4\n"
     ]
    }
   ],
   "source": [
    "print(b[1,0])"
   ]
  },
  {
   "cell_type": "code",
   "execution_count": 1846,
   "id": "f78efea2-2c13-4e5b-9203-4042e2787585",
   "metadata": {},
   "outputs": [
    {
     "name": "stdout",
     "output_type": "stream",
     "text": [
      "5\n"
     ]
    }
   ],
   "source": [
    "print(b[1,1])"
   ]
  },
  {
   "cell_type": "code",
   "execution_count": 1847,
   "id": "b19dfff8-0ebf-4af4-97a8-2fb20f46e443",
   "metadata": {},
   "outputs": [
    {
     "name": "stdout",
     "output_type": "stream",
     "text": [
      "3\n"
     ]
    }
   ],
   "source": [
    "print(b[0,2])"
   ]
  },
  {
   "cell_type": "code",
   "execution_count": 1848,
   "id": "0ca4dba3-f22b-446d-a3a0-af266919eff6",
   "metadata": {},
   "outputs": [
    {
     "name": "stdout",
     "output_type": "stream",
     "text": [
      "[[ 1  2  3  4]\n",
      " [ 5  6  7  8]\n",
      " [ 9 10 11 12]\n",
      " [13 14 15 16]]\n"
     ]
    }
   ],
   "source": [
    "d = np.arange(1,17).reshape(4,4)\n",
    "print(d)"
   ]
  },
  {
   "cell_type": "code",
   "execution_count": 1849,
   "id": "4a0bca2a-a048-4d3a-8c1a-1a28cea751e5",
   "metadata": {},
   "outputs": [
    {
     "name": "stdout",
     "output_type": "stream",
     "text": [
      "[[ 5  6]\n",
      " [ 9 10]]\n"
     ]
    }
   ],
   "source": [
    "print(d[1:3,0:2])"
   ]
  },
  {
   "cell_type": "code",
   "execution_count": 1850,
   "id": "ccec0a36-01ca-44cc-b165-b40ee633f2cc",
   "metadata": {},
   "outputs": [
    {
     "name": "stdout",
     "output_type": "stream",
     "text": [
      "[[2 3]\n",
      " [6 7]]\n"
     ]
    }
   ],
   "source": [
    "print(d[0:2,1:3])"
   ]
  },
  {
   "cell_type": "code",
   "execution_count": 1851,
   "id": "66c09034-a13e-4ac0-ae09-b89a7c5d7cbd",
   "metadata": {},
   "outputs": [
    {
     "name": "stdout",
     "output_type": "stream",
     "text": [
      "[[ 5  6  7]\n",
      " [ 9 10 11]\n",
      " [13 14 15]]\n"
     ]
    }
   ],
   "source": [
    "print(d[1:,:3])"
   ]
  },
  {
   "cell_type": "code",
   "execution_count": 1852,
   "id": "cfeb9e82-a705-402f-ad73-5181a405624a",
   "metadata": {},
   "outputs": [
    {
     "name": "stdout",
     "output_type": "stream",
     "text": [
      "[[ 6  7  8]\n",
      " [10 11 12]\n",
      " [14 15 16]]\n"
     ]
    }
   ],
   "source": [
    "print(d[1:,1:])"
   ]
  },
  {
   "cell_type": "code",
   "execution_count": 1853,
   "id": "b3be2ce8-4a4e-4205-9bae-888ec232397e",
   "metadata": {},
   "outputs": [
    {
     "name": "stdout",
     "output_type": "stream",
     "text": [
      "[[ 9 10 11]\n",
      " [13 14 15]]\n"
     ]
    }
   ],
   "source": [
    "print(d[2:,:3])"
   ]
  },
  {
   "cell_type": "code",
   "execution_count": 1854,
   "id": "9b72de4e-3d0c-434b-bbe0-9c8c43f25211",
   "metadata": {},
   "outputs": [
    {
     "name": "stdout",
     "output_type": "stream",
     "text": [
      "[[ 9 10]\n",
      " [13 14]]\n"
     ]
    }
   ],
   "source": [
    "print(d[2:,0:2])"
   ]
  },
  {
   "cell_type": "code",
   "execution_count": 1855,
   "id": "1c35795f-e6fe-4e34-b8fc-a944de9240c7",
   "metadata": {},
   "outputs": [
    {
     "name": "stdout",
     "output_type": "stream",
     "text": [
      "[ 1  2  3  4  5  6  7  8  9 10]\n"
     ]
    }
   ],
   "source": [
    "e = np.arange(1,11)\n",
    "print(e)"
   ]
  },
  {
   "cell_type": "code",
   "execution_count": 1856,
   "id": "65e54516-d666-46cd-a3af-a7cd72982bb7",
   "metadata": {},
   "outputs": [
    {
     "name": "stdout",
     "output_type": "stream",
     "text": [
      "[1 2 3 4 5]\n"
     ]
    }
   ],
   "source": [
    "print(e[0:5])"
   ]
  },
  {
   "cell_type": "code",
   "execution_count": 1857,
   "id": "0a2b0463-7082-4c34-894f-46b1e17bf5aa",
   "metadata": {},
   "outputs": [
    {
     "name": "stdout",
     "output_type": "stream",
     "text": [
      "[1 2 3 4 5]\n"
     ]
    }
   ],
   "source": [
    "print(e[:5])"
   ]
  },
  {
   "cell_type": "code",
   "execution_count": 1858,
   "id": "281668aa-9740-4224-9fda-037565c3e81e",
   "metadata": {},
   "outputs": [
    {
     "name": "stdout",
     "output_type": "stream",
     "text": [
      "[ 6  7  8  9 10]\n"
     ]
    }
   ],
   "source": [
    "print(e[5:])"
   ]
  },
  {
   "cell_type": "code",
   "execution_count": 1859,
   "id": "84ed8d78-48c3-4564-a4be-a777ab976394",
   "metadata": {},
   "outputs": [
    {
     "name": "stdout",
     "output_type": "stream",
     "text": [
      "[1, 2, 3, 4, 5, 6, 7, 8, 9, 10]\n",
      "[1, 2, 3, 4, 5, 6, 7, 8, 9, 10, 1, 2, 3, 4, 5, 6, 7, 8, 9, 10]\n",
      "[1, 2, 3, 4, 5, 6, 7, 8, 9, 10, 100]\n"
     ]
    }
   ],
   "source": [
    "x = list(range(1,11))\n",
    "print(x)\n",
    "print(x*2) # replication\n",
    "print(x + [100])"
   ]
  },
  {
   "cell_type": "code",
   "execution_count": 1860,
   "id": "cf76be84-a5d1-4757-8d9c-1c09ea2f6c35",
   "metadata": {},
   "outputs": [
    {
     "name": "stdout",
     "output_type": "stream",
     "text": [
      "[ 1  2  3  4  5  6  7  8  9 10]\n",
      "[ 2  4  6  8 10 12 14 16 18 20]\n",
      "[101 102 103 104 105 106 107 108 109 110]\n"
     ]
    }
   ],
   "source": [
    "y = np.arange(1,11)\n",
    "print(y)\n",
    "print(y*2)\n",
    "print(y+100)"
   ]
  },
  {
   "cell_type": "code",
   "execution_count": 1861,
   "id": "ce7b467c-ebb7-4ff2-9562-f6dc2fbb44c3",
   "metadata": {},
   "outputs": [
    {
     "name": "stdout",
     "output_type": "stream",
     "text": [
      "[ 1  2  3  4  5  6  7  8  9 10]\n"
     ]
    }
   ],
   "source": [
    "print(y)"
   ]
  },
  {
   "cell_type": "code",
   "execution_count": 1862,
   "id": "f69906de-cd18-45d8-b8a1-1ccc5a239d05",
   "metadata": {},
   "outputs": [
    {
     "name": "stdout",
     "output_type": "stream",
     "text": [
      "[False False False False  True  True  True  True  True  True]\n"
     ]
    }
   ],
   "source": [
    "print(y>4)"
   ]
  },
  {
   "cell_type": "code",
   "execution_count": 1863,
   "id": "8787346a-050c-49c8-87f0-d665c229a512",
   "metadata": {},
   "outputs": [
    {
     "name": "stdout",
     "output_type": "stream",
     "text": [
      "[False  True False  True False  True False  True False  True]\n"
     ]
    }
   ],
   "source": [
    "print(y%2==0)"
   ]
  },
  {
   "cell_type": "code",
   "execution_count": 1864,
   "id": "36994d97-8f70-4b98-8c6e-879df2dbda7f",
   "metadata": {},
   "outputs": [
    {
     "name": "stdout",
     "output_type": "stream",
     "text": [
      "[ 5  6  7  8  9 10]\n"
     ]
    }
   ],
   "source": [
    "mask = y>4\n",
    "print(y[mask]) # masking"
   ]
  },
  {
   "cell_type": "code",
   "execution_count": 1865,
   "id": "c89c57c9-fd40-4e4d-a450-443799a03d07",
   "metadata": {},
   "outputs": [
    {
     "name": "stdout",
     "output_type": "stream",
     "text": [
      "[ 2  4  6  8 10]\n"
     ]
    }
   ],
   "source": [
    "mask = y%2 == 0\n",
    "print(y[mask])"
   ]
  },
  {
   "cell_type": "code",
   "execution_count": 1866,
   "id": "9a600770-e03b-442c-885d-03b29b2d73ea",
   "metadata": {},
   "outputs": [
    {
     "name": "stdout",
     "output_type": "stream",
     "text": [
      "[1 3 5 7 9]\n"
     ]
    }
   ],
   "source": [
    "mask = y%2 == 1\n",
    "print(y[mask])"
   ]
  },
  {
   "cell_type": "code",
   "execution_count": 1867,
   "id": "454e2bfe-ca4b-49b2-a6be-6e4d3ccf66ef",
   "metadata": {},
   "outputs": [
    {
     "name": "stdout",
     "output_type": "stream",
     "text": [
      "[ 8  9 10]\n"
     ]
    }
   ],
   "source": [
    "mask = y**2 > 50\n",
    "print(y[mask])"
   ]
  },
  {
   "cell_type": "code",
   "execution_count": 1868,
   "id": "ad641508-ea2a-456c-ab6b-6ef14f600cda",
   "metadata": {},
   "outputs": [
    {
     "name": "stdout",
     "output_type": "stream",
     "text": [
      "[ 5  6  7  8  9 10]\n"
     ]
    }
   ],
   "source": [
    "mask = y**3 > 100\n",
    "print(y[mask])"
   ]
  },
  {
   "cell_type": "code",
   "execution_count": 1869,
   "id": "f7dc8ce2-ecf4-4df9-a2b3-55a00c5bc6f1",
   "metadata": {},
   "outputs": [
    {
     "data": {
      "text/plain": [
       "array([], dtype='<U10')"
      ]
     },
     "execution_count": 1869,
     "metadata": {},
     "output_type": "execute_result"
    }
   ],
   "source": [
    "s = np.array([\"jay\",\"raj\",\"jay\",\"kumar\",\"mrityunjay\",\"kumar\",\"jay\",\"rohit\",\"suraj\",\"rvi\"])\n",
    "mask = s == \"suyash\"\n",
    "s[mask]"
   ]
  },
  {
   "cell_type": "code",
   "execution_count": 1870,
   "id": "b24b8d20-db18-46e5-b868-6a93c40556e3",
   "metadata": {},
   "outputs": [
    {
     "data": {
      "text/plain": [
       "array([], dtype='<U10')"
      ]
     },
     "execution_count": 1870,
     "metadata": {},
     "output_type": "execute_result"
    }
   ],
   "source": [
    "s[s == \"suyash\"]"
   ]
  },
  {
   "cell_type": "code",
   "execution_count": 1871,
   "id": "2a1b0d60-dfce-403d-bece-585a60d7f9dc",
   "metadata": {},
   "outputs": [
    {
     "data": {
      "text/plain": [
       "array(['jay', 'raj', 'jay', 'kumar', 'mrityunjay', 'kumar', 'jay',\n",
       "       'rohit', 'suraj', 'rvi'], dtype='<U10')"
      ]
     },
     "execution_count": 1871,
     "metadata": {},
     "output_type": "execute_result"
    }
   ],
   "source": [
    "s[s != \"suyash\"]"
   ]
  },
  {
   "cell_type": "code",
   "execution_count": 1872,
   "id": "dcec12d6-58e4-44d9-8aaf-d958724d9ec0",
   "metadata": {},
   "outputs": [
    {
     "data": {
      "text/plain": [
       "array(['jay', 'raj', 'jay', 'kumar', 'mrityunjay', 'kumar', 'jay',\n",
       "       'rohit', 'suraj', 'rvi'], dtype='<U10')"
      ]
     },
     "execution_count": 1872,
     "metadata": {},
     "output_type": "execute_result"
    }
   ],
   "source": [
    "s"
   ]
  },
  {
   "cell_type": "code",
   "execution_count": 1873,
   "id": "8d2b8399-bdb2-4958-ace6-98a53bddd650",
   "metadata": {},
   "outputs": [],
   "source": [
    "c1 = (s != 'suyash')\n",
    "c2 = (s != 'suraj')"
   ]
  },
  {
   "cell_type": "code",
   "execution_count": 1874,
   "id": "db098b42-7e26-448a-9bc9-3d400ba88d00",
   "metadata": {},
   "outputs": [
    {
     "data": {
      "text/plain": [
       "array([ True,  True,  True,  True,  True,  True,  True,  True,  True,\n",
       "        True])"
      ]
     },
     "execution_count": 1874,
     "metadata": {},
     "output_type": "execute_result"
    }
   ],
   "source": [
    "c1"
   ]
  },
  {
   "cell_type": "code",
   "execution_count": 1875,
   "id": "4b0ae773-27e3-4286-95de-bcc7bce54994",
   "metadata": {},
   "outputs": [
    {
     "data": {
      "text/plain": [
       "array([ True,  True,  True,  True,  True,  True,  True,  True, False,\n",
       "        True])"
      ]
     },
     "execution_count": 1875,
     "metadata": {},
     "output_type": "execute_result"
    }
   ],
   "source": [
    "c2"
   ]
  },
  {
   "cell_type": "code",
   "execution_count": 1876,
   "id": "afe6fcc3-8e2d-4cdd-b893-0e457f7bdc43",
   "metadata": {},
   "outputs": [
    {
     "data": {
      "text/plain": [
       "array([ True,  True,  True,  True,  True,  True,  True,  True, False,\n",
       "        True])"
      ]
     },
     "execution_count": 1876,
     "metadata": {},
     "output_type": "execute_result"
    }
   ],
   "source": [
    "c1 & c2"
   ]
  },
  {
   "cell_type": "code",
   "execution_count": 1877,
   "id": "1eeca229-4730-441e-8572-3e9ae250dca7",
   "metadata": {},
   "outputs": [
    {
     "data": {
      "text/plain": [
       "array([ True,  True,  True,  True,  True,  True,  True,  True,  True,\n",
       "        True])"
      ]
     },
     "execution_count": 1877,
     "metadata": {},
     "output_type": "execute_result"
    }
   ],
   "source": [
    "c1 | c2"
   ]
  },
  {
   "cell_type": "code",
   "execution_count": 1878,
   "id": "735ff9d6-04c7-4c13-8037-69831e538d44",
   "metadata": {},
   "outputs": [
    {
     "data": {
      "text/plain": [
       "array([False, False, False, False, False, False, False, False,  True,\n",
       "       False])"
      ]
     },
     "execution_count": 1878,
     "metadata": {},
     "output_type": "execute_result"
    }
   ],
   "source": [
    "c1 ^ c2"
   ]
  },
  {
   "cell_type": "code",
   "execution_count": 1879,
   "id": "ccd6b9b6-8aa5-46ce-8ef6-dcba32f1fbac",
   "metadata": {},
   "outputs": [
    {
     "data": {
      "text/plain": [
       "array(['jay', 'raj', 'jay', 'kumar', 'mrityunjay', 'kumar', 'jay',\n",
       "       'rohit', 'suraj', 'rvi'], dtype='<U10')"
      ]
     },
     "execution_count": 1879,
     "metadata": {},
     "output_type": "execute_result"
    }
   ],
   "source": [
    "s[c1]"
   ]
  },
  {
   "cell_type": "code",
   "execution_count": 1880,
   "id": "610d078c-47af-4b14-8924-6634dc7a49ee",
   "metadata": {},
   "outputs": [
    {
     "data": {
      "text/plain": [
       "array(['jay', 'raj', 'jay', 'kumar', 'mrityunjay', 'kumar', 'jay',\n",
       "       'rohit', 'rvi'], dtype='<U10')"
      ]
     },
     "execution_count": 1880,
     "metadata": {},
     "output_type": "execute_result"
    }
   ],
   "source": [
    "s[c2]"
   ]
  },
  {
   "cell_type": "code",
   "execution_count": 1881,
   "id": "d60a5ba6-d88a-4301-b9af-ae6402d93bcb",
   "metadata": {},
   "outputs": [
    {
     "data": {
      "text/plain": [
       "array(['jay', 'raj', 'jay', 'kumar', 'mrityunjay', 'kumar', 'jay',\n",
       "       'rohit', 'rvi'], dtype='<U10')"
      ]
     },
     "execution_count": 1881,
     "metadata": {},
     "output_type": "execute_result"
    }
   ],
   "source": [
    "s[c1 & c2]"
   ]
  },
  {
   "cell_type": "code",
   "execution_count": 1882,
   "id": "b0afeaff-0918-4eb8-bf3f-1031c78f8e26",
   "metadata": {},
   "outputs": [
    {
     "data": {
      "text/plain": [
       "array(['jay', 'raj', 'jay', 'kumar', 'mrityunjay', 'kumar', 'jay',\n",
       "       'rohit', 'suraj', 'rvi'], dtype='<U10')"
      ]
     },
     "execution_count": 1882,
     "metadata": {},
     "output_type": "execute_result"
    }
   ],
   "source": [
    "s[c1 | c2]"
   ]
  },
  {
   "cell_type": "code",
   "execution_count": 1883,
   "id": "add734ac-da7e-493d-b7e1-10453cef5774",
   "metadata": {},
   "outputs": [
    {
     "data": {
      "text/plain": [
       "array(['suraj'], dtype='<U10')"
      ]
     },
     "execution_count": 1883,
     "metadata": {},
     "output_type": "execute_result"
    }
   ],
   "source": [
    "s[c1 ^ c2]"
   ]
  },
  {
   "cell_type": "code",
   "execution_count": 1884,
   "id": "29bc1239-9c67-47c9-b06b-e6912fe917d0",
   "metadata": {},
   "outputs": [
    {
     "data": {
      "text/plain": [
       "array([ True,  True,  True,  True, False,  True,  True,  True,  True,\n",
       "        True])"
      ]
     },
     "execution_count": 1884,
     "metadata": {},
     "output_type": "execute_result"
    }
   ],
   "source": [
    "s != 'mrityunjay'"
   ]
  },
  {
   "cell_type": "code",
   "execution_count": 1885,
   "id": "1747318d-6b45-4f8d-a7dd-3c713d9560b9",
   "metadata": {},
   "outputs": [
    {
     "data": {
      "text/plain": [
       "array(['jay', 'raj', 'jay', 'kumar', 'kumar', 'jay', 'rohit', 'suraj',\n",
       "       'rvi'], dtype='<U10')"
      ]
     },
     "execution_count": 1885,
     "metadata": {},
     "output_type": "execute_result"
    }
   ],
   "source": [
    "s[s != 'mrityunjay']"
   ]
  },
  {
   "cell_type": "code",
   "execution_count": 1886,
   "id": "5bfdba80-ba09-4ae0-bc26-535577117cce",
   "metadata": {},
   "outputs": [],
   "source": [
    "s[s != 'mrityunjay'] = 'shiv'"
   ]
  },
  {
   "cell_type": "code",
   "execution_count": 1887,
   "id": "6ddf1233-6de8-49d4-9a9a-2a88e1f81975",
   "metadata": {},
   "outputs": [
    {
     "data": {
      "text/plain": [
       "array(['shiv', 'shiv', 'shiv', 'shiv', 'mrityunjay', 'shiv', 'shiv',\n",
       "       'shiv', 'shiv', 'shiv'], dtype='<U10')"
      ]
     },
     "execution_count": 1887,
     "metadata": {},
     "output_type": "execute_result"
    }
   ],
   "source": [
    "s"
   ]
  },
  {
   "cell_type": "code",
   "execution_count": 1888,
   "id": "5464d916-7336-4aa4-b9ba-7cbc1ca58e84",
   "metadata": {},
   "outputs": [
    {
     "data": {
      "text/plain": [
       "array(['mrityunjay', 'shiv'], dtype='<U10')"
      ]
     },
     "execution_count": 1888,
     "metadata": {},
     "output_type": "execute_result"
    }
   ],
   "source": [
    "np.unique(s)"
   ]
  },
  {
   "cell_type": "code",
   "execution_count": 1889,
   "id": "ca814c49-629b-46fa-b1c6-b294b2b030d4",
   "metadata": {},
   "outputs": [
    {
     "data": {
      "text/plain": [
       "array([ 1,  2,  3,  4,  5,  6,  7,  8,  9, 10])"
      ]
     },
     "execution_count": 1889,
     "metadata": {},
     "output_type": "execute_result"
    }
   ],
   "source": [
    "x = np.arange(1,11)\n",
    "x"
   ]
  },
  {
   "cell_type": "code",
   "execution_count": 1890,
   "id": "fc823faf-226f-49c5-ba79-4afa9dc8ed9c",
   "metadata": {},
   "outputs": [
    {
     "data": {
      "text/plain": [
       "array([4, 5, 6])"
      ]
     },
     "execution_count": 1890,
     "metadata": {},
     "output_type": "execute_result"
    }
   ],
   "source": [
    "x[3:6]"
   ]
  },
  {
   "cell_type": "code",
   "execution_count": 1891,
   "id": "686b021e-a2d5-4011-8148-7ef654146b54",
   "metadata": {},
   "outputs": [],
   "source": [
    "y = x[3:6]"
   ]
  },
  {
   "cell_type": "code",
   "execution_count": 1892,
   "id": "f3123217-3714-41ab-9993-1218bc73bfa5",
   "metadata": {},
   "outputs": [
    {
     "data": {
      "text/plain": [
       "array([4, 5, 6])"
      ]
     },
     "execution_count": 1892,
     "metadata": {},
     "output_type": "execute_result"
    }
   ],
   "source": [
    "y"
   ]
  },
  {
   "cell_type": "code",
   "execution_count": 1893,
   "id": "2fecd852-8bb9-4e68-849d-c916ce7ee6c1",
   "metadata": {},
   "outputs": [],
   "source": [
    "y[:] = 100"
   ]
  },
  {
   "cell_type": "code",
   "execution_count": 1894,
   "id": "d3c65e2d-e91f-412c-bccb-aa12f0fe2616",
   "metadata": {},
   "outputs": [
    {
     "data": {
      "text/plain": [
       "array([100, 100, 100])"
      ]
     },
     "execution_count": 1894,
     "metadata": {},
     "output_type": "execute_result"
    }
   ],
   "source": [
    "y"
   ]
  },
  {
   "cell_type": "code",
   "execution_count": 1895,
   "id": "514577ce-da10-4bc4-8e69-449e4b289041",
   "metadata": {},
   "outputs": [
    {
     "data": {
      "text/plain": [
       "array([  1,   2,   3, 100, 100, 100,   7,   8,   9,  10])"
      ]
     },
     "execution_count": 1895,
     "metadata": {},
     "output_type": "execute_result"
    }
   ],
   "source": [
    "x"
   ]
  },
  {
   "cell_type": "code",
   "execution_count": 1896,
   "id": "dba276f6-c6bc-4608-a2d5-9d40a52e2563",
   "metadata": {},
   "outputs": [
    {
     "data": {
      "text/plain": [
       "array([100, 100, 100])"
      ]
     },
     "execution_count": 1896,
     "metadata": {},
     "output_type": "execute_result"
    }
   ],
   "source": [
    "z = x[3:6].copy()\n",
    "z"
   ]
  },
  {
   "cell_type": "code",
   "execution_count": 1897,
   "id": "7acf8dd5-7269-438e-bd8e-c08e23ac3071",
   "metadata": {},
   "outputs": [],
   "source": [
    "z[:] = 0"
   ]
  },
  {
   "cell_type": "code",
   "execution_count": 1898,
   "id": "46f43ae6-9d18-4d56-9b56-065631b19e2b",
   "metadata": {},
   "outputs": [
    {
     "data": {
      "text/plain": [
       "array([0, 0, 0])"
      ]
     },
     "execution_count": 1898,
     "metadata": {},
     "output_type": "execute_result"
    }
   ],
   "source": [
    "z"
   ]
  },
  {
   "cell_type": "code",
   "execution_count": 1899,
   "id": "0f09b94c-f291-42e8-b4c3-ef2f041344bc",
   "metadata": {},
   "outputs": [
    {
     "data": {
      "text/plain": [
       "array([  1,   2,   3, 100, 100, 100,   7,   8,   9,  10])"
      ]
     },
     "execution_count": 1899,
     "metadata": {},
     "output_type": "execute_result"
    }
   ],
   "source": [
    "x"
   ]
  },
  {
   "cell_type": "code",
   "execution_count": 1900,
   "id": "2f6cbbb6-1800-44c5-8cfc-d0fbfb88e1fc",
   "metadata": {},
   "outputs": [
    {
     "data": {
      "text/plain": [
       "array([[0, 0, 0, 0, 0, 0, 0, 0, 0, 0],\n",
       "       [0, 0, 0, 0, 0, 0, 0, 0, 0, 0],\n",
       "       [0, 0, 0, 0, 0, 0, 0, 0, 0, 0],\n",
       "       [0, 0, 0, 0, 0, 0, 0, 0, 0, 0],\n",
       "       [0, 0, 0, 0, 0, 0, 0, 0, 0, 0],\n",
       "       [0, 0, 0, 0, 0, 0, 0, 0, 0, 0],\n",
       "       [0, 0, 0, 0, 0, 0, 0, 0, 0, 0],\n",
       "       [0, 0, 0, 0, 0, 0, 0, 0, 0, 0],\n",
       "       [0, 0, 0, 0, 0, 0, 0, 0, 0, 0],\n",
       "       [0, 0, 0, 0, 0, 0, 0, 0, 0, 0]])"
      ]
     },
     "execution_count": 1900,
     "metadata": {},
     "output_type": "execute_result"
    }
   ],
   "source": [
    "s = np.zeros((10,10),dtype = int)\n",
    "s"
   ]
  },
  {
   "cell_type": "code",
   "execution_count": 1901,
   "id": "16a4465f-035f-4e6a-a535-44008f664a7f",
   "metadata": {},
   "outputs": [
    {
     "data": {
      "text/plain": [
       "10"
      ]
     },
     "execution_count": 1901,
     "metadata": {},
     "output_type": "execute_result"
    }
   ],
   "source": [
    "slen = s.shape[1]\n",
    "slen"
   ]
  },
  {
   "cell_type": "code",
   "execution_count": 1902,
   "id": "f7f7b92a-6f3f-410a-84e4-fb02005a4848",
   "metadata": {},
   "outputs": [
    {
     "data": {
      "text/plain": [
       "array([[0, 0, 0, 0, 0, 0, 0, 0, 0, 0],\n",
       "       [1, 1, 1, 1, 1, 1, 1, 1, 1, 1],\n",
       "       [2, 2, 2, 2, 2, 2, 2, 2, 2, 2],\n",
       "       [3, 3, 3, 3, 3, 3, 3, 3, 3, 3],\n",
       "       [4, 4, 4, 4, 4, 4, 4, 4, 4, 4],\n",
       "       [5, 5, 5, 5, 5, 5, 5, 5, 5, 5],\n",
       "       [6, 6, 6, 6, 6, 6, 6, 6, 6, 6],\n",
       "       [7, 7, 7, 7, 7, 7, 7, 7, 7, 7],\n",
       "       [8, 8, 8, 8, 8, 8, 8, 8, 8, 8],\n",
       "       [9, 9, 9, 9, 9, 9, 9, 9, 9, 9]])"
      ]
     },
     "execution_count": 1902,
     "metadata": {},
     "output_type": "execute_result"
    }
   ],
   "source": [
    "for i in range(slen):s[i] = i\n",
    "s"
   ]
  },
  {
   "cell_type": "code",
   "execution_count": 1903,
   "id": "805264d6-2312-4a96-b93c-c30d9544f398",
   "metadata": {},
   "outputs": [
    {
     "data": {
      "text/plain": [
       "array([[3, 3, 3, 3, 3, 3, 3, 3, 3, 3],\n",
       "       [4, 4, 4, 4, 4, 4, 4, 4, 4, 4],\n",
       "       [5, 5, 5, 5, 5, 5, 5, 5, 5, 5]])"
      ]
     },
     "execution_count": 1903,
     "metadata": {},
     "output_type": "execute_result"
    }
   ],
   "source": [
    "s[[3,4,5]]"
   ]
  },
  {
   "cell_type": "code",
   "execution_count": 1904,
   "id": "a2d5d394-ffb8-418c-92a5-00da58a28bf9",
   "metadata": {},
   "outputs": [
    {
     "data": {
      "text/plain": [
       "array([[2, 2, 2, 2, 2, 2, 2, 2, 2, 2],\n",
       "       [4, 4, 4, 4, 4, 4, 4, 4, 4, 4],\n",
       "       [6, 6, 6, 6, 6, 6, 6, 6, 6, 6],\n",
       "       [8, 8, 8, 8, 8, 8, 8, 8, 8, 8]])"
      ]
     },
     "execution_count": 1904,
     "metadata": {},
     "output_type": "execute_result"
    }
   ],
   "source": [
    "s[[2,4,6,8]]"
   ]
  },
  {
   "cell_type": "code",
   "execution_count": 1905,
   "id": "b73f3a78-420a-4be1-ab6d-bdb8121651ab",
   "metadata": {},
   "outputs": [],
   "source": [
    "a = np.array([[1,5,6],[1,8,9],[2,-1,6]])\n",
    "b = np.array([[4,8,4],[1,7,5],[6,-8,3]])"
   ]
  },
  {
   "cell_type": "code",
   "execution_count": 1906,
   "id": "c87c8ac4-b3f7-48d9-9164-733c45e4a2cb",
   "metadata": {},
   "outputs": [
    {
     "data": {
      "text/plain": [
       "array([[ 1,  5,  6],\n",
       "       [ 1,  8,  9],\n",
       "       [ 2, -1,  6]])"
      ]
     },
     "execution_count": 1906,
     "metadata": {},
     "output_type": "execute_result"
    }
   ],
   "source": [
    "a"
   ]
  },
  {
   "cell_type": "code",
   "execution_count": 1907,
   "id": "ea99c331-7f60-4e96-9f60-bee4d5601637",
   "metadata": {},
   "outputs": [
    {
     "data": {
      "text/plain": [
       "array([[ 4,  8,  4],\n",
       "       [ 1,  7,  5],\n",
       "       [ 6, -8,  3]])"
      ]
     },
     "execution_count": 1907,
     "metadata": {},
     "output_type": "execute_result"
    }
   ],
   "source": [
    "b"
   ]
  },
  {
   "cell_type": "code",
   "execution_count": 1908,
   "id": "2d2cf87e-5771-42e0-aaa6-d6005db63223",
   "metadata": {},
   "outputs": [
    {
     "data": {
      "text/plain": [
       "array([[ 5, 13, 10],\n",
       "       [ 2, 15, 14],\n",
       "       [ 8, -9,  9]])"
      ]
     },
     "execution_count": 1908,
     "metadata": {},
     "output_type": "execute_result"
    }
   ],
   "source": [
    "np.add(a,b)"
   ]
  },
  {
   "cell_type": "code",
   "execution_count": 1909,
   "id": "00a42813-4ddd-451f-a0a2-362898a53f7c",
   "metadata": {},
   "outputs": [
    {
     "data": {
      "text/plain": [
       "array([[-3, -3,  2],\n",
       "       [ 0,  1,  4],\n",
       "       [-4,  7,  3]])"
      ]
     },
     "execution_count": 1909,
     "metadata": {},
     "output_type": "execute_result"
    }
   ],
   "source": [
    "np.subtract(a,b)"
   ]
  },
  {
   "cell_type": "code",
   "execution_count": 1910,
   "id": "f7fca87e-28cb-4240-98b8-f1c86cc6a6b5",
   "metadata": {},
   "outputs": [
    {
     "data": {
      "text/plain": [
       "array([[ 4, 40, 24],\n",
       "       [ 1, 56, 45],\n",
       "       [12,  8, 18]])"
      ]
     },
     "execution_count": 1910,
     "metadata": {},
     "output_type": "execute_result"
    }
   ],
   "source": [
    "np.multiply(a,b)"
   ]
  },
  {
   "cell_type": "code",
   "execution_count": 1911,
   "id": "ac51faf1-fb6c-4839-bc74-d4b3fbd49534",
   "metadata": {},
   "outputs": [
    {
     "data": {
      "text/plain": [
       "array([[0.25      , 0.625     , 1.5       ],\n",
       "       [1.        , 1.14285714, 1.8       ],\n",
       "       [0.33333333, 0.125     , 2.        ]])"
      ]
     },
     "execution_count": 1911,
     "metadata": {},
     "output_type": "execute_result"
    }
   ],
   "source": [
    "np.divide(a,b)"
   ]
  },
  {
   "cell_type": "code",
   "execution_count": 1912,
   "id": "a7ea84b4-2a71-4f77-84ed-55d70c002673",
   "metadata": {},
   "outputs": [
    {
     "data": {
      "text/plain": [
       "array([[ 1,  5,  2],\n",
       "       [ 0,  1,  4],\n",
       "       [ 2, -1,  0]])"
      ]
     },
     "execution_count": 1912,
     "metadata": {},
     "output_type": "execute_result"
    }
   ],
   "source": [
    "np.mod(a,b)"
   ]
  },
  {
   "cell_type": "code",
   "execution_count": 1913,
   "id": "4084768d-a9b3-4e53-8895-0976619cd067",
   "metadata": {},
   "outputs": [
    {
     "data": {
      "text/plain": [
       "array([[ 45,  -5,  47],\n",
       "       [ 66,  -8,  71],\n",
       "       [ 43, -39,  21]])"
      ]
     },
     "execution_count": 1913,
     "metadata": {},
     "output_type": "execute_result"
    }
   ],
   "source": [
    "np.matmul(a,b)"
   ]
  },
  {
   "cell_type": "code",
   "execution_count": 1918,
   "id": "ba734fa8-3980-4d26-8599-b7464038d117",
   "metadata": {},
   "outputs": [
    {
     "data": {
      "text/plain": [
       "(3, 3)"
      ]
     },
     "execution_count": 1918,
     "metadata": {},
     "output_type": "execute_result"
    }
   ],
   "source": [
    "p = np.ones((3,3),dtype = int)\n",
    "q = np.ones((3,3),dtype = int)\n",
    "np.dot(p,q).shape"
   ]
  },
  {
   "cell_type": "code",
   "execution_count": 1919,
   "id": "7a238b6d-6e13-417d-957f-c25e437a057e",
   "metadata": {},
   "outputs": [
    {
     "data": {
      "text/plain": [
       "array([ 5,  2,  3, 10,  4,  6, 15,  6,  9])"
      ]
     },
     "execution_count": 1919,
     "metadata": {},
     "output_type": "execute_result"
    }
   ],
   "source": [
    "n = np.kron([1,2,3],[5,2,3])\n",
    "n"
   ]
  },
  {
   "cell_type": "code",
   "execution_count": 1920,
   "id": "a476cd1a-8dec-4167-a9c5-dd1887f56b75",
   "metadata": {},
   "outputs": [
    {
     "data": {
      "text/plain": [
       "array([[  4,   8,   4,  20,  40,  20,  24,  48,  24],\n",
       "       [  1,   7,   5,   5,  35,  25,   6,  42,  30],\n",
       "       [  6,  -8,   3,  30, -40,  15,  36, -48,  18],\n",
       "       [  4,   8,   4,  32,  64,  32,  36,  72,  36],\n",
       "       [  1,   7,   5,   8,  56,  40,   9,  63,  45],\n",
       "       [  6,  -8,   3,  48, -64,  24,  54, -72,  27],\n",
       "       [  8,  16,   8,  -4,  -8,  -4,  24,  48,  24],\n",
       "       [  2,  14,  10,  -1,  -7,  -5,   6,  42,  30],\n",
       "       [ 12, -16,   6,  -6,   8,  -3,  36, -48,  18]])"
      ]
     },
     "execution_count": 1920,
     "metadata": {},
     "output_type": "execute_result"
    }
   ],
   "source": [
    "np.kron(a,b)"
   ]
  },
  {
   "cell_type": "code",
   "execution_count": 1922,
   "id": "43056f82-34e5-47c1-984c-47c316cbfd1d",
   "metadata": {},
   "outputs": [
    {
     "name": "stdout",
     "output_type": "stream",
     "text": [
      "[[[[1 1 1 1]\n",
      "   [1 1 1 1]\n",
      "   [1 1 1 1]\n",
      "   ...\n",
      "   [1 1 1 1]\n",
      "   [1 1 1 1]\n",
      "   [1 1 1 1]]\n",
      "\n",
      "  [[1 1 1 1]\n",
      "   [1 1 1 1]\n",
      "   [1 1 1 1]\n",
      "   ...\n",
      "   [1 1 1 1]\n",
      "   [1 1 1 1]\n",
      "   [1 1 1 1]]\n",
      "\n",
      "  [[1 1 1 1]\n",
      "   [1 1 1 1]\n",
      "   [1 1 1 1]\n",
      "   ...\n",
      "   [1 1 1 1]\n",
      "   [1 1 1 1]\n",
      "   [1 1 1 1]]\n",
      "\n",
      "  [[1 1 1 1]\n",
      "   [1 1 1 1]\n",
      "   [1 1 1 1]\n",
      "   ...\n",
      "   [1 1 1 1]\n",
      "   [1 1 1 1]\n",
      "   [1 1 1 1]]\n",
      "\n",
      "  [[1 1 1 1]\n",
      "   [1 1 1 1]\n",
      "   [1 1 1 1]\n",
      "   ...\n",
      "   [1 1 1 1]\n",
      "   [1 1 1 1]\n",
      "   [1 1 1 1]]]\n",
      "\n",
      "\n",
      " [[[1 1 1 1]\n",
      "   [1 1 1 1]\n",
      "   [1 1 1 1]\n",
      "   ...\n",
      "   [1 1 1 1]\n",
      "   [1 1 1 1]\n",
      "   [1 1 1 1]]\n",
      "\n",
      "  [[1 1 1 1]\n",
      "   [1 1 1 1]\n",
      "   [1 1 1 1]\n",
      "   ...\n",
      "   [1 1 1 1]\n",
      "   [1 1 1 1]\n",
      "   [1 1 1 1]]\n",
      "\n",
      "  [[1 1 1 1]\n",
      "   [1 1 1 1]\n",
      "   [1 1 1 1]\n",
      "   ...\n",
      "   [1 1 1 1]\n",
      "   [1 1 1 1]\n",
      "   [1 1 1 1]]\n",
      "\n",
      "  [[1 1 1 1]\n",
      "   [1 1 1 1]\n",
      "   [1 1 1 1]\n",
      "   ...\n",
      "   [1 1 1 1]\n",
      "   [1 1 1 1]\n",
      "   [1 1 1 1]]\n",
      "\n",
      "  [[1 1 1 1]\n",
      "   [1 1 1 1]\n",
      "   [1 1 1 1]\n",
      "   ...\n",
      "   [1 1 1 1]\n",
      "   [1 1 1 1]\n",
      "   [1 1 1 1]]]\n",
      "\n",
      "\n",
      " [[[1 1 1 1]\n",
      "   [1 1 1 1]\n",
      "   [1 1 1 1]\n",
      "   ...\n",
      "   [1 1 1 1]\n",
      "   [1 1 1 1]\n",
      "   [1 1 1 1]]\n",
      "\n",
      "  [[1 1 1 1]\n",
      "   [1 1 1 1]\n",
      "   [1 1 1 1]\n",
      "   ...\n",
      "   [1 1 1 1]\n",
      "   [1 1 1 1]\n",
      "   [1 1 1 1]]\n",
      "\n",
      "  [[1 1 1 1]\n",
      "   [1 1 1 1]\n",
      "   [1 1 1 1]\n",
      "   ...\n",
      "   [1 1 1 1]\n",
      "   [1 1 1 1]\n",
      "   [1 1 1 1]]\n",
      "\n",
      "  [[1 1 1 1]\n",
      "   [1 1 1 1]\n",
      "   [1 1 1 1]\n",
      "   ...\n",
      "   [1 1 1 1]\n",
      "   [1 1 1 1]\n",
      "   [1 1 1 1]]\n",
      "\n",
      "  [[1 1 1 1]\n",
      "   [1 1 1 1]\n",
      "   [1 1 1 1]\n",
      "   ...\n",
      "   [1 1 1 1]\n",
      "   [1 1 1 1]\n",
      "   [1 1 1 1]]]\n",
      "\n",
      "\n",
      " ...\n",
      "\n",
      "\n",
      " [[[1 1 1 1]\n",
      "   [1 1 1 1]\n",
      "   [1 1 1 1]\n",
      "   ...\n",
      "   [1 1 1 1]\n",
      "   [1 1 1 1]\n",
      "   [1 1 1 1]]\n",
      "\n",
      "  [[1 1 1 1]\n",
      "   [1 1 1 1]\n",
      "   [1 1 1 1]\n",
      "   ...\n",
      "   [1 1 1 1]\n",
      "   [1 1 1 1]\n",
      "   [1 1 1 1]]\n",
      "\n",
      "  [[1 1 1 1]\n",
      "   [1 1 1 1]\n",
      "   [1 1 1 1]\n",
      "   ...\n",
      "   [1 1 1 1]\n",
      "   [1 1 1 1]\n",
      "   [1 1 1 1]]\n",
      "\n",
      "  [[1 1 1 1]\n",
      "   [1 1 1 1]\n",
      "   [1 1 1 1]\n",
      "   ...\n",
      "   [1 1 1 1]\n",
      "   [1 1 1 1]\n",
      "   [1 1 1 1]]\n",
      "\n",
      "  [[1 1 1 1]\n",
      "   [1 1 1 1]\n",
      "   [1 1 1 1]\n",
      "   ...\n",
      "   [1 1 1 1]\n",
      "   [1 1 1 1]\n",
      "   [1 1 1 1]]]\n",
      "\n",
      "\n",
      " [[[1 1 1 1]\n",
      "   [1 1 1 1]\n",
      "   [1 1 1 1]\n",
      "   ...\n",
      "   [1 1 1 1]\n",
      "   [1 1 1 1]\n",
      "   [1 1 1 1]]\n",
      "\n",
      "  [[1 1 1 1]\n",
      "   [1 1 1 1]\n",
      "   [1 1 1 1]\n",
      "   ...\n",
      "   [1 1 1 1]\n",
      "   [1 1 1 1]\n",
      "   [1 1 1 1]]\n",
      "\n",
      "  [[1 1 1 1]\n",
      "   [1 1 1 1]\n",
      "   [1 1 1 1]\n",
      "   ...\n",
      "   [1 1 1 1]\n",
      "   [1 1 1 1]\n",
      "   [1 1 1 1]]\n",
      "\n",
      "  [[1 1 1 1]\n",
      "   [1 1 1 1]\n",
      "   [1 1 1 1]\n",
      "   ...\n",
      "   [1 1 1 1]\n",
      "   [1 1 1 1]\n",
      "   [1 1 1 1]]\n",
      "\n",
      "  [[1 1 1 1]\n",
      "   [1 1 1 1]\n",
      "   [1 1 1 1]\n",
      "   ...\n",
      "   [1 1 1 1]\n",
      "   [1 1 1 1]\n",
      "   [1 1 1 1]]]\n",
      "\n",
      "\n",
      " [[[1 1 1 1]\n",
      "   [1 1 1 1]\n",
      "   [1 1 1 1]\n",
      "   ...\n",
      "   [1 1 1 1]\n",
      "   [1 1 1 1]\n",
      "   [1 1 1 1]]\n",
      "\n",
      "  [[1 1 1 1]\n",
      "   [1 1 1 1]\n",
      "   [1 1 1 1]\n",
      "   ...\n",
      "   [1 1 1 1]\n",
      "   [1 1 1 1]\n",
      "   [1 1 1 1]]\n",
      "\n",
      "  [[1 1 1 1]\n",
      "   [1 1 1 1]\n",
      "   [1 1 1 1]\n",
      "   ...\n",
      "   [1 1 1 1]\n",
      "   [1 1 1 1]\n",
      "   [1 1 1 1]]\n",
      "\n",
      "  [[1 1 1 1]\n",
      "   [1 1 1 1]\n",
      "   [1 1 1 1]\n",
      "   ...\n",
      "   [1 1 1 1]\n",
      "   [1 1 1 1]\n",
      "   [1 1 1 1]]\n",
      "\n",
      "  [[1 1 1 1]\n",
      "   [1 1 1 1]\n",
      "   [1 1 1 1]\n",
      "   ...\n",
      "   [1 1 1 1]\n",
      "   [1 1 1 1]\n",
      "   [1 1 1 1]]]]\n",
      "[[[[1 1 1 1]\n",
      "   [1 1 1 1]\n",
      "   [1 1 1 1]\n",
      "   ...\n",
      "   [1 1 1 1]\n",
      "   [1 1 1 1]\n",
      "   [1 1 1 1]]\n",
      "\n",
      "  [[1 1 1 1]\n",
      "   [1 1 1 1]\n",
      "   [1 1 1 1]\n",
      "   ...\n",
      "   [1 1 1 1]\n",
      "   [1 1 1 1]\n",
      "   [1 1 1 1]]\n",
      "\n",
      "  [[1 1 1 1]\n",
      "   [1 1 1 1]\n",
      "   [1 1 1 1]\n",
      "   ...\n",
      "   [1 1 1 1]\n",
      "   [1 1 1 1]\n",
      "   [1 1 1 1]]\n",
      "\n",
      "  [[1 1 1 1]\n",
      "   [1 1 1 1]\n",
      "   [1 1 1 1]\n",
      "   ...\n",
      "   [1 1 1 1]\n",
      "   [1 1 1 1]\n",
      "   [1 1 1 1]]\n",
      "\n",
      "  [[1 1 1 1]\n",
      "   [1 1 1 1]\n",
      "   [1 1 1 1]\n",
      "   ...\n",
      "   [1 1 1 1]\n",
      "   [1 1 1 1]\n",
      "   [1 1 1 1]]]\n",
      "\n",
      "\n",
      " [[[1 1 1 1]\n",
      "   [1 1 1 1]\n",
      "   [1 1 1 1]\n",
      "   ...\n",
      "   [1 1 1 1]\n",
      "   [1 1 1 1]\n",
      "   [1 1 1 1]]\n",
      "\n",
      "  [[1 1 1 1]\n",
      "   [1 1 1 1]\n",
      "   [1 1 1 1]\n",
      "   ...\n",
      "   [1 1 1 1]\n",
      "   [1 1 1 1]\n",
      "   [1 1 1 1]]\n",
      "\n",
      "  [[1 1 1 1]\n",
      "   [1 1 1 1]\n",
      "   [1 1 1 1]\n",
      "   ...\n",
      "   [1 1 1 1]\n",
      "   [1 1 1 1]\n",
      "   [1 1 1 1]]\n",
      "\n",
      "  [[1 1 1 1]\n",
      "   [1 1 1 1]\n",
      "   [1 1 1 1]\n",
      "   ...\n",
      "   [1 1 1 1]\n",
      "   [1 1 1 1]\n",
      "   [1 1 1 1]]\n",
      "\n",
      "  [[1 1 1 1]\n",
      "   [1 1 1 1]\n",
      "   [1 1 1 1]\n",
      "   ...\n",
      "   [1 1 1 1]\n",
      "   [1 1 1 1]\n",
      "   [1 1 1 1]]]\n",
      "\n",
      "\n",
      " [[[1 1 1 1]\n",
      "   [1 1 1 1]\n",
      "   [1 1 1 1]\n",
      "   ...\n",
      "   [1 1 1 1]\n",
      "   [1 1 1 1]\n",
      "   [1 1 1 1]]\n",
      "\n",
      "  [[1 1 1 1]\n",
      "   [1 1 1 1]\n",
      "   [1 1 1 1]\n",
      "   ...\n",
      "   [1 1 1 1]\n",
      "   [1 1 1 1]\n",
      "   [1 1 1 1]]\n",
      "\n",
      "  [[1 1 1 1]\n",
      "   [1 1 1 1]\n",
      "   [1 1 1 1]\n",
      "   ...\n",
      "   [1 1 1 1]\n",
      "   [1 1 1 1]\n",
      "   [1 1 1 1]]\n",
      "\n",
      "  [[1 1 1 1]\n",
      "   [1 1 1 1]\n",
      "   [1 1 1 1]\n",
      "   ...\n",
      "   [1 1 1 1]\n",
      "   [1 1 1 1]\n",
      "   [1 1 1 1]]\n",
      "\n",
      "  [[1 1 1 1]\n",
      "   [1 1 1 1]\n",
      "   [1 1 1 1]\n",
      "   ...\n",
      "   [1 1 1 1]\n",
      "   [1 1 1 1]\n",
      "   [1 1 1 1]]]\n",
      "\n",
      "\n",
      " ...\n",
      "\n",
      "\n",
      " [[[1 1 1 1]\n",
      "   [1 1 1 1]\n",
      "   [1 1 1 1]\n",
      "   ...\n",
      "   [1 1 1 1]\n",
      "   [1 1 1 1]\n",
      "   [1 1 1 1]]\n",
      "\n",
      "  [[1 1 1 1]\n",
      "   [1 1 1 1]\n",
      "   [1 1 1 1]\n",
      "   ...\n",
      "   [1 1 1 1]\n",
      "   [1 1 1 1]\n",
      "   [1 1 1 1]]\n",
      "\n",
      "  [[1 1 1 1]\n",
      "   [1 1 1 1]\n",
      "   [1 1 1 1]\n",
      "   ...\n",
      "   [1 1 1 1]\n",
      "   [1 1 1 1]\n",
      "   [1 1 1 1]]\n",
      "\n",
      "  [[1 1 1 1]\n",
      "   [1 1 1 1]\n",
      "   [1 1 1 1]\n",
      "   ...\n",
      "   [1 1 1 1]\n",
      "   [1 1 1 1]\n",
      "   [1 1 1 1]]\n",
      "\n",
      "  [[1 1 1 1]\n",
      "   [1 1 1 1]\n",
      "   [1 1 1 1]\n",
      "   ...\n",
      "   [1 1 1 1]\n",
      "   [1 1 1 1]\n",
      "   [1 1 1 1]]]\n",
      "\n",
      "\n",
      " [[[1 1 1 1]\n",
      "   [1 1 1 1]\n",
      "   [1 1 1 1]\n",
      "   ...\n",
      "   [1 1 1 1]\n",
      "   [1 1 1 1]\n",
      "   [1 1 1 1]]\n",
      "\n",
      "  [[1 1 1 1]\n",
      "   [1 1 1 1]\n",
      "   [1 1 1 1]\n",
      "   ...\n",
      "   [1 1 1 1]\n",
      "   [1 1 1 1]\n",
      "   [1 1 1 1]]\n",
      "\n",
      "  [[1 1 1 1]\n",
      "   [1 1 1 1]\n",
      "   [1 1 1 1]\n",
      "   ...\n",
      "   [1 1 1 1]\n",
      "   [1 1 1 1]\n",
      "   [1 1 1 1]]\n",
      "\n",
      "  [[1 1 1 1]\n",
      "   [1 1 1 1]\n",
      "   [1 1 1 1]\n",
      "   ...\n",
      "   [1 1 1 1]\n",
      "   [1 1 1 1]\n",
      "   [1 1 1 1]]\n",
      "\n",
      "  [[1 1 1 1]\n",
      "   [1 1 1 1]\n",
      "   [1 1 1 1]\n",
      "   ...\n",
      "   [1 1 1 1]\n",
      "   [1 1 1 1]\n",
      "   [1 1 1 1]]]\n",
      "\n",
      "\n",
      " [[[1 1 1 1]\n",
      "   [1 1 1 1]\n",
      "   [1 1 1 1]\n",
      "   ...\n",
      "   [1 1 1 1]\n",
      "   [1 1 1 1]\n",
      "   [1 1 1 1]]\n",
      "\n",
      "  [[1 1 1 1]\n",
      "   [1 1 1 1]\n",
      "   [1 1 1 1]\n",
      "   ...\n",
      "   [1 1 1 1]\n",
      "   [1 1 1 1]\n",
      "   [1 1 1 1]]\n",
      "\n",
      "  [[1 1 1 1]\n",
      "   [1 1 1 1]\n",
      "   [1 1 1 1]\n",
      "   ...\n",
      "   [1 1 1 1]\n",
      "   [1 1 1 1]\n",
      "   [1 1 1 1]]\n",
      "\n",
      "  [[1 1 1 1]\n",
      "   [1 1 1 1]\n",
      "   [1 1 1 1]\n",
      "   ...\n",
      "   [1 1 1 1]\n",
      "   [1 1 1 1]\n",
      "   [1 1 1 1]]\n",
      "\n",
      "  [[1 1 1 1]\n",
      "   [1 1 1 1]\n",
      "   [1 1 1 1]\n",
      "   ...\n",
      "   [1 1 1 1]\n",
      "   [1 1 1 1]\n",
      "   [1 1 1 1]]]]\n"
     ]
    }
   ],
   "source": [
    "a = np.ones([9,5,7,4],dtype = int)\n",
    "b = np.ones([9,5,7,4],dtype = int)\n",
    "print(a)\n",
    "print(b)"
   ]
  },
  {
   "cell_type": "code",
   "execution_count": 1923,
   "id": "d9b7ce99-c24a-4b99-b871-bbb767d1eae8",
   "metadata": {},
   "outputs": [
    {
     "data": {
      "text/plain": [
       "array([[[[1, 1, 1, ..., 1, 1, 1],\n",
       "         [1, 1, 1, ..., 1, 1, 1],\n",
       "         [1, 1, 1, ..., 1, 1, 1],\n",
       "         ...,\n",
       "         [1, 1, 1, ..., 1, 1, 1],\n",
       "         [1, 1, 1, ..., 1, 1, 1],\n",
       "         [1, 1, 1, ..., 1, 1, 1]],\n",
       "\n",
       "        [[1, 1, 1, ..., 1, 1, 1],\n",
       "         [1, 1, 1, ..., 1, 1, 1],\n",
       "         [1, 1, 1, ..., 1, 1, 1],\n",
       "         ...,\n",
       "         [1, 1, 1, ..., 1, 1, 1],\n",
       "         [1, 1, 1, ..., 1, 1, 1],\n",
       "         [1, 1, 1, ..., 1, 1, 1]],\n",
       "\n",
       "        [[1, 1, 1, ..., 1, 1, 1],\n",
       "         [1, 1, 1, ..., 1, 1, 1],\n",
       "         [1, 1, 1, ..., 1, 1, 1],\n",
       "         ...,\n",
       "         [1, 1, 1, ..., 1, 1, 1],\n",
       "         [1, 1, 1, ..., 1, 1, 1],\n",
       "         [1, 1, 1, ..., 1, 1, 1]],\n",
       "\n",
       "        ...,\n",
       "\n",
       "        [[1, 1, 1, ..., 1, 1, 1],\n",
       "         [1, 1, 1, ..., 1, 1, 1],\n",
       "         [1, 1, 1, ..., 1, 1, 1],\n",
       "         ...,\n",
       "         [1, 1, 1, ..., 1, 1, 1],\n",
       "         [1, 1, 1, ..., 1, 1, 1],\n",
       "         [1, 1, 1, ..., 1, 1, 1]],\n",
       "\n",
       "        [[1, 1, 1, ..., 1, 1, 1],\n",
       "         [1, 1, 1, ..., 1, 1, 1],\n",
       "         [1, 1, 1, ..., 1, 1, 1],\n",
       "         ...,\n",
       "         [1, 1, 1, ..., 1, 1, 1],\n",
       "         [1, 1, 1, ..., 1, 1, 1],\n",
       "         [1, 1, 1, ..., 1, 1, 1]],\n",
       "\n",
       "        [[1, 1, 1, ..., 1, 1, 1],\n",
       "         [1, 1, 1, ..., 1, 1, 1],\n",
       "         [1, 1, 1, ..., 1, 1, 1],\n",
       "         ...,\n",
       "         [1, 1, 1, ..., 1, 1, 1],\n",
       "         [1, 1, 1, ..., 1, 1, 1],\n",
       "         [1, 1, 1, ..., 1, 1, 1]]],\n",
       "\n",
       "\n",
       "       [[[1, 1, 1, ..., 1, 1, 1],\n",
       "         [1, 1, 1, ..., 1, 1, 1],\n",
       "         [1, 1, 1, ..., 1, 1, 1],\n",
       "         ...,\n",
       "         [1, 1, 1, ..., 1, 1, 1],\n",
       "         [1, 1, 1, ..., 1, 1, 1],\n",
       "         [1, 1, 1, ..., 1, 1, 1]],\n",
       "\n",
       "        [[1, 1, 1, ..., 1, 1, 1],\n",
       "         [1, 1, 1, ..., 1, 1, 1],\n",
       "         [1, 1, 1, ..., 1, 1, 1],\n",
       "         ...,\n",
       "         [1, 1, 1, ..., 1, 1, 1],\n",
       "         [1, 1, 1, ..., 1, 1, 1],\n",
       "         [1, 1, 1, ..., 1, 1, 1]],\n",
       "\n",
       "        [[1, 1, 1, ..., 1, 1, 1],\n",
       "         [1, 1, 1, ..., 1, 1, 1],\n",
       "         [1, 1, 1, ..., 1, 1, 1],\n",
       "         ...,\n",
       "         [1, 1, 1, ..., 1, 1, 1],\n",
       "         [1, 1, 1, ..., 1, 1, 1],\n",
       "         [1, 1, 1, ..., 1, 1, 1]],\n",
       "\n",
       "        ...,\n",
       "\n",
       "        [[1, 1, 1, ..., 1, 1, 1],\n",
       "         [1, 1, 1, ..., 1, 1, 1],\n",
       "         [1, 1, 1, ..., 1, 1, 1],\n",
       "         ...,\n",
       "         [1, 1, 1, ..., 1, 1, 1],\n",
       "         [1, 1, 1, ..., 1, 1, 1],\n",
       "         [1, 1, 1, ..., 1, 1, 1]],\n",
       "\n",
       "        [[1, 1, 1, ..., 1, 1, 1],\n",
       "         [1, 1, 1, ..., 1, 1, 1],\n",
       "         [1, 1, 1, ..., 1, 1, 1],\n",
       "         ...,\n",
       "         [1, 1, 1, ..., 1, 1, 1],\n",
       "         [1, 1, 1, ..., 1, 1, 1],\n",
       "         [1, 1, 1, ..., 1, 1, 1]],\n",
       "\n",
       "        [[1, 1, 1, ..., 1, 1, 1],\n",
       "         [1, 1, 1, ..., 1, 1, 1],\n",
       "         [1, 1, 1, ..., 1, 1, 1],\n",
       "         ...,\n",
       "         [1, 1, 1, ..., 1, 1, 1],\n",
       "         [1, 1, 1, ..., 1, 1, 1],\n",
       "         [1, 1, 1, ..., 1, 1, 1]]],\n",
       "\n",
       "\n",
       "       [[[1, 1, 1, ..., 1, 1, 1],\n",
       "         [1, 1, 1, ..., 1, 1, 1],\n",
       "         [1, 1, 1, ..., 1, 1, 1],\n",
       "         ...,\n",
       "         [1, 1, 1, ..., 1, 1, 1],\n",
       "         [1, 1, 1, ..., 1, 1, 1],\n",
       "         [1, 1, 1, ..., 1, 1, 1]],\n",
       "\n",
       "        [[1, 1, 1, ..., 1, 1, 1],\n",
       "         [1, 1, 1, ..., 1, 1, 1],\n",
       "         [1, 1, 1, ..., 1, 1, 1],\n",
       "         ...,\n",
       "         [1, 1, 1, ..., 1, 1, 1],\n",
       "         [1, 1, 1, ..., 1, 1, 1],\n",
       "         [1, 1, 1, ..., 1, 1, 1]],\n",
       "\n",
       "        [[1, 1, 1, ..., 1, 1, 1],\n",
       "         [1, 1, 1, ..., 1, 1, 1],\n",
       "         [1, 1, 1, ..., 1, 1, 1],\n",
       "         ...,\n",
       "         [1, 1, 1, ..., 1, 1, 1],\n",
       "         [1, 1, 1, ..., 1, 1, 1],\n",
       "         [1, 1, 1, ..., 1, 1, 1]],\n",
       "\n",
       "        ...,\n",
       "\n",
       "        [[1, 1, 1, ..., 1, 1, 1],\n",
       "         [1, 1, 1, ..., 1, 1, 1],\n",
       "         [1, 1, 1, ..., 1, 1, 1],\n",
       "         ...,\n",
       "         [1, 1, 1, ..., 1, 1, 1],\n",
       "         [1, 1, 1, ..., 1, 1, 1],\n",
       "         [1, 1, 1, ..., 1, 1, 1]],\n",
       "\n",
       "        [[1, 1, 1, ..., 1, 1, 1],\n",
       "         [1, 1, 1, ..., 1, 1, 1],\n",
       "         [1, 1, 1, ..., 1, 1, 1],\n",
       "         ...,\n",
       "         [1, 1, 1, ..., 1, 1, 1],\n",
       "         [1, 1, 1, ..., 1, 1, 1],\n",
       "         [1, 1, 1, ..., 1, 1, 1]],\n",
       "\n",
       "        [[1, 1, 1, ..., 1, 1, 1],\n",
       "         [1, 1, 1, ..., 1, 1, 1],\n",
       "         [1, 1, 1, ..., 1, 1, 1],\n",
       "         ...,\n",
       "         [1, 1, 1, ..., 1, 1, 1],\n",
       "         [1, 1, 1, ..., 1, 1, 1],\n",
       "         [1, 1, 1, ..., 1, 1, 1]]],\n",
       "\n",
       "\n",
       "       ...,\n",
       "\n",
       "\n",
       "       [[[1, 1, 1, ..., 1, 1, 1],\n",
       "         [1, 1, 1, ..., 1, 1, 1],\n",
       "         [1, 1, 1, ..., 1, 1, 1],\n",
       "         ...,\n",
       "         [1, 1, 1, ..., 1, 1, 1],\n",
       "         [1, 1, 1, ..., 1, 1, 1],\n",
       "         [1, 1, 1, ..., 1, 1, 1]],\n",
       "\n",
       "        [[1, 1, 1, ..., 1, 1, 1],\n",
       "         [1, 1, 1, ..., 1, 1, 1],\n",
       "         [1, 1, 1, ..., 1, 1, 1],\n",
       "         ...,\n",
       "         [1, 1, 1, ..., 1, 1, 1],\n",
       "         [1, 1, 1, ..., 1, 1, 1],\n",
       "         [1, 1, 1, ..., 1, 1, 1]],\n",
       "\n",
       "        [[1, 1, 1, ..., 1, 1, 1],\n",
       "         [1, 1, 1, ..., 1, 1, 1],\n",
       "         [1, 1, 1, ..., 1, 1, 1],\n",
       "         ...,\n",
       "         [1, 1, 1, ..., 1, 1, 1],\n",
       "         [1, 1, 1, ..., 1, 1, 1],\n",
       "         [1, 1, 1, ..., 1, 1, 1]],\n",
       "\n",
       "        ...,\n",
       "\n",
       "        [[1, 1, 1, ..., 1, 1, 1],\n",
       "         [1, 1, 1, ..., 1, 1, 1],\n",
       "         [1, 1, 1, ..., 1, 1, 1],\n",
       "         ...,\n",
       "         [1, 1, 1, ..., 1, 1, 1],\n",
       "         [1, 1, 1, ..., 1, 1, 1],\n",
       "         [1, 1, 1, ..., 1, 1, 1]],\n",
       "\n",
       "        [[1, 1, 1, ..., 1, 1, 1],\n",
       "         [1, 1, 1, ..., 1, 1, 1],\n",
       "         [1, 1, 1, ..., 1, 1, 1],\n",
       "         ...,\n",
       "         [1, 1, 1, ..., 1, 1, 1],\n",
       "         [1, 1, 1, ..., 1, 1, 1],\n",
       "         [1, 1, 1, ..., 1, 1, 1]],\n",
       "\n",
       "        [[1, 1, 1, ..., 1, 1, 1],\n",
       "         [1, 1, 1, ..., 1, 1, 1],\n",
       "         [1, 1, 1, ..., 1, 1, 1],\n",
       "         ...,\n",
       "         [1, 1, 1, ..., 1, 1, 1],\n",
       "         [1, 1, 1, ..., 1, 1, 1],\n",
       "         [1, 1, 1, ..., 1, 1, 1]]],\n",
       "\n",
       "\n",
       "       [[[1, 1, 1, ..., 1, 1, 1],\n",
       "         [1, 1, 1, ..., 1, 1, 1],\n",
       "         [1, 1, 1, ..., 1, 1, 1],\n",
       "         ...,\n",
       "         [1, 1, 1, ..., 1, 1, 1],\n",
       "         [1, 1, 1, ..., 1, 1, 1],\n",
       "         [1, 1, 1, ..., 1, 1, 1]],\n",
       "\n",
       "        [[1, 1, 1, ..., 1, 1, 1],\n",
       "         [1, 1, 1, ..., 1, 1, 1],\n",
       "         [1, 1, 1, ..., 1, 1, 1],\n",
       "         ...,\n",
       "         [1, 1, 1, ..., 1, 1, 1],\n",
       "         [1, 1, 1, ..., 1, 1, 1],\n",
       "         [1, 1, 1, ..., 1, 1, 1]],\n",
       "\n",
       "        [[1, 1, 1, ..., 1, 1, 1],\n",
       "         [1, 1, 1, ..., 1, 1, 1],\n",
       "         [1, 1, 1, ..., 1, 1, 1],\n",
       "         ...,\n",
       "         [1, 1, 1, ..., 1, 1, 1],\n",
       "         [1, 1, 1, ..., 1, 1, 1],\n",
       "         [1, 1, 1, ..., 1, 1, 1]],\n",
       "\n",
       "        ...,\n",
       "\n",
       "        [[1, 1, 1, ..., 1, 1, 1],\n",
       "         [1, 1, 1, ..., 1, 1, 1],\n",
       "         [1, 1, 1, ..., 1, 1, 1],\n",
       "         ...,\n",
       "         [1, 1, 1, ..., 1, 1, 1],\n",
       "         [1, 1, 1, ..., 1, 1, 1],\n",
       "         [1, 1, 1, ..., 1, 1, 1]],\n",
       "\n",
       "        [[1, 1, 1, ..., 1, 1, 1],\n",
       "         [1, 1, 1, ..., 1, 1, 1],\n",
       "         [1, 1, 1, ..., 1, 1, 1],\n",
       "         ...,\n",
       "         [1, 1, 1, ..., 1, 1, 1],\n",
       "         [1, 1, 1, ..., 1, 1, 1],\n",
       "         [1, 1, 1, ..., 1, 1, 1]],\n",
       "\n",
       "        [[1, 1, 1, ..., 1, 1, 1],\n",
       "         [1, 1, 1, ..., 1, 1, 1],\n",
       "         [1, 1, 1, ..., 1, 1, 1],\n",
       "         ...,\n",
       "         [1, 1, 1, ..., 1, 1, 1],\n",
       "         [1, 1, 1, ..., 1, 1, 1],\n",
       "         [1, 1, 1, ..., 1, 1, 1]]],\n",
       "\n",
       "\n",
       "       [[[1, 1, 1, ..., 1, 1, 1],\n",
       "         [1, 1, 1, ..., 1, 1, 1],\n",
       "         [1, 1, 1, ..., 1, 1, 1],\n",
       "         ...,\n",
       "         [1, 1, 1, ..., 1, 1, 1],\n",
       "         [1, 1, 1, ..., 1, 1, 1],\n",
       "         [1, 1, 1, ..., 1, 1, 1]],\n",
       "\n",
       "        [[1, 1, 1, ..., 1, 1, 1],\n",
       "         [1, 1, 1, ..., 1, 1, 1],\n",
       "         [1, 1, 1, ..., 1, 1, 1],\n",
       "         ...,\n",
       "         [1, 1, 1, ..., 1, 1, 1],\n",
       "         [1, 1, 1, ..., 1, 1, 1],\n",
       "         [1, 1, 1, ..., 1, 1, 1]],\n",
       "\n",
       "        [[1, 1, 1, ..., 1, 1, 1],\n",
       "         [1, 1, 1, ..., 1, 1, 1],\n",
       "         [1, 1, 1, ..., 1, 1, 1],\n",
       "         ...,\n",
       "         [1, 1, 1, ..., 1, 1, 1],\n",
       "         [1, 1, 1, ..., 1, 1, 1],\n",
       "         [1, 1, 1, ..., 1, 1, 1]],\n",
       "\n",
       "        ...,\n",
       "\n",
       "        [[1, 1, 1, ..., 1, 1, 1],\n",
       "         [1, 1, 1, ..., 1, 1, 1],\n",
       "         [1, 1, 1, ..., 1, 1, 1],\n",
       "         ...,\n",
       "         [1, 1, 1, ..., 1, 1, 1],\n",
       "         [1, 1, 1, ..., 1, 1, 1],\n",
       "         [1, 1, 1, ..., 1, 1, 1]],\n",
       "\n",
       "        [[1, 1, 1, ..., 1, 1, 1],\n",
       "         [1, 1, 1, ..., 1, 1, 1],\n",
       "         [1, 1, 1, ..., 1, 1, 1],\n",
       "         ...,\n",
       "         [1, 1, 1, ..., 1, 1, 1],\n",
       "         [1, 1, 1, ..., 1, 1, 1],\n",
       "         [1, 1, 1, ..., 1, 1, 1]],\n",
       "\n",
       "        [[1, 1, 1, ..., 1, 1, 1],\n",
       "         [1, 1, 1, ..., 1, 1, 1],\n",
       "         [1, 1, 1, ..., 1, 1, 1],\n",
       "         ...,\n",
       "         [1, 1, 1, ..., 1, 1, 1],\n",
       "         [1, 1, 1, ..., 1, 1, 1],\n",
       "         [1, 1, 1, ..., 1, 1, 1]]]])"
      ]
     },
     "execution_count": 1923,
     "metadata": {},
     "output_type": "execute_result"
    }
   ],
   "source": [
    "np.kron(a,b)"
   ]
  },
  {
   "cell_type": "code",
   "execution_count": 1924,
   "id": "ea8f0911-da31-4700-a889-f7af6abb7781",
   "metadata": {},
   "outputs": [
    {
     "data": {
      "text/plain": [
       "array([0, 1, 2, 3, 4, 5])"
      ]
     },
     "execution_count": 1924,
     "metadata": {},
     "output_type": "execute_result"
    }
   ],
   "source": [
    "arr = np.arange(6)\n",
    "arr"
   ]
  },
  {
   "cell_type": "code",
   "execution_count": 1925,
   "id": "75f42820-0806-44b4-9de3-9bbf9810d920",
   "metadata": {},
   "outputs": [
    {
     "data": {
      "text/plain": [
       "array([ 0, 10, 20, 30, 40, 50])"
      ]
     },
     "execution_count": 1925,
     "metadata": {},
     "output_type": "execute_result"
    }
   ],
   "source": [
    "arr * 10"
   ]
  },
  {
   "cell_type": "code",
   "execution_count": 1926,
   "id": "66cc26e5-edab-4082-af9e-d14682126842",
   "metadata": {},
   "outputs": [
    {
     "data": {
      "text/plain": [
       "array([0.        , 1.        , 1.41421356, 1.73205081, 2.        ,\n",
       "       2.23606798])"
      ]
     },
     "execution_count": 1926,
     "metadata": {},
     "output_type": "execute_result"
    }
   ],
   "source": [
    "np.sqrt(arr)"
   ]
  },
  {
   "cell_type": "code",
   "execution_count": 1928,
   "id": "6682532d-4fe3-4c90-a64c-4d140cc0a5e0",
   "metadata": {},
   "outputs": [
    {
     "data": {
      "text/plain": [
       "array([0., 1., 2., 2., 2., 3.])"
      ]
     },
     "execution_count": 1928,
     "metadata": {},
     "output_type": "execute_result"
    }
   ],
   "source": [
    "nums = np.sqrt(arr)\n",
    "np.ceil(nums)"
   ]
  },
  {
   "cell_type": "code",
   "execution_count": 1929,
   "id": "c1dfcc3d-89dd-420e-83fa-8e7a706c9efe",
   "metadata": {},
   "outputs": [
    {
     "data": {
      "text/plain": [
       "array([0., 1., 1., 1., 2., 2.])"
      ]
     },
     "execution_count": 1929,
     "metadata": {},
     "output_type": "execute_result"
    }
   ],
   "source": [
    "np.floor(nums)"
   ]
  },
  {
   "cell_type": "code",
   "execution_count": 1930,
   "id": "80123bf1-d43b-48e6-bb74-dfa36bc1bac4",
   "metadata": {},
   "outputs": [
    {
     "data": {
      "text/plain": [
       "array([[-0.31926635,  1.4740258 ],\n",
       "       [-0.89908108, -0.40490392],\n",
       "       [ 0.17624854, -1.03958194],\n",
       "       [-0.50324074,  0.64470419]])"
      ]
     },
     "execution_count": 1930,
     "metadata": {},
     "output_type": "execute_result"
    }
   ],
   "source": [
    "arr1= np.random.randn(4,2)\n",
    "arr1"
   ]
  },
  {
   "cell_type": "code",
   "execution_count": 1931,
   "id": "5a6a1be9-3e42-4176-87e7-c020f2657c26",
   "metadata": {},
   "outputs": [
    {
     "data": {
      "text/plain": [
       "2.5"
      ]
     },
     "execution_count": 1931,
     "metadata": {},
     "output_type": "execute_result"
    }
   ],
   "source": [
    "arr.mean()"
   ]
  },
  {
   "cell_type": "code",
   "execution_count": 1932,
   "id": "717af936-bed2-4c9f-ab94-dd25882d229c",
   "metadata": {},
   "outputs": [
    {
     "data": {
      "text/plain": [
       "0.7852400114592558"
      ]
     },
     "execution_count": 1932,
     "metadata": {},
     "output_type": "execute_result"
    }
   ],
   "source": [
    "arr1.std()"
   ]
  },
  {
   "cell_type": "code",
   "execution_count": 1933,
   "id": "a760c01a-bf44-4d6a-b7e0-d3b2dbadb501",
   "metadata": {},
   "outputs": [
    {
     "data": {
      "text/plain": [
       "1.4740257976952327"
      ]
     },
     "execution_count": 1933,
     "metadata": {},
     "output_type": "execute_result"
    }
   ],
   "source": [
    "arr1.max()"
   ]
  },
  {
   "cell_type": "code",
   "execution_count": 1934,
   "id": "e7a9b676-1a0c-496a-a88a-fa3a16407b98",
   "metadata": {},
   "outputs": [
    {
     "data": {
      "text/plain": [
       "1"
      ]
     },
     "execution_count": 1934,
     "metadata": {},
     "output_type": "execute_result"
    }
   ],
   "source": [
    "arr1.argmax()"
   ]
  },
  {
   "cell_type": "code",
   "execution_count": 1935,
   "id": "094ee5e5-e30e-4cda-86cb-927fbd640bd7",
   "metadata": {},
   "outputs": [
    {
     "data": {
      "text/plain": [
       "-1.039581942409901"
      ]
     },
     "execution_count": 1935,
     "metadata": {},
     "output_type": "execute_result"
    }
   ],
   "source": [
    "arr1.min()"
   ]
  },
  {
   "cell_type": "code",
   "execution_count": 1936,
   "id": "1c7b6071-d874-4f89-914d-843078c9a896",
   "metadata": {},
   "outputs": [
    {
     "data": {
      "text/plain": [
       "5"
      ]
     },
     "execution_count": 1936,
     "metadata": {},
     "output_type": "execute_result"
    }
   ],
   "source": [
    "arr1.argmin()"
   ]
  },
  {
   "cell_type": "code",
   "execution_count": 1939,
   "id": "6239183f-27d5-450b-8f16-ec705d8d0312",
   "metadata": {},
   "outputs": [
    {
     "data": {
      "text/plain": [
       "array([-1.54533963,  0.67424413])"
      ]
     },
     "execution_count": 1939,
     "metadata": {},
     "output_type": "execute_result"
    }
   ],
   "source": [
    "arr1.sum(axis = 0)"
   ]
  },
  {
   "cell_type": "code",
   "execution_count": 1940,
   "id": "a5a83e23-bf56-4e49-92c7-056b05ec220e",
   "metadata": {},
   "outputs": [
    {
     "data": {
      "text/plain": [
       "array([ 1.15475945, -1.303985  , -0.8633334 ,  0.14146345])"
      ]
     },
     "execution_count": 1940,
     "metadata": {},
     "output_type": "execute_result"
    }
   ],
   "source": [
    "arr1.sum(axis = 1)"
   ]
  },
  {
   "cell_type": "code",
   "execution_count": 1941,
   "id": "1e6b3705-dfad-4d56-844b-e48832cc451b",
   "metadata": {},
   "outputs": [
    {
     "data": {
      "text/plain": [
       "array([-0.31926635,  1.4740258 , -0.89908108, -0.40490392,  0.17624854,\n",
       "       -1.03958194, -0.50324074,  0.64470419])"
      ]
     },
     "execution_count": 1941,
     "metadata": {},
     "output_type": "execute_result"
    }
   ],
   "source": [
    "arr1.flatten()"
   ]
  },
  {
   "cell_type": "code",
   "execution_count": 1942,
   "id": "065df7f1-1567-474d-95ba-4328584228e5",
   "metadata": {},
   "outputs": [],
   "source": [
    "v1 = np.random.randn(3,3)\n",
    "v2 = np.random.randn(3,3)"
   ]
  },
  {
   "cell_type": "code",
   "execution_count": 1944,
   "id": "61cf32be-4f67-4baa-82a1-427e1fd646ff",
   "metadata": {},
   "outputs": [
    {
     "data": {
      "text/plain": [
       "array([[ 0.34654781, -0.15402774,  2.15633312],\n",
       "       [-0.35504839, -0.94093091, -0.65631262],\n",
       "       [-0.21821073,  0.44019601, -0.3005771 ]])"
      ]
     },
     "execution_count": 1944,
     "metadata": {},
     "output_type": "execute_result"
    }
   ],
   "source": [
    "v1"
   ]
  },
  {
   "cell_type": "code",
   "execution_count": 1945,
   "id": "24daa45d-1aa1-47fb-bd03-0f6db2a6be07",
   "metadata": {},
   "outputs": [
    {
     "data": {
      "text/plain": [
       "array([[-0.2029282 , -0.48803073,  0.38968428],\n",
       "       [ 0.40796555,  1.86582915,  0.58239811],\n",
       "       [-1.21492913, -0.64984723,  0.97344179]])"
      ]
     },
     "execution_count": 1945,
     "metadata": {},
     "output_type": "execute_result"
    }
   ],
   "source": [
    "v2"
   ]
  },
  {
   "cell_type": "code",
   "execution_count": 1946,
   "id": "fb9f9e28-84ff-4015-b2f1-136b93100030",
   "metadata": {},
   "outputs": [
    {
     "name": "stdout",
     "output_type": "stream",
     "text": [
      "1.3456141289344725\n"
     ]
    }
   ],
   "source": [
    "dist = np.sqrt(np.sum(v1 - v2) ** 2)\n",
    "print(dist)"
   ]
  },
  {
   "cell_type": "code",
   "execution_count": 1947,
   "id": "8c303762-3358-49c5-81ac-ff4262b53fb1",
   "metadata": {},
   "outputs": [
    {
     "data": {
      "text/plain": [
       "0.8939966636005579"
      ]
     },
     "execution_count": 1947,
     "metadata": {},
     "output_type": "execute_result"
    }
   ],
   "source": [
    "np.sin(90)"
   ]
  },
  {
   "cell_type": "code",
   "execution_count": 1948,
   "id": "7781d68c-62d8-4df8-a70c-d4ed7fdfdd6b",
   "metadata": {},
   "outputs": [
    {
     "data": {
      "text/plain": [
       "1.0"
      ]
     },
     "execution_count": 1948,
     "metadata": {},
     "output_type": "execute_result"
    }
   ],
   "source": [
    "np.cos(0)"
   ]
  },
  {
   "cell_type": "code",
   "execution_count": null,
   "id": "ec4a0cdc-ae7d-4f4f-8872-b963e999ca24",
   "metadata": {},
   "outputs": [],
   "source": []
  }
 ],
 "metadata": {
  "kernelspec": {
   "display_name": "Python 3 (ipykernel)",
   "language": "python",
   "name": "python3"
  },
  "language_info": {
   "codemirror_mode": {
    "name": "ipython",
    "version": 3
   },
   "file_extension": ".py",
   "mimetype": "text/x-python",
   "name": "python",
   "nbconvert_exporter": "python",
   "pygments_lexer": "ipython3",
   "version": "3.12.4"
  }
 },
 "nbformat": 4,
 "nbformat_minor": 5
}
