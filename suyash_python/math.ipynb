{
 "cells": [
  {
   "cell_type": "code",
   "execution_count": 1,
   "id": "82cd4b9e-943d-4cdf-b0e5-68e03f9c0ada",
   "metadata": {},
   "outputs": [
    {
     "name": "stdout",
     "output_type": "stream",
     "text": [
      "math.ceil(-45.17): -45\n",
      "math.ceil(-45.77): -45\n",
      "math.fabs(-45.77): 45.77\n",
      "math.floor(-45.77): -46\n",
      "math.log10(100.12): 2.0005208409361854\n",
      "math.pow(100,2): 10000.0\n",
      "math.sqrt(114): 10.677078252031311\n",
      "math.cos(90): -0.4480736161291701\n",
      "math.tan(90): -1.995200412208242\n",
      "math.factorial(5): 120\n"
     ]
    }
   ],
   "source": [
    "import math\n",
    "print(\"math.ceil(-45.17):\",math.ceil(-45.17))\n",
    "print(\"math.ceil(-45.77):\",math.ceil(-45.77))\n",
    "print(\"math.fabs(-45.77):\",math.fabs(-45.77))\n",
    "print(\"math.floor(-45.77):\",math.floor(-45.77))\n",
    "print(\"math.log10(100.12):\",math.log10(100.12))\n",
    "print(\"math.pow(100,2):\",math.pow(100,2))\n",
    "print(\"math.sqrt(114):\",math.sqrt(114))\n",
    "print(\"math.cos(90):\",math.cos(90))\n",
    "print(\"math.tan(90):\",math.tan(90))\n",
    "print(\"math.factorial(5):\",math.factorial(5))"
   ]
  },
  {
   "cell_type": "code",
   "execution_count": null,
   "id": "dc0fd59d-3152-4a2a-aa0b-6cf276118a25",
   "metadata": {},
   "outputs": [],
   "source": []
  }
 ],
 "metadata": {
  "kernelspec": {
   "display_name": "Python 3 (ipykernel)",
   "language": "python",
   "name": "python3"
  },
  "language_info": {
   "codemirror_mode": {
    "name": "ipython",
    "version": 3
   },
   "file_extension": ".py",
   "mimetype": "text/x-python",
   "name": "python",
   "nbconvert_exporter": "python",
   "pygments_lexer": "ipython3",
   "version": "3.12.4"
  }
 },
 "nbformat": 4,
 "nbformat_minor": 5
}
