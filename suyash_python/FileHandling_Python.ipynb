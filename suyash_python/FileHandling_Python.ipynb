{
 "cells": [
  {
   "cell_type": "code",
   "execution_count": 3,
   "id": "8f673489-dda8-4092-ba64-ecf1310d0220",
   "metadata": {},
   "outputs": [
    {
     "name": "stdout",
     "output_type": "stream",
     "text": [
      "The file is not empty !!!!\n"
     ]
    }
   ],
   "source": [
    "file_path = \"example.txt\"\n",
    "try:\n",
    "    with open(file_path,'r') as file:\n",
    "        if file.read(1): print(\"The file is not empty !!!!\")\n",
    "        else: print(\"The file is empty\")\n",
    "except FileNotFoundError:\n",
    "    print(\"File Not Found !!!!!\")"
   ]
  },
  {
   "cell_type": "code",
   "execution_count": null,
   "id": "b7080a26-81b4-48f3-be80-590d99924860",
   "metadata": {},
   "outputs": [],
   "source": []
  }
 ],
 "metadata": {
  "kernelspec": {
   "display_name": "Python 3 (ipykernel)",
   "language": "python",
   "name": "python3"
  },
  "language_info": {
   "codemirror_mode": {
    "name": "ipython",
    "version": 3
   },
   "file_extension": ".py",
   "mimetype": "text/x-python",
   "name": "python",
   "nbconvert_exporter": "python",
   "pygments_lexer": "ipython3",
   "version": "3.12.4"
  }
 },
 "nbformat": 4,
 "nbformat_minor": 5
}
