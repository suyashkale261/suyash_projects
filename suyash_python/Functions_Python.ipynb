{
 "cells": [
  {
   "cell_type": "code",
   "execution_count": 1,
   "id": "885a5979-5c9b-48dd-a299-1c0d9c868de2",
   "metadata": {},
   "outputs": [
    {
     "name": "stdout",
     "output_type": "stream",
     "text": [
      "Name : Suyash Kale\n",
      "Age : 28\n",
      "Salary : 10000\n",
      "Name : Suraj Gupta\n",
      "Age : 26\n",
      "Salary : 9000\n"
     ]
    }
   ],
   "source": [
    "def show_employee(name,age,salary=9000):\n",
    "    print(f\"Name : {name}\")\n",
    "    print(f\"Age : {age}\")\n",
    "    print(f\"Salary : {salary}\")\n",
    "show_employee(\"Suyash Kale\",28,10000)\n",
    "show_employee(\"Suraj Gupta\",26)"
   ]
  },
  {
   "cell_type": "code",
   "execution_count": 3,
   "id": "0f21ab47-3466-4b9c-bf0b-e59df38419f2",
   "metadata": {},
   "outputs": [
    {
     "name": "stdin",
     "output_type": "stream",
     "text": [
      "Enter starting number :  25\n",
      "Enter ending number :  35\n"
     ]
    },
    {
     "name": "stdout",
     "output_type": "stream",
     "text": [
      "The sum of numbers between 25 and 35 is :  330\n"
     ]
    }
   ],
   "source": [
    "def sum_between_two_numbers(start,end):\n",
    "    if start > end: return 0\n",
    "    else: return start + sum_between_two_numbers(start + 1,end)\n",
    "s = int(input(\"Enter starting number : \"))\n",
    "e = int(input(\"Enter ending number : \"))\n",
    "print(f\"The sum of numbers between {s} and {e} is : \",sum_between_two_numbers(s,e))"
   ]
  },
  {
   "cell_type": "code",
   "execution_count": 4,
   "id": "eed24042-d84b-4f15-8d19-e92fd7bf8486",
   "metadata": {},
   "outputs": [
    {
     "name": "stdout",
     "output_type": "stream",
     "text": [
      "[33, 32, 30, 28, 26, 24, 23, 22, 20]\n"
     ]
    }
   ],
   "source": [
    "from datetime import datetime\n",
    "list1 = [1991, 1992, 1994, 1996, 1998, 2000, 2001, 2002, 2004]\n",
    "current_year = datetime.now().year\n",
    "age_list = list(map(lambda dob:current_year - dob,list1))\n",
    "print(age_list)"
   ]
  },
  {
   "cell_type": "markdown",
   "id": "7f11b828-c4e5-4e95-81f9-05c5c781a0ef",
   "metadata": {},
   "source": [
    "What is Function ?\n",
    "\n",
    "A function in Python is a reusable block of code that performs a specific task. It can take zero or more inputs (arguments) and may or may not return an output. Functions help make code more modular, readable, and reusable.\n",
    "\n",
    "Here are the key points about functions in Python:\n",
    "\n",
    "- Functions are defined using the def keyword followed by the function name and parentheses () \n",
    "- The function body is indented and contains the code to be executed when the function is called \n",
    "- Functions can take arguments which are variables passed into the function when it is called \n",
    "- Arguments can have default values if not provided when calling the function \n",
    "- Functions can return a value using the return statement [1][3].\n",
    "- Python has built-in functions like print(), len(), etc. as well as user-defined functions \n",
    "- Functions can be called by their name followed by parentheses () containing any required arguments \n",
    "- Variables defined inside a function are local to that function and independent of variables with the same name in other functions or the global scope\n",
    "\n",
    "Functions make code more modular, reusable, and easier to read and maintain. They allow you to break down complex problems into smaller, manageable tasks."
   ]
  },
  {
   "cell_type": "code",
   "execution_count": 13,
   "id": "3c7ed226-275d-4214-b8ae-5fbb245ba865",
   "metadata": {},
   "outputs": [
    {
     "name": "stdin",
     "output_type": "stream",
     "text": [
      "Enter the Principal Amount :  500000\n",
      "Enter the Rate of Interest :  7.5\n",
      "Enter the Time in Years :  10\n"
     ]
    },
    {
     "name": "stdout",
     "output_type": "stream",
     "text": [
      "Simple Interest :  375000.0\n"
     ]
    }
   ],
   "source": [
    "# Simple Interest using Function - Parameterised Function\n",
    "\n",
    "def simple_interest(p,r,t):return (p*r*t)/100 # p,r,t are the parameters\n",
    "pr = int(input(\"Enter the Principal Amount : \"))\n",
    "rate = float(input(\"Enter the Rate of Interest : \"))\n",
    "time = float(input(\"Enter the Time in Years : \"))\n",
    "print(\"Simple Interest : \",simple_interest(pr,rate,time)) # pr,rate,time refer to the parameters p,r,t respectively"
   ]
  },
  {
   "cell_type": "markdown",
   "id": "17772e23-2a62-4b7d-87d3-5311e1cffbc5",
   "metadata": {},
   "source": [
    "Type of Functions\n",
    "1. Built-in Function\n",
    "2. User Defined Function\n",
    "3. Anonymous Function (lambda expressions)\n",
    "4. Recursive Function"
   ]
  },
  {
   "cell_type": "code",
   "execution_count": 5,
   "id": "6001100b-a5c4-4658-bb3b-3dec41faabc0",
   "metadata": {},
   "outputs": [
    {
     "name": "stdout",
     "output_type": "stream",
     "text": [
      "Simple Interest :  3250.0\n"
     ]
    }
   ],
   "source": [
    "# Simple Interest using Anonymous (Lambda) Function\n",
    "si = lambda p,r,t: (p*r*t)/100\n",
    "print(\"Simple Interest : \",si(10000,6.5,5))"
   ]
  },
  {
   "cell_type": "code",
   "execution_count": 7,
   "id": "eecac226-7e50-4d93-87e9-bba3d8438ee7",
   "metadata": {},
   "outputs": [
    {
     "name": "stdin",
     "output_type": "stream",
     "text": [
      "Enter a Number :  10\n"
     ]
    },
    {
     "name": "stdout",
     "output_type": "stream",
     "text": [
      "Factorial of 10 :  3628800\n"
     ]
    }
   ],
   "source": [
    "def factorial(n):\n",
    "    fact = 1\n",
    "    if n < 0: print(\"Factorial Does not exists for negative numbers\")\n",
    "    elif n == 0 or n == 1: print(\"Factorial : 1\")\n",
    "    else:\n",
    "        for i in range (1,n+1): fact *= i\n",
    "        return fact\n",
    "x = int(input(\"Enter a Number : \"))\n",
    "print(f\"Factorial of {x} : \",factorial(x))"
   ]
  },
  {
   "cell_type": "code",
   "execution_count": 9,
   "id": "d48233aa-19b8-498f-a669-d966afbb41ce",
   "metadata": {},
   "outputs": [
    {
     "name": "stdin",
     "output_type": "stream",
     "text": [
      "Enter a Number :  24\n"
     ]
    },
    {
     "name": "stdout",
     "output_type": "stream",
     "text": [
      "24 is an Even Number\n"
     ]
    }
   ],
   "source": [
    "def even_number(x):\n",
    "    print(f\"{x} is an Even Number\") if x % 2 == 0 else print(f\"{x} is an Odd Number\")\n",
    "n = int(input(\"Enter a Number : \"))\n",
    "even_number(n)"
   ]
  },
  {
   "cell_type": "code",
   "execution_count": 11,
   "id": "c2438ea4-0dda-4ea8-817e-59c76eb1b454",
   "metadata": {},
   "outputs": [
    {
     "name": "stdin",
     "output_type": "stream",
     "text": [
      "Enter a number to print its multiplication table :  725\n"
     ]
    },
    {
     "name": "stdout",
     "output_type": "stream",
     "text": [
      "725 X 1 = 725\n",
      "725 X 2 = 1450\n",
      "725 X 3 = 2175\n",
      "725 X 4 = 2900\n",
      "725 X 5 = 3625\n",
      "725 X 6 = 4350\n",
      "725 X 7 = 5075\n",
      "725 X 8 = 5800\n",
      "725 X 9 = 6525\n",
      "725 X 10 = 7250\n"
     ]
    }
   ],
   "source": [
    "def multiplication_table(x):\n",
    "    for i in range(1,11): print(x,\"X\",i,\"=\",x*i)\n",
    "n = int(input(\"Enter a number to print its multiplication table : \"))\n",
    "multiplication_table(n)"
   ]
  },
  {
   "cell_type": "code",
   "execution_count": 19,
   "id": "34e8664e-d547-4564-9184-b433558f42d9",
   "metadata": {},
   "outputs": [
    {
     "name": "stdin",
     "output_type": "stream",
     "text": [
      "Enter a string :  suyash\n"
     ]
    },
    {
     "name": "stdout",
     "output_type": "stream",
     "text": [
      "Reverse :  hsayus\n"
     ]
    }
   ],
   "source": [
    "def reverse_string(x):return x[::-1]\n",
    "str = input(\"Enter a string : \")\n",
    "print(\"Reverse : \",reverse_string(str))"
   ]
  },
  {
   "cell_type": "code",
   "execution_count": 22,
   "id": "a96d18f8-ea41-4ce1-82b7-a22bf86bb782",
   "metadata": {},
   "outputs": [
    {
     "name": "stdin",
     "output_type": "stream",
     "text": [
      "Enter a number :  35\n"
     ]
    },
    {
     "name": "stdout",
     "output_type": "stream",
     "text": [
      "Square of 35 :  1225\n"
     ]
    }
   ],
   "source": [
    "def square(x):return x ** 2\n",
    "n = int(input(\"Enter a number : \"))\n",
    "print(f\"Square of {n} : \",square(n))"
   ]
  },
  {
   "cell_type": "code",
   "execution_count": 2,
   "id": "1ef37fd9-1765-4df6-b40a-1e0404450a77",
   "metadata": {},
   "outputs": [
    {
     "name": "stdin",
     "output_type": "stream",
     "text": [
      "Enter 1st number :  20\n",
      "Enter 2nd number :  4\n",
      "Choose Operation (+,-,*,/,%,//,**,<<,>>,&,|,^,~):  <<\n"
     ]
    },
    {
     "name": "stdout",
     "output_type": "stream",
     "text": [
      "20 << 4 :  320\n"
     ]
    }
   ],
   "source": [
    "def add(a,b): return a + b\n",
    "def sub(a,b): return a - b\n",
    "def mul(a,b): return a * b\n",
    "def div(a,b): return a / b\n",
    "def mod(a,b): return a % b\n",
    "def floor(a,b): return a // b\n",
    "def exp(a,b): return a ** b\n",
    "def blshift(a,b): return a << b\n",
    "def brshift(a,b): return a >> b\n",
    "def band(a,b): return a & b\n",
    "def bor(a,b): return a | b\n",
    "def bxor(a,b): return a ^ b\n",
    "def bnot(a,b): return ~a , ~b\n",
    "x = int(input(\"Enter 1st number : \"))\n",
    "y = int(input(\"Enter 2nd number : \"))\n",
    "op = input(\"Choose Operation (+,-,*,/,%,//,**,<<,>>,&,|,^,~): \")\n",
    "match op:\n",
    "    case \"+\": print(f\"{x} + {y} : \",add(x,y))\n",
    "    case \"-\": print(f\"{x} - {y} : \",sub(x,y))\n",
    "    case \"*\": print(f\"{x} * {y} : \",mul(x,y))\n",
    "    case \"/\": print(f\"{x} / {y} : \",div(x,y))\n",
    "    case \"%\": print(f\"{x} % {y} : \",mod(x,y))\n",
    "    case \"//\": print(f\"{x} // {y} : \",floor(x,y))\n",
    "    case \"**\": print(f\"{x} ** {y} : \",exp(x,y))\n",
    "    case \"<<\": print(f\"{x} << {y} : \",blshift(x,y))\n",
    "    case \">>\": print(f\"{x} >> {y} : \",brshift(x,y))\n",
    "    case \"&\": print(f\"{x} & {y} : \",band(x,y))\n",
    "    case \"|\": print(f\"{x} | {y} : \",bor(x,y))\n",
    "    case \"^\": print(f\"{x} ^ {y} : \",bxor(x,y))\n",
    "    case \"~\": print(f\"~ {x} and ~ {y} : \",bnot(x,y))\n",
    "    case _: print(\"Invalid Operation\")"
   ]
  },
  {
   "cell_type": "code",
   "execution_count": 3,
   "id": "f62d9a18-e60c-4ed9-905f-7780c21d82f0",
   "metadata": {},
   "outputs": [
    {
     "name": "stdout",
     "output_type": "stream",
     "text": [
      "0\n"
     ]
    }
   ],
   "source": [
    "print(pow(2,3,4))"
   ]
  },
  {
   "cell_type": "code",
   "execution_count": 4,
   "id": "03ef1ce8-b1e4-4148-ac6f-924bd63f742f",
   "metadata": {},
   "outputs": [
    {
     "name": "stdout",
     "output_type": "stream",
     "text": [
      "5.0\n",
      "3\n",
      "8\n"
     ]
    }
   ],
   "source": [
    "import math\n",
    "print(math.sqrt(25))\n",
    "print(min(3,4))\n",
    "print(max(5,8))"
   ]
  },
  {
   "cell_type": "code",
   "execution_count": 5,
   "id": "15af926a-96f7-478f-ab57-0b2f6238ee8b",
   "metadata": {},
   "outputs": [
    {
     "name": "stdout",
     "output_type": "stream",
     "text": [
      "2024-07-04 12:36:48.348165\n"
     ]
    }
   ],
   "source": [
    "import datetime\n",
    "print(datetime.datetime.now())"
   ]
  },
  {
   "cell_type": "code",
   "execution_count": 9,
   "id": "7dc0ecc8-211c-4106-a16b-f5b0cf482c7f",
   "metadata": {},
   "outputs": [
    {
     "data": {
      "text/plain": [
       "(1, 2, 3, 4, 5, 6, 7, 8, 9, 10)"
      ]
     },
     "execution_count": 9,
     "metadata": {},
     "output_type": "execute_result"
    }
   ],
   "source": [
    "def club():\n",
    "    return 1,2,3,4,5,6,7,8,9,10\n",
    "club()"
   ]
  },
  {
   "cell_type": "code",
   "execution_count": 11,
   "id": "d0e65889-43be-4c7f-a25d-d4cb2f3c45cf",
   "metadata": {},
   "outputs": [
    {
     "name": "stdout",
     "output_type": "stream",
     "text": [
      "3\n"
     ]
    }
   ],
   "source": [
    "def my_file():\n",
    "    return 1,2,3,4,5\n",
    "data = my_file()\n",
    "print(data[2])"
   ]
  },
  {
   "cell_type": "code",
   "execution_count": 12,
   "id": "400e4878-842d-4816-b2ce-67777a9336e7",
   "metadata": {},
   "outputs": [
    {
     "name": "stdout",
     "output_type": "stream",
     "text": [
      "['hello', 3]\n"
     ]
    }
   ],
   "source": [
    "def demo():\n",
    "    s1 = \"hello\"\n",
    "    x = 3\n",
    "    return [s1,x]\n",
    "print(demo())"
   ]
  },
  {
   "cell_type": "code",
   "execution_count": 18,
   "id": "b53d16bf-6b55-4e54-ae5f-b3a9444f90ea",
   "metadata": {},
   "outputs": [
    {
     "name": "stdout",
     "output_type": "stream",
     "text": [
      "<class 'dict'>\n"
     ]
    }
   ],
   "source": [
    "def demo1():\n",
    "    dtc = dict()\n",
    "    dtc['name'] = \"Suyash\"\n",
    "    dtc['age'] = 28\n",
    "    return dtc\n",
    "data = demo1()\n",
    "print(type(data))"
   ]
  },
  {
   "cell_type": "code",
   "execution_count": 1,
   "id": "832ac050-7022-41ef-b002-e060152eb02d",
   "metadata": {},
   "outputs": [
    {
     "data": {
      "text/plain": [
       "4"
      ]
     },
     "execution_count": 1,
     "metadata": {},
     "output_type": "execute_result"
    }
   ],
   "source": [
    "def sqr(a): return a * a\n",
    "sqr(2)"
   ]
  },
  {
   "cell_type": "code",
   "execution_count": 4,
   "id": "844cfbdf-ac40-4d28-aede-29852aa37a35",
   "metadata": {},
   "outputs": [
    {
     "data": {
      "text/plain": [
       "81"
      ]
     },
     "execution_count": 4,
     "metadata": {},
     "output_type": "execute_result"
    }
   ],
   "source": [
    "def sqr(a=9): return a*a\n",
    "#sqr(10)\n",
    "sqr()"
   ]
  },
  {
   "cell_type": "code",
   "execution_count": 6,
   "id": "ae3cd861-9fa2-4e28-91a8-1ed5dcc960cb",
   "metadata": {},
   "outputs": [
    {
     "name": "stdout",
     "output_type": "stream",
     "text": [
      "15 X 1 = 15\n",
      "15 X 2 = 30\n",
      "15 X 3 = 45\n",
      "15 X 4 = 60\n",
      "15 X 5 = 75\n",
      "15 X 6 = 90\n",
      "15 X 7 = 105\n",
      "15 X 8 = 120\n",
      "15 X 9 = 135\n",
      "15 X 10 = 150\n"
     ]
    }
   ],
   "source": [
    "def multiplication_table(x=10):\n",
    "    for i in range(1,11): print(x,\"X\",i,\"=\",x*i)\n",
    "#multiplication_table()\n",
    "multiplication_table(15)"
   ]
  },
  {
   "cell_type": "code",
   "execution_count": 10,
   "id": "d1d4650f-f81d-4ba0-a158-2081685b992c",
   "metadata": {},
   "outputs": [
    {
     "name": "stdout",
     "output_type": "stream",
     "text": [
      "Volume of Cylinder :  1570.7963267948967\n",
      "Sequence Changed\n",
      "Volume of Cylinder :  1570.7963267948967\n"
     ]
    }
   ],
   "source": [
    "# Keyword Arguments\n",
    "import math\n",
    "def volume_cylinder(r,h):\n",
    "    print(\"Volume of Cylinder : \",math.pi*r*r*h)\n",
    "volume_cylinder(r=10,h=5)\n",
    "print(\"Sequence Changed\")\n",
    "volume_cylinder(h=5,r=10)"
   ]
  },
  {
   "cell_type": "code",
   "execution_count": 12,
   "id": "ff74a998-3d8b-4eaa-b89f-2bad9f579e22",
   "metadata": {},
   "outputs": [
    {
     "name": "stdout",
     "output_type": "stream",
     "text": [
      "Last Name : Kale\n"
     ]
    }
   ],
   "source": [
    "def my_function(**man):\n",
    "    print(\"Last Name : \"+man[\"lname\"])\n",
    "my_function(fname = \"Suyash\", lname = \"Kale\")"
   ]
  },
  {
   "cell_type": "code",
   "execution_count": 14,
   "id": "ae4b4392-c39d-42e2-a7b6-674163956c61",
   "metadata": {},
   "outputs": [
    {
     "name": "stdout",
     "output_type": "stream",
     "text": [
      "The youngest man is Vaibhav\n"
     ]
    }
   ],
   "source": [
    "def my_function(*man):\n",
    "    print(\"The youngest man is \"+man[2])\n",
    "my_function(\"Suyash\",\"Suraj\",\"Vaibhav\")"
   ]
  },
  {
   "cell_type": "code",
   "execution_count": 20,
   "id": "dcce4c52-fd17-4d7b-95a6-21ba4bb9c485",
   "metadata": {},
   "outputs": [
    {
     "name": "stdout",
     "output_type": "stream",
     "text": [
      "(10, 20)\n",
      "<class 'tuple'>\n",
      "Sum :  30\n",
      "(10, 20, 30)\n",
      "<class 'tuple'>\n",
      "Sum :  60\n",
      "(10, 20, 30, 40)\n",
      "<class 'tuple'>\n",
      "Sum :  100\n"
     ]
    }
   ],
   "source": [
    "def sum(*x):\n",
    "    print(x)\n",
    "    print(type(x))\n",
    "    sum = 0\n",
    "    for i in x: sum += i\n",
    "    print(\"Sum : \",sum)\n",
    "sum(10,20)\n",
    "sum(10,20,30)\n",
    "sum(10,20,30,40)"
   ]
  },
  {
   "cell_type": "code",
   "execution_count": 21,
   "id": "c237288f-9ce6-4183-ae1f-5ddd34bb9f33",
   "metadata": {},
   "outputs": [
    {
     "name": "stdout",
     "output_type": "stream",
     "text": [
      "{'first': 10, 'second': 20, 'third': 30, 'fourth': 40}\n",
      "<class 'dict'>\n",
      "Sum :  100\n"
     ]
    }
   ],
   "source": [
    "def sum(**x):\n",
    "    print(x)\n",
    "    print(type(x))\n",
    "    sum = 0\n",
    "    for i in x: sum += x[i]\n",
    "    print(\"Sum : \",sum)\n",
    "sum(first = 10,second = 20,third = 30,fourth = 40)"
   ]
  },
  {
   "cell_type": "code",
   "execution_count": 24,
   "id": "3abcf495-2155-4646-8104-6d5943e0a97f",
   "metadata": {},
   "outputs": [
    {
     "name": "stdout",
     "output_type": "stream",
     "text": [
      "Simple Interest :  1500.0\n"
     ]
    }
   ],
   "source": [
    "si = lambda p,r,t:(p*r*t)/100\n",
    "print(\"Simple Interest : \",si(5000,6,5))"
   ]
  },
  {
   "cell_type": "code",
   "execution_count": 25,
   "id": "7a2d90de-37c2-4f1b-9ac2-b7a6aa37a4c6",
   "metadata": {},
   "outputs": [
    {
     "name": "stdout",
     "output_type": "stream",
     "text": [
      "[21, 45, 36, 28, 30, 45, 67, 80]\n"
     ]
    }
   ],
   "source": [
    "age = [21,7,12,45,36,28,30,45,67,80]\n",
    "adult = filter(lambda age: age>=18,age)\n",
    "print(list(adult))"
   ]
  },
  {
   "cell_type": "code",
   "execution_count": 26,
   "id": "09a8353d-141e-4cea-8af5-d2b5b2981492",
   "metadata": {},
   "outputs": [
    {
     "name": "stdout",
     "output_type": "stream",
     "text": [
      "['America', 'Germany', 'India', 'Japan']\n"
     ]
    }
   ],
   "source": [
    "cities = [\"India\",\"Germany\",\"America\",\"Japan\"]\n",
    "sortedlist = sorted(cities,key=lambda city:city.lower())\n",
    "print(sortedlist)"
   ]
  },
  {
   "cell_type": "code",
   "execution_count": 27,
   "id": "30010b19-a045-4ac7-acad-fb4c6c9dc85f",
   "metadata": {},
   "outputs": [
    {
     "name": "stdout",
     "output_type": "stream",
     "text": [
      "[1, 8, 27, 64, 125]\n"
     ]
    }
   ],
   "source": [
    "number = [1,2,3,4,5]\n",
    "print([(lambda x:x**3)(x) for x in number])"
   ]
  },
  {
   "cell_type": "code",
   "execution_count": 3,
   "id": "30739592-2c4a-455b-ac2c-a07875a585cc",
   "metadata": {},
   "outputs": [
    {
     "name": "stdout",
     "output_type": "stream",
     "text": [
      "[1, 8, 27, 64, 125, 216, 343, 512, 729, 1000]\n"
     ]
    }
   ],
   "source": [
    "print(list(map((lambda x: x**3),[1,2,3,4,5,6,7,8,9,10])))"
   ]
  },
  {
   "cell_type": "code",
   "execution_count": 4,
   "id": "9857e604-ba68-4f6d-8c1f-2fc42be6edc3",
   "metadata": {},
   "outputs": [
    {
     "name": "stdout",
     "output_type": "stream",
     "text": [
      "[1, 2, 3, 4, 5, 6, 7, 8, 9, 10, 1, 2, 3, 4, 5, 6, 7, 8, 9, 10]\n"
     ]
    }
   ],
   "source": [
    "print([1,2,3,4,5,6,7,8,9,10] * 2)"
   ]
  },
  {
   "cell_type": "code",
   "execution_count": 8,
   "id": "c3957fa1-928c-4551-a568-1704bbc92fb7",
   "metadata": {},
   "outputs": [
    {
     "name": "stdout",
     "output_type": "stream",
     "text": [
      "[0, 1, 16, 81, 256, 625, 1296, 2401, 4096, 6561, 10000]\n"
     ]
    }
   ],
   "source": [
    "print(list(map((lambda y:y**4),[0,1,2,3,4,5,6,7,8,9,10])))"
   ]
  },
  {
   "cell_type": "code",
   "execution_count": 9,
   "id": "f12b59b4-6384-44ce-9981-67e377bc7e36",
   "metadata": {},
   "outputs": [
    {
     "name": "stdout",
     "output_type": "stream",
     "text": [
      "[1.0, 2.0, 3.0, 4.0, 5.0, 6.0, 7.0, 8.0, 9.0, 10.0]\n"
     ]
    }
   ],
   "source": [
    "import math as m\n",
    "print(list(map((m.sqrt),[1,4,9,16,25,36,49,64,81,100])))"
   ]
  },
  {
   "cell_type": "code",
   "execution_count": 12,
   "id": "0321fba4-e75a-4d70-ab62-2112e6d831ce",
   "metadata": {},
   "outputs": [
    {
     "name": "stdout",
     "output_type": "stream",
     "text": [
      "[1, 8, 27, 64, 125, 216, 343, 512, 729, 1000]\n"
     ]
    }
   ],
   "source": [
    "def product(x): return x ** 3\n",
    "l1 = [1,2,3,4,5,6,7,8,9,10]\n",
    "print(list(map(product,l1)))"
   ]
  },
  {
   "cell_type": "code",
   "execution_count": 22,
   "id": "1deab3f3-d53e-4f9d-8e18-8b65dcb64860",
   "metadata": {},
   "outputs": [
    {
     "name": "stdout",
     "output_type": "stream",
     "text": [
      "[False, True, False, True, False]\n"
     ]
    }
   ],
   "source": [
    "l3 = [1,2,3,4,5]\n",
    "print(list(map((lambda x:x % 2==0),l3)))"
   ]
  },
  {
   "cell_type": "code",
   "execution_count": 23,
   "id": "1f8229c0-1d28-40ba-bc6d-01f09c769ff2",
   "metadata": {},
   "outputs": [
    {
     "name": "stdout",
     "output_type": "stream",
     "text": [
      "[2, 4]\n"
     ]
    }
   ],
   "source": [
    "l4 = [1,2,3,4,5]\n",
    "print(list(filter((lambda x:x % 2==0),l4)))"
   ]
  },
  {
   "cell_type": "code",
   "execution_count": 25,
   "id": "a73882ac-3a08-4e99-b6f7-a157453aee50",
   "metadata": {},
   "outputs": [
    {
     "name": "stdout",
     "output_type": "stream",
     "text": [
      "[90, 93, 95, 84, 77, 75, 80]\n"
     ]
    }
   ],
   "source": [
    "def grade(score): return score >= 75\n",
    "print(list(filter(grade,[56,7,8,9,90,93,95,84,77,60,75,80])))"
   ]
  },
  {
   "cell_type": "code",
   "execution_count": 26,
   "id": "f31b1c1d-9083-4060-92b3-38f13b2b3c3c",
   "metadata": {},
   "outputs": [
    {
     "name": "stdout",
     "output_type": "stream",
     "text": [
      "[('Java', 14), ('Python', 3), ('JavaScript', 6)]\n"
     ]
    }
   ],
   "source": [
    "languages = [\"Java\",\"Python\",\"JavaScript\"]\n",
    "versions = [14,3,6]\n",
    "print(list(zip(languages,versions)))"
   ]
  },
  {
   "cell_type": "code",
   "execution_count": 35,
   "id": "a78dbe2e-7048-4926-ac74-ea4146b317d1",
   "metadata": {},
   "outputs": [
    {
     "name": "stdout",
     "output_type": "stream",
     "text": [
      "Converting iterator to list :  [(1, 'one'), (2, 'two'), (3, 'three')]\n",
      "Converting iterator to set :  {(3, 'three'), (1, 'one'), (2, 'two')}\n",
      "Converting iterator to tuple :  ((1, 'one'), (2, 'two'), (3, 'three'))\n",
      "Converting iterator to dictionary :  {1: 'one', 2: 'two', 3: 'three'}\n"
     ]
    }
   ],
   "source": [
    "number = [1,2,3]\n",
    "str = [\"one\",\"two\",\"three\"]\n",
    "print(\"Converting iterator to list : \",list(zip(number,str)))\n",
    "print(\"Converting iterator to set : \",set(zip(number,str)))\n",
    "print(\"Converting iterator to tuple : \",tuple(zip(number,str)))\n",
    "print(\"Converting iterator to dictionary : \",dict(zip(number,str)))"
   ]
  },
  {
   "cell_type": "code",
   "execution_count": 37,
   "id": "0ee82938-188f-49ea-bebf-240c52e8b64b",
   "metadata": {},
   "outputs": [
    {
     "name": "stdout",
     "output_type": "stream",
     "text": [
      "Converting to set :  {(1, 'one', 'ONE'), (4, 'four', 'FOUR'), (3, 'three', 'THREE'), (2, 'two', 'TWO')}\n",
      "Converting to set :  {(1, 'one', 'ONE'), (4, 'four', 'FOUR'), (3, 'three', 'THREE'), (2, 'two', 'TWO')}\n"
     ]
    }
   ],
   "source": [
    "numbers = [1,2,3,4]\n",
    "strs = ['one','two','three','four']\n",
    "numbers_tuple = ('ONE','TWO','THREE','FOUR')\n",
    "result1 = zip(numbers,strs,numbers_tuple)\n",
    "print(\"Converting to set : \",set(result1))\n",
    "result2 = zip(numbers,strs,numbers_tuple)\n",
    "print(\"Converting to set : \",set(result2))"
   ]
  },
  {
   "cell_type": "code",
   "execution_count": 47,
   "id": "784337df-f826-40fe-baf1-c5d8995daff2",
   "metadata": {},
   "outputs": [
    {
     "name": "stdout",
     "output_type": "stream",
     "text": [
      "Largest Number :  95\n",
      "Smallest Number :  7\n"
     ]
    }
   ],
   "source": [
    "from functools import reduce\n",
    "def largest(x,y):\n",
    "    if x > y: return x\n",
    "    else: return y\n",
    "print(\"Largest Number : \",reduce((lambda x,y:x if x>y else y),[56,7,8,9,90,93,95,84,77,60,75,80]))\n",
    "print(\"Smallest Number : \",reduce((lambda x,y:x if x<y else y),[56,7,8,9,90,93,95,84,77,60,75,80]))\n",
    "\n",
    "# This function does not return an iterable. For returning an iterable we have to use lambda function"
   ]
  },
  {
   "cell_type": "code",
   "execution_count": null,
   "id": "e88d8c45-ac57-4cef-8bee-8823bf8a9fea",
   "metadata": {},
   "outputs": [],
   "source": []
  }
 ],
 "metadata": {
  "kernelspec": {
   "display_name": "Python 3 (ipykernel)",
   "language": "python",
   "name": "python3"
  },
  "language_info": {
   "codemirror_mode": {
    "name": "ipython",
    "version": 3
   },
   "file_extension": ".py",
   "mimetype": "text/x-python",
   "name": "python",
   "nbconvert_exporter": "python",
   "pygments_lexer": "ipython3",
   "version": "3.12.4"
  }
 },
 "nbformat": 4,
 "nbformat_minor": 5
}
