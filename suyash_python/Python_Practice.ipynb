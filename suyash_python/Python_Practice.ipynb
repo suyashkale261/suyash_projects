{
 "cells": [
  {
   "cell_type": "code",
   "execution_count": 12,
   "id": "65b82214-46a6-4a54-8449-7ca342963561",
   "metadata": {},
   "outputs": [
    {
     "name": "stdout",
     "output_type": "stream",
     "text": [
      "['b', 'c', 'd']\n"
     ]
    }
   ],
   "source": [
    "'''\n",
    "Write a Python program to print a specified list after removing the 0th, 4th and 5th elements.\n",
    "Sample List : ['Red', 'Green', 'White', 'Black', 'Pink', 'Yellow']\n",
    "Expected Output : ['Green', 'White', 'Black']\n",
    "'''\n",
    "list = ['a', 'b', 'c', 'd', 'e', 'f']\n",
    "del list[5]\n",
    "del list[4]\n",
    "del list[0]\n",
    "print(list)"
   ]
  },
  {
   "cell_type": "code",
   "execution_count": 16,
   "id": "893e29f4-031b-404e-859c-929599bc7356",
   "metadata": {},
   "outputs": [
    {
     "name": "stdout",
     "output_type": "stream",
     "text": [
      "[6, 7, 8, 9, 10]\n"
     ]
    }
   ],
   "source": [
    "# Write a Python program to calculate the difference between the two lists.\n",
    "l1 = [1,2,3,4,5,6,7,8,9,10]\n",
    "l2 = [1,2,3,4,5]\n",
    "print([i for i in l1 if i not in l2])"
   ]
  },
  {
   "cell_type": "code",
   "execution_count": 17,
   "id": "489fd201-c12e-4cf9-9a23-06a232a198cc",
   "metadata": {},
   "outputs": [
    {
     "name": "stdout",
     "output_type": "stream",
     "text": [
      "Sush\n"
     ]
    }
   ],
   "source": [
    "'''\n",
    "Write a  Python program to get a string made of the first 2 and last 2 characters of a given string. If the string length is less than 2, \n",
    "return the empty string instead.\n",
    "Sample String : 'w3resource'\n",
    "Expected Result : 'w3ce'\n",
    "Sample String : 'w3'\n",
    "Expected Result : 'w3w3'\n",
    "Sample String : ' w'\n",
    "Expected Result : Empty String\n",
    "'''\n",
    "def string_transform(s):\n",
    "    if len(s) < 2: return ''\n",
    "    return s[:2] + s[-2:]\n",
    "print(string_transform(\"Suyash\"))"
   ]
  },
  {
   "cell_type": "code",
   "execution_count": 18,
   "id": "a966e7f3-4fd3-4e3f-b658-d2f94ac7462a",
   "metadata": {},
   "outputs": [
    {
     "name": "stdout",
     "output_type": "stream",
     "text": [
      "{'Black', 'White'}\n"
     ]
    }
   ],
   "source": [
    "'''\n",
    "Write a Python program that prints out all colors from color_list_1 that are not present in color_list_2.\n",
    "Test Data :\n",
    "color_list_1 = set([\"White\", \"Black\", \"Red\"])\n",
    "color_list_2 = set([\"Red\", \"Green\"])\n",
    "Expected Output :\n",
    "{'Black', 'White'}\n",
    "'''\n",
    "cl1 = set([\"White\", \"Black\", \"Red\"])\n",
    "cl2 = set([\"Red\", \"Green\"])\n",
    "print(cl1 - cl2)"
   ]
  },
  {
   "cell_type": "code",
   "execution_count": 19,
   "id": "64fe59c8-f5d4-4600-8dc2-c5d190c29e9f",
   "metadata": {},
   "outputs": [
    {
     "name": "stdin",
     "output_type": "stream",
     "text": [
      "Enter the first Number :  5\n",
      "Enter the second number :  4\n"
     ]
    },
    {
     "name": "stdout",
     "output_type": "stream",
     "text": [
      "(5+4) * (5+4) =  81\n"
     ]
    }
   ],
   "source": [
    "'''\n",
    "Write a Python program to solve (x + y) * (x + y).\n",
    "Test Data : x = 4, y = 3\n",
    "Expected Output : (4 + 3) ^ 2) = 49\n",
    "'''\n",
    "x = int(input(\"Enter the first Number : \"))\n",
    "y = int(input(\"Enter the second number : \"))\n",
    "print(f\"({x}+{y}) * ({x}+{y}) = \", (x+y) ** 2)"
   ]
  },
  {
   "cell_type": "code",
   "execution_count": 4,
   "id": "9a2d6828-3540-4045-8555-01a175715f6b",
   "metadata": {},
   "outputs": [
    {
     "name": "stdin",
     "output_type": "stream",
     "text": [
      "Enter a word :  suyash\n"
     ]
    },
    {
     "name": "stdout",
     "output_type": "stream",
     "text": [
      "Reverse of 'suyash': hsayus\n"
     ]
    }
   ],
   "source": [
    "s = input(\"Enter a word : \")\n",
    "print(f\"Reverse of '{s}':\" ,s[::-1])"
   ]
  },
  {
   "cell_type": "code",
   "execution_count": 6,
   "id": "5dbd46ad-0593-4c14-bf66-7c6b5d0f824f",
   "metadata": {},
   "outputs": [
    {
     "name": "stdin",
     "output_type": "stream",
     "text": [
      "Enter a word :  xyz\n"
     ]
    },
    {
     "name": "stdout",
     "output_type": "stream",
     "text": [
      "zyx\n",
      "\n"
     ]
    }
   ],
   "source": [
    "word = input(\"Enter a word : \")\n",
    "for i in range(len(word)-1,-1,-1):print(word[i],end=\"\")\n",
    "print(\"\\n\")"
   ]
  },
  {
   "cell_type": "code",
   "execution_count": 14,
   "id": "6d93c30b-db84-4708-b9bc-0a616135b668",
   "metadata": {},
   "outputs": [
    {
     "name": "stdin",
     "output_type": "stream",
     "text": [
      "Enter the value of n :  20\n"
     ]
    },
    {
     "name": "stdout",
     "output_type": "stream",
     "text": [
      "Number of Even Numbers :  10\n",
      "Number of Odd Numbers :  10\n"
     ]
    }
   ],
   "source": [
    "n = int(input(\"Enter the value of n : \"))\n",
    "oc,ec = 0,0\n",
    "for i in range(0,n):\n",
    "    if i%2 == 0: ec += 1\n",
    "    else: oc += 1\n",
    "print(\"Number of Even Numbers : \",ec)\n",
    "print(\"Number of Odd Numbers : \",oc)"
   ]
  },
  {
   "cell_type": "code",
   "execution_count": 18,
   "id": "c7c8c66f-b748-479f-8c67-ad63ca3227be",
   "metadata": {},
   "outputs": [
    {
     "name": "stdout",
     "output_type": "stream",
     "text": [
      "Sum of Numbers in [1, 2, 3, 4, 5, 6, 7, 8, 9, 10] :  55\n"
     ]
    }
   ],
   "source": [
    "list = [1,2,3,4,5,6,7,8,9,10]\n",
    "sum = 0\n",
    "for i in list: sum += i\n",
    "print(f\"Sum of Numbers in {list} : \",sum)"
   ]
  },
  {
   "cell_type": "code",
   "execution_count": 19,
   "id": "9baaeaef-ae01-48b2-88b9-bb1fd01aedc8",
   "metadata": {},
   "outputs": [
    {
     "name": "stdout",
     "output_type": "stream",
     "text": [
      "Product of Numbers in [1, 2, 3, 4, 5, 6, 7, 8, 9, 10] :  3628800\n"
     ]
    }
   ],
   "source": [
    "list = [1,2,3,4,5,6,7,8,9,10]\n",
    "sum = 1\n",
    "for i in list: sum *= i\n",
    "print(f\"Product of Numbers in {list} : \",sum)"
   ]
  },
  {
   "cell_type": "code",
   "execution_count": 21,
   "id": "c15dddc6-8cdc-4007-8bf7-c8e49b0f65d1",
   "metadata": {},
   "outputs": [
    {
     "name": "stdout",
     "output_type": "stream",
     "text": [
      "Largest Number in [1, 2, 3, 4, 5, 6, 7, 8, 9, 10] :  10\n"
     ]
    }
   ],
   "source": [
    "list = [1,2,3,4,5,6,7,8,9,10]\n",
    "print(f\"Largest Number in {list} : \",max(list))"
   ]
  },
  {
   "cell_type": "code",
   "execution_count": 3,
   "id": "d38f666c-b333-46a9-90d5-f475d53decdb",
   "metadata": {},
   "outputs": [
    {
     "name": "stdout",
     "output_type": "stream",
     "text": [
      "[[(2, 5), (1, 2), (4, 4), (2, 3), (2, 1)]]\n"
     ]
    }
   ],
   "source": [
    "list = [[(2, 5), (1, 2), (4, 4), (2, 3), (2, 1)]]\n",
    "sorted_list = sorted(list, key = lambda x: x[-1])\n",
    "print(sorted_list)"
   ]
  },
  {
   "cell_type": "code",
   "execution_count": 27,
   "id": "c2037b36-d03f-4496-a140-6a05060e736e",
   "metadata": {},
   "outputs": [
    {
     "name": "stdin",
     "output_type": "stream",
     "text": [
      "Enter the maximum length :  5\n"
     ]
    },
    {
     "name": "stdout",
     "output_type": "stream",
     "text": [
      "['banana', 'cherry', 'grapes', 'watermelon', 'papaya']\n"
     ]
    }
   ],
   "source": [
    "n = int(input(\"Enter the maximum length : \"))\n",
    "words = [\"apple\", \"banana\", \"cherry\", \"date\", \"fig\", \"grapes\",\"watermelon\",\"papaya\"]\n",
    "print([word for word in words if len(word) > n])"
   ]
  },
  {
   "cell_type": "code",
   "execution_count": 28,
   "id": "cddd2695-396c-40cd-a450-0c23935ae2c0",
   "metadata": {},
   "outputs": [
    {
     "name": "stdout",
     "output_type": "stream",
     "text": [
      "[500, 400, 300, 200, 100]\n"
     ]
    }
   ],
   "source": [
    "l = [100, 200, 300, 400, 500]\n",
    "print(l[::-1])"
   ]
  },
  {
   "cell_type": "code",
   "execution_count": 29,
   "id": "fb5a36dc-771f-4fdd-a516-166d215df08b",
   "metadata": {},
   "outputs": [
    {
     "name": "stdout",
     "output_type": "stream",
     "text": [
      "['Aishwarya', 'Shubham', 'Vaibhav', 'Sayali', 'Siraj', 'Suraj', 'Suyash']\n"
     ]
    }
   ],
   "source": [
    "sl = [\"Suyash\",\"Suraj\",\"Siraj\",\"Sayali\",\"Vaibhav\",\"Shubham\",\"Aishwarya\"]\n",
    "print(sl[::-1])"
   ]
  },
  {
   "cell_type": "code",
   "execution_count": 30,
   "id": "dd53baae-0f6e-42d0-a341-82c9290208ec",
   "metadata": {},
   "outputs": [
    {
     "name": "stdout",
     "output_type": "stream",
     "text": [
      "[1, 4, 9, 16, 25, 36, 49, 64, 81, 100]\n"
     ]
    }
   ],
   "source": [
    "l = [1,2,3,4,5,6,7,8,9,10]\n",
    "print([n ** 2 for n in l])"
   ]
  },
  {
   "cell_type": "code",
   "execution_count": 3,
   "id": "aa0b29d7-e32f-45de-87a5-6c88eb126aed",
   "metadata": {},
   "outputs": [
    {
     "name": "stdout",
     "output_type": "stream",
     "text": [
      "Element at index 0 : 5\n",
      "Element at index 1 : 15\n",
      "Element at index 2 : 35\n",
      "Element at index 3 : 45\n",
      "Element at index 4 : 7\n",
      "Element at index 5 : 98\n"
     ]
    }
   ],
   "source": [
    "num = [5,15,35,45,7,98]\n",
    "for i,num[i] in enumerate(num): print(f\"Element at index {i} : {num[i]}\")"
   ]
  },
  {
   "cell_type": "code",
   "execution_count": 5,
   "id": "d3187550-8525-4cf3-8b1b-1a6e414bff4e",
   "metadata": {},
   "outputs": [
    {
     "name": "stdout",
     "output_type": "stream",
     "text": [
      "suyash\n"
     ]
    }
   ],
   "source": [
    "print(''.join(['s','u','y','a','s','h']))"
   ]
  },
  {
   "cell_type": "code",
   "execution_count": null,
   "id": "9b383345-0385-475e-82ff-b53816093e95",
   "metadata": {},
   "outputs": [],
   "source": []
  }
 ],
 "metadata": {
  "kernelspec": {
   "display_name": "Python 3 (ipykernel)",
   "language": "python",
   "name": "python3"
  },
  "language_info": {
   "codemirror_mode": {
    "name": "ipython",
    "version": 3
   },
   "file_extension": ".py",
   "mimetype": "text/x-python",
   "name": "python",
   "nbconvert_exporter": "python",
   "pygments_lexer": "ipython3",
   "version": "3.12.4"
  }
 },
 "nbformat": 4,
 "nbformat_minor": 5
}
