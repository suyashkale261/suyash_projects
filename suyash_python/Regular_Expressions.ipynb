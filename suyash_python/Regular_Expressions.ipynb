{
 "cells": [
  {
   "cell_type": "code",
   "execution_count": 1,
   "id": "c726ca25-6f6a-4ab5-a700-4d2286e57526",
   "metadata": {},
   "outputs": [
    {
     "name": "stdout",
     "output_type": "stream",
     "text": [
      "['123', '456', '78910']\n"
     ]
    }
   ],
   "source": [
    "import re\n",
    "str = \"There are 123 apples, 456 oranges, and 78910 bananas\"\n",
    "print(re.findall(r\"\\d+\",str))"
   ]
  },
  {
   "cell_type": "code",
   "execution_count": 10,
   "id": "d387931d-97bb-49bd-8759-51e9b0750341",
   "metadata": {},
   "outputs": [
    {
     "name": "stdout",
     "output_type": "stream",
     "text": [
      "19\n",
      "25\n",
      "(19, 25)\n"
     ]
    }
   ],
   "source": [
    "s = 'A Computer Science portal for Python'\n",
    "print(re.search('portal',s).start())\n",
    "print(re.search('portal',s).end())\n",
    "print(re.search('portal',s).span())"
   ]
  },
  {
   "cell_type": "code",
   "execution_count": 28,
   "id": "320e81c1-6186-49ca-825a-1e37b671a062",
   "metadata": {},
   "outputs": [
    {
     "name": "stdout",
     "output_type": "stream",
     "text": [
      "2\n"
     ]
    }
   ],
   "source": [
    "import warnings\n",
    "warnings.filterwarnings('ignore')\n",
    "s = 'Hi.Welcome'\n",
    "match = re.search(r'\\.',s).start()\n",
    "print(match)"
   ]
  },
  {
   "cell_type": "code",
   "execution_count": 29,
   "id": "baa9a34f-2f39-475e-acea-e6715d19c955",
   "metadata": {},
   "outputs": [
    {
     "name": "stdout",
     "output_type": "stream",
     "text": [
      "['S', 'y', 's', 'h', ' ', 'P', 'r', 'm', 'd', ' ', 'K', 'l']\n"
     ]
    }
   ],
   "source": [
    "s = \"Suyash Pramod Kale\"\n",
    "print(re.findall('[^aeiouAEIOU]',s))"
   ]
  },
  {
   "cell_type": "code",
   "execution_count": 30,
   "id": "c01af99e-6e54-469b-a70a-d0132b603a77",
   "metadata": {},
   "outputs": [
    {
     "name": "stdout",
     "output_type": "stream",
     "text": [
      "['hello', 'hello']\n"
     ]
    }
   ],
   "source": [
    "x = \"hello planet hellooooo\"\n",
    "print(re.findall(\"he..o\",x))"
   ]
  },
  {
   "cell_type": "code",
   "execution_count": 31,
   "id": "3f2a5719-a926-408a-b957-dac7c8aa97cd",
   "metadata": {},
   "outputs": [
    {
     "name": "stdout",
     "output_type": "stream",
     "text": [
      "['hello']\n",
      "[]\n"
     ]
    }
   ],
   "source": [
    "x = \"hello suyash , hello]\"\n",
    "print(re.findall(\"^hello\",x))\n",
    "print(re.findall(\"$hello\",x))"
   ]
  },
  {
   "cell_type": "code",
   "execution_count": 32,
   "id": "49982c6b-b632-46a2-8170-8a709313ee5d",
   "metadata": {},
   "outputs": [
    {
     "name": "stdout",
     "output_type": "stream",
     "text": [
      "['hello']\n"
     ]
    }
   ],
   "source": [
    "x = \"hello suyash, hell\"\n",
    "# search for a sequence start with \"he\" followed by o or more char and \"o\"\n",
    "print(re.findall(\"he.*o\",x))"
   ]
  },
  {
   "cell_type": "code",
   "execution_count": 33,
   "id": "01332b87-c5c2-4204-9c84-0ee4f4483db6",
   "metadata": {},
   "outputs": [
    {
     "name": "stdout",
     "output_type": "stream",
     "text": [
      "['suyash']\n"
     ]
    }
   ],
   "source": [
    "x = \"hello suyash\"\n",
    "print(re.findall(\"suyash$\",x))"
   ]
  },
  {
   "cell_type": "code",
   "execution_count": 38,
   "id": "43064203-78ec-48b7-8f02-fb006673bd8c",
   "metadata": {},
   "outputs": [
    {
     "name": "stdout",
     "output_type": "stream",
     "text": [
      "['a', 'a', 'a']\n",
      "6\n",
      "7\n",
      "['Suyash', 'Pramod', 'Kale']\n"
     ]
    }
   ],
   "source": [
    "str = \"Suyash Pramod Kale\"\n",
    "print(re.findall(\"a\",str))\n",
    "print(re.search(\"\\s\",str).start())\n",
    "print(re.search(\"\\s\",str).end())\n",
    "print(re.split(\"\\s\",str))"
   ]
  },
  {
   "cell_type": "code",
   "execution_count": 45,
   "id": "ba3ae564-3f54-47f9-9b2d-043f26429d60",
   "metadata": {},
   "outputs": [
    {
     "name": "stdout",
     "output_type": "stream",
     "text": [
      "['1a2b67', '1z2t35']\n"
     ]
    }
   ],
   "source": [
    "txt = \"A quick the 1a2b67 brown 1z2t35 fox 7893 his and 452\"\n",
    "print(re.findall('\\d[a-z]\\d[a-z]\\d\\d',txt))"
   ]
  },
  {
   "cell_type": "code",
   "execution_count": 1,
   "id": "861df6b2-53de-4831-82fc-3d7fd879dbc8",
   "metadata": {},
   "outputs": [
    {
     "name": "stdin",
     "output_type": "stream",
     "text": [
      "Enter your Email ID :  kalesuyash@gmail.com\n"
     ]
    },
    {
     "name": "stdout",
     "output_type": "stream",
     "text": [
      "Valid Email ID\n"
     ]
    }
   ],
   "source": [
    "import re\n",
    "email = input(\"Enter your Email ID : \")\n",
    "if re.fullmatch(r'[\\w.]+\\@[\\w.]+',email): print(\"Valid Email ID\")\n",
    "else:print(\"Invalid Email ID\")"
   ]
  },
  {
   "cell_type": "code",
   "execution_count": null,
   "id": "c4ed0f0a-3770-4def-9e57-172e3ffb9acc",
   "metadata": {},
   "outputs": [],
   "source": []
  }
 ],
 "metadata": {
  "kernelspec": {
   "display_name": "Python 3 (ipykernel)",
   "language": "python",
   "name": "python3"
  },
  "language_info": {
   "codemirror_mode": {
    "name": "ipython",
    "version": 3
   },
   "file_extension": ".py",
   "mimetype": "text/x-python",
   "name": "python",
   "nbconvert_exporter": "python",
   "pygments_lexer": "ipython3",
   "version": "3.12.4"
  }
 },
 "nbformat": 4,
 "nbformat_minor": 5
}
