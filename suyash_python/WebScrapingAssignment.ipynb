{
 "cells": [
  {
   "cell_type": "code",
   "execution_count": 32,
   "id": "82315279-576b-48bc-8666-1b5117a8f4a6",
   "metadata": {},
   "outputs": [
    {
     "name": "stdout",
     "output_type": "stream",
     "text": [
      "Data has been written to amazon_product_data.csv\n"
     ]
    }
   ],
   "source": [
    "import requests\n",
    "from bs4 import BeautifulSoup\n",
    "import csv\n",
    "url = \"https://www.amazon.in/OnePlus-Super-Silver-128GB-Storage/dp/B0D5YCYS1G/\"\n",
    "headers = {\n",
    "    \"authority\": \"www.amazon.com\",\"method\": \"GET\",\"path\": \"OnePlus-Super-Silver-128GB-Storage/dp/B0D5YCYS1G/\",\"scheme\": \"https\",\n",
    "    \"accept\": \"text/html,application/xhtml+xml,application/xml;q=0.9,image/webp,image/apng,*/*;q=0.8,application/signed-exchange;v=b3;q=0.9\",\n",
    "    \"accept-encoding\": \"gzip, deflate, br\",\"accept-language\": \"en-US,en;q=0.9\",\"cache-control\": \"max-age=0\",\n",
    "    \"sec-fetch-dest\": \"document\",\"sec-fetch-mode\": \"navigate\",\"sec-fetch-site\": \"none\",\"sec-fetch-user\": \"?1\",\"upgrade-insecure-requests\": \"1\",\n",
    "    \"user-agent\": \"Mozilla/5.0 (Windows NT 10.0; Win64; x64) AppleWebKit/537.36 (KHTML, like Gecko) Chrome/91.0.4472.124 Safari/537.36\"\n",
    "}\n",
    "response = requests.get(url, headers=headers)\n",
    "soup = BeautifulSoup(response.content, \"html.parser\")\n",
    "price = soup.find(\"span\", {\"class\": \"a-price-whole\"}).get_text().strip() if soup.find(\"span\", {\"class\": \"a-price-whole\"}) else \"N/A\"\n",
    "amount = soup.find(\"span\", {\"class\": \"a-price-whole\"}).get_text().strip() if soup.find(\"span\", {\"class\": \"a-price-whole\"}) else \"N/A\"\n",
    "description = soup.find(\"div\", {\"id\": \"titleSection\"}).get_text().strip() if soup.find(\"div\", {\"id\": \"titleSection\"}) else \"N/A\"\n",
    "data = [\n",
    "    [\"Price\", \"Amount\", \"Description\"],\n",
    "    [price, amount, description]\n",
    "]\n",
    "with open(\"amazon_product_data.csv\", \"w\", newline='', encoding='utf-8') as file:\n",
    "    writer = csv.writer(file)\n",
    "    writer.writerows(data)\n",
    "print(\"Data has been written to amazon_product_data.csv\")"
   ]
  },
  {
   "cell_type": "code",
   "execution_count": null,
   "id": "2a463003-e42d-4944-af33-b131acc9cb8a",
   "metadata": {},
   "outputs": [],
   "source": []
  }
 ],
 "metadata": {
  "kernelspec": {
   "display_name": "Python 3 (ipykernel)",
   "language": "python",
   "name": "python3"
  },
  "language_info": {
   "codemirror_mode": {
    "name": "ipython",
    "version": 3
   },
   "file_extension": ".py",
   "mimetype": "text/x-python",
   "name": "python",
   "nbconvert_exporter": "python",
   "pygments_lexer": "ipython3",
   "version": "3.12.4"
  }
 },
 "nbformat": 4,
 "nbformat_minor": 5
}
