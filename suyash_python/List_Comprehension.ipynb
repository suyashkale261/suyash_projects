{
 "cells": [
  {
   "cell_type": "code",
   "execution_count": 2,
   "id": "047357e8-32ed-441c-929c-379499dbc2b6",
   "metadata": {},
   "outputs": [
    {
     "data": {
      "text/plain": [
       "False"
      ]
     },
     "execution_count": 2,
     "metadata": {},
     "output_type": "execute_result"
    }
   ],
   "source": [
    "# Membership Operator -> \"in\" \n",
    "\n",
    "\n",
    "l1 = [1,2,3,4,5,6,7,8,9,10]\n",
    "11 in l1"
   ]
  },
  {
   "cell_type": "code",
   "execution_count": 6,
   "id": "220b4da3-b996-427c-a6b8-78848fd988e0",
   "metadata": {},
   "outputs": [
    {
     "name": "stdout",
     "output_type": "stream",
     "text": [
      "2520443675520\n",
      "2520443901760\n",
      "Equal by value\n"
     ]
    }
   ],
   "source": [
    "# Identity Operators -> \"is\" and \"not is\"\n",
    "\n",
    "s1 = ['a','b','c']\n",
    "s2 = list('abc')\n",
    "print(id(s1))\n",
    "print(id(s2))\n",
    "if s1 == s2: print(\"Equal by value\")\n",
    "if s1 is s2: print(\"Equal by memory\")"
   ]
  },
  {
   "cell_type": "code",
   "execution_count": 7,
   "id": "612100b2-6260-4a48-bc22-96aec9626219",
   "metadata": {},
   "outputs": [
    {
     "name": "stdout",
     "output_type": "stream",
     "text": [
      "2520443816336\n",
      "2520443816336\n",
      "Allocated same memory in string pool\n"
     ]
    }
   ],
   "source": [
    "str1 = 'itv'\n",
    "str2 = 'itv'\n",
    "print(id(str1))\n",
    "print(id(str2))\n",
    "if str1 is str2: print(\"Allocated same memory in string pool\")\n",
    "else: print(\"Two different memory locations allocated\")"
   ]
  },
  {
   "cell_type": "markdown",
   "id": "5b6d520b-5372-48de-b2c5-31de618ff06d",
   "metadata": {},
   "source": [
    "List Comprehension\n",
    "\n",
    "List Comprehension is one of the distinct features of Python, a feature that seperates python from other programming Languages. It uses powerful functionality to create a list within a single line of code. Instead of creating an empty list and then appending values to the list using for loop another simple way of doing so is as follows:\n",
    "\n",
    "Syntax:\n",
    "new_list = [expression for value in iterable]"
   ]
  },
  {
   "cell_type": "code",
   "execution_count": 14,
   "id": "82419a23-e9e0-4f2f-8890-cb0d095fe708",
   "metadata": {},
   "outputs": [
    {
     "name": "stdout",
     "output_type": "stream",
     "text": [
      "Even Numbers between 1 to 20:  [2, 4, 6, 8, 10, 12, 14, 16, 18, 20]\n",
      "Odd Numbers between 1 to 20 :  [1, 3, 5, 7, 9, 11, 13, 15, 17, 19]\n"
     ]
    }
   ],
   "source": [
    "print(\"Even Numbers between 1 to 20: \",[x for x in range(1,21) if x % 2 == 0])\n",
    "print(\"Odd Numbers between 1 to 20 : \",[x for x in range(1,21) if x % 2 == 1])"
   ]
  },
  {
   "cell_type": "code",
   "execution_count": 15,
   "id": "49460f39-b59c-44f3-be01-fb7e4335de79",
   "metadata": {},
   "outputs": [
    {
     "name": "stdout",
     "output_type": "stream",
     "text": [
      "['pink']\n"
     ]
    }
   ],
   "source": [
    "print([x for x in ['red','pink','blue','yellow'] if 'p' in x])"
   ]
  },
  {
   "cell_type": "code",
   "execution_count": 16,
   "id": "10bf36f5-0551-44c6-95ba-3161f89a2fd5",
   "metadata": {},
   "outputs": [
    {
     "name": "stdout",
     "output_type": "stream",
     "text": [
      "['mom', 'dad', 'wow']\n"
     ]
    }
   ],
   "source": [
    "print([x for x in ['mom','dad','son','daughter','wow'] if x[::-1] == x])"
   ]
  },
  {
   "cell_type": "code",
   "execution_count": 18,
   "id": "21d9e2f9-c6c5-4710-a218-29974f6baab1",
   "metadata": {},
   "outputs": [
    {
     "name": "stdout",
     "output_type": "stream",
     "text": [
      "[1, 8, 27, 64, 125, 216, 343, 512, 729, 1000]\n"
     ]
    }
   ],
   "source": [
    "print([x ** 3 for x in range(1,11)])"
   ]
  },
  {
   "cell_type": "code",
   "execution_count": 19,
   "id": "ce00253d-5571-407d-86b9-e3437e5cdb68",
   "metadata": {},
   "outputs": [
    {
     "name": "stdout",
     "output_type": "stream",
     "text": [
      "['s', 'u', 'y', 'a', 's', 'h']\n"
     ]
    }
   ],
   "source": [
    "h_letters = []\n",
    "for letter in 'suyash':h_letters.append(letter)\n",
    "print(h_letters)"
   ]
  },
  {
   "cell_type": "code",
   "execution_count": 3,
   "id": "ab38977e-9a83-4312-8ee2-2c477615f745",
   "metadata": {},
   "outputs": [
    {
     "name": "stdout",
     "output_type": "stream",
     "text": [
      "['u', 'a', 'a', 'o', 'a', 'e']\n"
     ]
    }
   ],
   "source": [
    "print([v for v in \"Suyash Pramod Kale\" if v in 'aeiou'])"
   ]
  },
  {
   "cell_type": "code",
   "execution_count": 6,
   "id": "547b4ead-3e40-4434-9a30-6ddef07a66ac",
   "metadata": {},
   "outputs": [
    {
     "name": "stdout",
     "output_type": "stream",
     "text": [
      "['S', 'y', 's', 'h', 'P', 'r', 'm', 'd', 'K', 'l']\n"
     ]
    }
   ],
   "source": [
    "print([c for c in \"Suyash Pramod Kale\" if c not in 'aeiou '])"
   ]
  },
  {
   "cell_type": "code",
   "execution_count": null,
   "id": "5e32a4c7-a782-4a54-8537-f99bc61035ef",
   "metadata": {},
   "outputs": [],
   "source": []
  }
 ],
 "metadata": {
  "kernelspec": {
   "display_name": "Python 3 (ipykernel)",
   "language": "python",
   "name": "python3"
  },
  "language_info": {
   "codemirror_mode": {
    "name": "ipython",
    "version": 3
   },
   "file_extension": ".py",
   "mimetype": "text/x-python",
   "name": "python",
   "nbconvert_exporter": "python",
   "pygments_lexer": "ipython3",
   "version": "3.12.4"
  }
 },
 "nbformat": 4,
 "nbformat_minor": 5
}
