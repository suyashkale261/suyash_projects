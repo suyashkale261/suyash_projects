{
 "cells": [
  {
   "cell_type": "code",
   "execution_count": 1,
   "id": "0e42fbbc-ed79-4e91-a9c5-eb98834f9a58",
   "metadata": {},
   "outputs": [
    {
     "name": "stdout",
     "output_type": "stream",
     "text": [
      "140734593890872\n"
     ]
    }
   ],
   "source": [
    "x = 5\n",
    "print(id(x))"
   ]
  },
  {
   "cell_type": "code",
   "execution_count": 2,
   "id": "1095bb2d-2412-443a-b659-f66c441702bd",
   "metadata": {},
   "outputs": [
    {
     "name": "stdout",
     "output_type": "stream",
     "text": [
      "15\n"
     ]
    }
   ],
   "source": [
    "x,y=5,10\n",
    "r = lambda x: lambda y : x + y\n",
    "print(r(x)(y))"
   ]
  },
  {
   "cell_type": "code",
   "execution_count": 3,
   "id": "2a13228f-a00e-4e60-9006-e0fb910dc3a1",
   "metadata": {},
   "outputs": [
    {
     "name": "stdout",
     "output_type": "stream",
     "text": [
      "[]\n"
     ]
    }
   ],
   "source": [
    "A = [10,20,30,40,50,60,70]\n",
    "print(A[10:])"
   ]
  },
  {
   "cell_type": "code",
   "execution_count": 4,
   "id": "69b8c247-7811-47a7-bacd-76d9cf0f7251",
   "metadata": {},
   "outputs": [
    {
     "name": "stdout",
     "output_type": "stream",
     "text": [
      "30\n",
      "20\n"
     ]
    }
   ],
   "source": [
    "a,b = 20,30\n",
    "a,b = b,a\n",
    "print(a)\n",
    "print(b)"
   ]
  },
  {
   "cell_type": "code",
   "execution_count": 5,
   "id": "04041131-72ca-45bb-b589-4991a6986008",
   "metadata": {},
   "outputs": [
    {
     "name": "stdout",
     "output_type": "stream",
     "text": [
      "1\n"
     ]
    }
   ],
   "source": [
    "print(len(str(len(str(len([100 * 200]))))))"
   ]
  },
  {
   "cell_type": "code",
   "execution_count": 6,
   "id": "1ca19c42-5102-483d-9b81-35dfe8b25761",
   "metadata": {},
   "outputs": [
    {
     "name": "stdout",
     "output_type": "stream",
     "text": [
      "7\n"
     ]
    }
   ],
   "source": [
    "print(15 >> 1)"
   ]
  },
  {
   "cell_type": "code",
   "execution_count": 7,
   "id": "30204c64-8615-4967-a142-ef111fc8936b",
   "metadata": {},
   "outputs": [
    {
     "name": "stdout",
     "output_type": "stream",
     "text": [
      "7\n"
     ]
    }
   ],
   "source": [
    "print(4 + 3 % 5)"
   ]
  },
  {
   "cell_type": "code",
   "execution_count": 8,
   "id": "925d17c1-89a0-4d71-96df-a0890affaff2",
   "metadata": {},
   "outputs": [
    {
     "data": {
      "text/plain": [
       "False"
      ]
     },
     "execution_count": 8,
     "metadata": {},
     "output_type": "execute_result"
    }
   ],
   "source": [
    "min(max(False,-3,-4),2,7)"
   ]
  },
  {
   "cell_type": "code",
   "execution_count": 9,
   "id": "55bab088-f1c9-44db-81ee-2942754b8622",
   "metadata": {},
   "outputs": [
    {
     "name": "stdout",
     "output_type": "stream",
     "text": [
      "4 3 2 1 "
     ]
    }
   ],
   "source": [
    "for i in [1,2,3,4][::-1]: print(i,end = ' ')"
   ]
  },
  {
   "cell_type": "code",
   "execution_count": 10,
   "id": "8a2149eb-c682-4e62-9a69-0ae557fefc27",
   "metadata": {},
   "outputs": [
    {
     "name": "stdout",
     "output_type": "stream",
     "text": [
      "12\n"
     ]
    }
   ],
   "source": [
    "class Tester:\n",
    "    def __init__(self,id):\n",
    "        self.id = id\n",
    "        id = '224'\n",
    "temp = Tester(12)\n",
    "print(temp.id)"
   ]
  },
  {
   "cell_type": "code",
   "execution_count": 11,
   "id": "ab8d7bb3-74bf-454e-99b6-95d5a6385d69",
   "metadata": {},
   "outputs": [
    {
     "name": "stdout",
     "output_type": "stream",
     "text": [
      "True\n"
     ]
    }
   ],
   "source": [
    "def foo(x):\n",
    "    x[0] = ['def']\n",
    "    x[1] = ['abc']\n",
    "    return id(x)\n",
    "q = ['abc','def']\n",
    "print(id(q) == foo(q))"
   ]
  },
  {
   "cell_type": "code",
   "execution_count": 12,
   "id": "774a9dde-c4bb-4410-8b9d-88934cfb2203",
   "metadata": {},
   "outputs": [
    {
     "name": "stdout",
     "output_type": "stream",
     "text": [
      "{'p', 'c', 'b', 'a', 'san', 'q'}\n"
     ]
    }
   ],
   "source": [
    "z = set('abc')\n",
    "z.add('san')\n",
    "z.update(set(['p','q']))\n",
    "print(z)"
   ]
  },
  {
   "cell_type": "code",
   "execution_count": 13,
   "id": "ed1d7ec9-6af3-46e5-8f75-47bd1e8da14b",
   "metadata": {},
   "outputs": [
    {
     "name": "stdout",
     "output_type": "stream",
     "text": [
      "None\n"
     ]
    }
   ],
   "source": [
    "x = [1,3,2,1]\n",
    "y = x.append(4)\n",
    "print(y)"
   ]
  },
  {
   "cell_type": "code",
   "execution_count": 14,
   "id": "9c937350-2558-483f-8ff3-30b7ca45c81c",
   "metadata": {},
   "outputs": [
    {
     "name": "stdout",
     "output_type": "stream",
     "text": [
      "[11, 22, 33, 1]\n"
     ]
    }
   ],
   "source": [
    "a = [11,22,33,1,2]\n",
    "a.pop()\n",
    "print(a)"
   ]
  },
  {
   "cell_type": "code",
   "execution_count": null,
   "id": "c37601d5-6d05-4526-a017-99b6d194993e",
   "metadata": {},
   "outputs": [],
   "source": []
  }
 ],
 "metadata": {
  "kernelspec": {
   "display_name": "Python 3 (ipykernel)",
   "language": "python",
   "name": "python3"
  },
  "language_info": {
   "codemirror_mode": {
    "name": "ipython",
    "version": 3
   },
   "file_extension": ".py",
   "mimetype": "text/x-python",
   "name": "python",
   "nbconvert_exporter": "python",
   "pygments_lexer": "ipython3",
   "version": "3.12.4"
  }
 },
 "nbformat": 4,
 "nbformat_minor": 5
}
