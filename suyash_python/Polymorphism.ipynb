{
 "cells": [
  {
   "cell_type": "markdown",
   "id": "41e4e99c-a83a-4f95-8215-a977a7759cc4",
   "metadata": {},
   "source": [
    "POLYMORPHISM\n",
    "\n",
    "Polymorphism means multiple forms. For Example, Eating is a process performed by all living things but food and way of eating is different."
   ]
  },
  {
   "cell_type": "code",
   "execution_count": 17,
   "id": "309601ad-ccc2-4915-9152-c32d48421e78",
   "metadata": {},
   "outputs": [
    {
     "name": "stdout",
     "output_type": "stream",
     "text": [
      "18 5 5 5 4\n"
     ]
    }
   ],
   "source": [
    "x = \"Suyash Pramod Kale\"\n",
    "y = [1,2,3,4,5]\n",
    "z = (1,2,3,4,5)\n",
    "w = {1,2,3,4,5}\n",
    "t = {1:2,2:3,3:4,4:5}\n",
    "print(len(x),len(y),len(z),len(w),len(t))"
   ]
  },
  {
   "cell_type": "code",
   "execution_count": 18,
   "id": "53c3ce95-1381-47b4-b83b-79f75b61ad1a",
   "metadata": {},
   "outputs": [
    {
     "name": "stdout",
     "output_type": "stream",
     "text": [
      "Inside Parent\n",
      "Inside Child\n"
     ]
    }
   ],
   "source": [
    "class Brand:\n",
    "    def show(self): print(\"Inside Parent\")\n",
    "class Product(Brand):\n",
    "    def show(self): print(\"Inside Child\")\n",
    "ob1 = Brand()\n",
    "ob2 = Product()\n",
    "ob1.show()\n",
    "ob2.show()"
   ]
  },
  {
   "cell_type": "code",
   "execution_count": 27,
   "id": "42e7eacc-f469-4ceb-9720-65347cf56a2c",
   "metadata": {},
   "outputs": [
    {
     "name": "stdout",
     "output_type": "stream",
     "text": [
      "Area of Circle :  314.1592653589793\n",
      "Area of Rectangle :  420\n",
      "Area of Square :  400\n"
     ]
    }
   ],
   "source": [
    "import math\n",
    "class Area_Circle:\n",
    "    def __init__(self,r):self.r = r\n",
    "    def calculate(self): print(\"Area of Circle : \",math.pi*self.r*self.r)\n",
    "        \n",
    "class Area_Rectangle:\n",
    "    def __init__(self,l,b):self.l,self.b = l,b\n",
    "    def calculate(self): print(\"Area of Rectangle : \",self.l*self.b)\n",
    "       \n",
    "class Area_Square:\n",
    "    def __init__(self,s):self.s = s\n",
    "    def calculate(self): print(\"Area of Square : \",self.s**2)\n",
    "        \n",
    "Area_Circle(10).calculate()\n",
    "Area_Rectangle(12,35).calculate()\n",
    "Area_Square(20).calculate()"
   ]
  },
  {
   "cell_type": "code",
   "execution_count": 29,
   "id": "5dc4cb03-d62b-4eb2-8aa9-25dd1d7486b8",
   "metadata": {},
   "outputs": [
    {
     "name": "stdout",
     "output_type": "stream",
     "text": [
      "This is my Science Book !!!\n",
      "Myself Suyash Pramod Kale\n",
      "This is my Chemistry Book !!!\n",
      "Myself Suyash Pramod Kale\n"
     ]
    }
   ],
   "source": [
    "class Book:\n",
    "    def subName(self):print(\"This is My Book !!!\")\n",
    "    def aboutMe(self):print(\"Myself Suyash Pramod Kale\")\n",
    "class Physics:\n",
    "    def subName(self): print(\"This is my Physics Book !!!\")\n",
    "class Chemistry(Book):\n",
    "    def subName(self): print(\"This is my Chemistry Book !!!\")\n",
    "class Science(Physics, Chemistry):\n",
    "    def subName(self): print(\"This is my Science Book !!!\")\n",
    "Science().subName()\n",
    "Science().aboutMe()\n",
    "Chemistry().subName()\n",
    "Chemistry().aboutMe()"
   ]
  },
  {
   "cell_type": "code",
   "execution_count": 46,
   "id": "58b1cafb-7e3e-4946-9cbb-8ec2c292d041",
   "metadata": {},
   "outputs": [
    {
     "name": "stdout",
     "output_type": "stream",
     "text": [
      "(3,5)\n"
     ]
    }
   ],
   "source": [
    "class ad:\n",
    "    def __init__(self,x=0,y=0):self.x,self.y = x,y\n",
    "    def __str__(self): return \"({0},{1})\".format(self.x,self.y)\n",
    "    def __add__(self,other):\n",
    "        x,y = self.x + other.x,self.y + other.y\n",
    "        return ad(x,y)\n",
    "a1 = ad(1,2)\n",
    "a2 = ad(2,3)\n",
    "print(a1 + a2)"
   ]
  },
  {
   "cell_type": "code",
   "execution_count": 53,
   "id": "29d5c6cc-dfc7-4ce4-9329-8eb4dfba8f59",
   "metadata": {},
   "outputs": [
    {
     "name": "stdout",
     "output_type": "stream",
     "text": [
      "Name : Suyash\tAge : 28\tMarks : 78.34\n",
      "Name : Suraj\tAge : 25\tMarks : 56.34\n",
      "Name : Total\tAge : 0\tMarks : 134.68\n",
      "'-' overloaded\n",
      "'>' overloaded\n"
     ]
    }
   ],
   "source": [
    "class Student:\n",
    "    def __init__(self,name,age,marks): self.name,self.age,self.marks = name,age,marks\n",
    "    def __str__(self): return f\"Name : {self.name}\\tAge : {self.age}\\tMarks : {self.marks}\"\n",
    "    def __add__(self,other):\n",
    "        total = self.marks + other.marks\n",
    "        return Student('Total',0,total)\n",
    "    def __sub__(self,other): print(\"'-' overloaded\")\n",
    "    def __gt__(self,other): print(\"'>' overloaded\")\n",
    "s1 = Student(\"Suyash\",28,78.34)\n",
    "s2 = Student(\"Suraj\",25,56.34)\n",
    "s3 = s1+s2\n",
    "print(s1)\n",
    "print(s2)\n",
    "print(s3)\n",
    "s1-s2\n",
    "s1>s2"
   ]
  },
  {
   "cell_type": "code",
   "execution_count": null,
   "id": "e02de3a1-6afa-42fa-9e55-4caf6cb21ecf",
   "metadata": {},
   "outputs": [],
   "source": []
  }
 ],
 "metadata": {
  "kernelspec": {
   "display_name": "Python 3 (ipykernel)",
   "language": "python",
   "name": "python3"
  },
  "language_info": {
   "codemirror_mode": {
    "name": "ipython",
    "version": 3
   },
   "file_extension": ".py",
   "mimetype": "text/x-python",
   "name": "python",
   "nbconvert_exporter": "python",
   "pygments_lexer": "ipython3",
   "version": "3.12.4"
  }
 },
 "nbformat": 4,
 "nbformat_minor": 5
}
