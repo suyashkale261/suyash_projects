{
 "cells": [
  {
   "cell_type": "markdown",
   "metadata": {
    "id": "NI8Glw2mNepZ"
   },
   "source": [
    "# Python RegEx (Regular Expression)"
   ]
  },
  {
   "cell_type": "markdown",
   "metadata": {
    "id": "MLS1DDmINepd"
   },
   "source": [
    "A RegEx, or Regular Expression, is a sequence of characters that forms a search pattern.\n",
    "\n",
    "RegEx can be used to check if a string contains the specified search pattern."
   ]
  },
  {
   "cell_type": "markdown",
   "metadata": {
    "id": "WJqQCxt2Nepe"
   },
   "source": [
    "### RegEx Module\n",
    "\n",
    "Python has a built-in package called re, which can be used to work with Regular Expressions.\n",
    "\n",
    "Import the re module:"
   ]
  },
  {
   "cell_type": "code",
   "execution_count": 2,
   "metadata": {
    "id": "yGZiRkgUNepf"
   },
   "outputs": [],
   "source": [
    "import re"
   ]
  },
  {
   "cell_type": "code",
   "execution_count": null,
   "metadata": {
    "id": "vJ40SdawNeph",
    "outputId": "845b6b3e-f0f4-43ad-ba35-325dd32284b7"
   },
   "outputs": [
    {
     "data": {
      "text/plain": [
       "5"
      ]
     },
     "execution_count": 110,
     "metadata": {},
     "output_type": "execute_result"
    }
   ],
   "source": [
    "string = \"The quick brown fox jumps over the lazy dog\"\n",
    "string.find('u')"
   ]
  },
  {
   "cell_type": "code",
   "execution_count": null,
   "metadata": {
    "id": "nTvnRC-sNepj"
   },
   "outputs": [],
   "source": [
    "re.search()\n",
    "re.match()\n",
    "re.findall()\n",
    "re.finditer()"
   ]
  },
  {
   "cell_type": "code",
   "execution_count": null,
   "metadata": {
    "id": "YuetU2RBNepk"
   },
   "outputs": [],
   "source": [
    "string = \"The quick brown fox jumps quick over the lazy dog\"\n",
    "search = re.search('lion',string)"
   ]
  },
  {
   "cell_type": "code",
   "execution_count": null,
   "metadata": {
    "id": "Zhg_9QQvNepl"
   },
   "outputs": [],
   "source": [
    "string = \"The quick brown fox jumps over the lazy dog fox along with another fox with some other fox.\"\n",
    "find = re.finditer('fox',string)"
   ]
  },
  {
   "cell_type": "code",
   "execution_count": null,
   "metadata": {
    "id": "luAkUvjLNepl",
    "outputId": "11dcf1e4-a695-48ff-f382-e58d7adbc358"
   },
   "outputs": [
    {
     "name": "stdout",
     "output_type": "stream",
     "text": [
      "<re.Match object; span=(16, 19), match='fox'>\n",
      "<re.Match object; span=(44, 47), match='fox'>\n",
      "<re.Match object; span=(67, 70), match='fox'>\n",
      "<re.Match object; span=(87, 90), match='fox'>\n"
     ]
    }
   ],
   "source": [
    "for i in find:\n",
    "    print(i)"
   ]
  },
  {
   "cell_type": "code",
   "execution_count": null,
   "metadata": {
    "id": "pjlBP19-Nepm",
    "outputId": "fd40d8b6-c59d-4bac-ddf9-753efc014017"
   },
   "outputs": [
    {
     "name": "stdout",
     "output_type": "stream",
     "text": [
      "<re.Match object; span=(20, 25), match='jumps'>\n"
     ]
    }
   ],
   "source": [
    "string = \"The quick brown fox jumps over the lazy dog fox along with another fox with some other fox.\"\n",
    "result = re.finditer('jumps',string)\n",
    "for i in result:\n",
    "    print(i)"
   ]
  },
  {
   "cell_type": "markdown",
   "metadata": {
    "id": "XNuXATeHNepm"
   },
   "source": [
    "![image.png](attachment:image.png)"
   ]
  },
  {
   "cell_type": "markdown",
   "metadata": {
    "id": "UCtO5UvTNepn"
   },
   "source": [
    "### [] – Square Brackets\n",
    "\n",
    "Square Brackets ([]) represent a character class consisting of a set of characters that we wish to match. For example, the character class [abc] will match any single a, b, or c.\n",
    "\n",
    "We can also specify a range of characters using – inside the square brackets. For example,\n",
    "\n",
    "* [0, 3] is sample as [0123]\n",
    "* [a-c] is same as [abc]\n",
    "\n",
    "We can also invert the character class using the caret(^) symbol. For example,\n",
    "\n",
    "* [^0-3] means any number except 0, 1, 2, or 3\n",
    "* [^a-c] means any character except a, b, or c"
   ]
  },
  {
   "cell_type": "code",
   "execution_count": null,
   "metadata": {
    "id": "CSus_yTCNepo",
    "outputId": "d7ef5e7e-3ddc-4e21-f673-aaf41be9039e"
   },
   "outputs": [
    {
     "name": "stdout",
     "output_type": "stream",
     "text": [
      "['2', '0', '1', '0']\n"
     ]
    }
   ],
   "source": [
    "string = \"The quick brown fox jumps 20 over 10 the ;,.[lazy dog\"\n",
    "output = re.findall('[0-9]',string)\n",
    "print(output)"
   ]
  },
  {
   "cell_type": "code",
   "execution_count": null,
   "metadata": {
    "id": "sWzlaJK2Nepo",
    "outputId": "c7fb55b0-73d0-453d-a8dd-a1d1f0609e4d"
   },
   "outputs": [
    {
     "data": {
      "text/plain": [
       "['2', '0', '1', '0']"
      ]
     },
     "execution_count": 197,
     "metadata": {},
     "output_type": "execute_result"
    }
   ],
   "source": [
    "x = re.compile('[0-9]')\n",
    "x.findall(string)"
   ]
  },
  {
   "cell_type": "code",
   "execution_count": 4,
   "metadata": {
    "id": "jfGNOAsFNepp",
    "outputId": "164a359d-1eac-452c-b62d-e74ab96e897d"
   },
   "outputs": [
    {
     "name": "stdout",
     "output_type": "stream",
     "text": [
      "['c', 'b', 'a']\n"
     ]
    }
   ],
   "source": [
    "string = \"The quick brown fox jumps over the lazy dog\"\n",
    "pattern = \"[a-c]\"\n",
    "result = re.findall(pattern, string)\n",
    "\n",
    "print(result)"
   ]
  },
  {
   "cell_type": "markdown",
   "metadata": {
    "id": "G-mpTfQSNepq"
   },
   "source": [
    "### ^ – Caret\n",
    "\n",
    "Caret (^) symbol matches the beginning of the string i.e. checks whether the string starts with the given character(s) or not. For example –  \n",
    "\n",
    "* ^g will check if the string starts with g such as globe, girl, g, etc.\n",
    "* ^ge will check if the string starts with ge such as geese, geof, etc."
   ]
  },
  {
   "cell_type": "code",
   "execution_count": null,
   "metadata": {
    "id": "iWY-lYaUNepq",
    "outputId": "2de5b9b6-81f8-4aae-f55c-0bebcec68b03"
   },
   "outputs": [
    {
     "name": "stdout",
     "output_type": "stream",
     "text": [
      "<re.Match object; span=(0, 3), match='The'>\n"
     ]
    }
   ],
   "source": [
    "string = 'The quick brown fox'\n",
    "print(re.search('^The', string))"
   ]
  },
  {
   "cell_type": "code",
   "execution_count": null,
   "metadata": {
    "id": "aUlGysplNepr",
    "outputId": "c99e6a56-b0c4-4f08-9889-98acef09e76c"
   },
   "outputs": [
    {
     "name": "stdout",
     "output_type": "stream",
     "text": [
      "['f']\n"
     ]
    }
   ],
   "source": [
    "string = 'fox The quick 1253721828 brown fox'\n",
    "print(re.findall('^[a-zA-Z ]', string))"
   ]
  },
  {
   "cell_type": "code",
   "execution_count": null,
   "metadata": {
    "id": "l09LrrIfNepr",
    "outputId": "dae5da98-72e2-402d-b2b3-6fb8c097dc0c"
   },
   "outputs": [
    {
     "name": "stdout",
     "output_type": "stream",
     "text": [
      "<re.Match object; span=(0, 3), match='The'>\n"
     ]
    }
   ],
   "source": [
    "string = 'The lazy dog'\n",
    "print(re.match('^The', string))"
   ]
  },
  {
   "cell_type": "code",
   "execution_count": null,
   "metadata": {
    "id": "Lzlinn11Nepr",
    "outputId": "dac56eac-5888-4dbb-952d-bfe6fbea183a"
   },
   "outputs": [
    {
     "name": "stdout",
     "output_type": "stream",
     "text": [
      "['1a2b67', '1z2t35']\n"
     ]
    }
   ],
   "source": [
    "string = 'A quick The 1a2b67 brown 1z2t35 fox 7893 his and 452'\n",
    "print(re.findall('\\d[a-z]\\d[a-z]\\d\\d', string))"
   ]
  },
  {
   "cell_type": "code",
   "execution_count": 1,
   "metadata": {
    "id": "70Yz9_HMNeps"
   },
   "outputs": [],
   "source": [
    "documents = ['andgfdjsakdba_sjh13418n3518n@#lahdn',\n",
    "             'anhsdi__nwqejdwn67128nsaajdasn',\n",
    "             'asndsanfajsdfkas----$$$$$*****dnbanf',\n",
    "             'asndg__234sadka8654sbdas,nshdas???A$$$&&&&***dbajdfs',\n",
    "             'asbgd_@_san 21352189andksan@#']"
   ]
  },
  {
   "cell_type": "code",
   "execution_count": 29,
   "metadata": {
    "id": "YgyobmbhNeps",
    "outputId": "60029f63-4d1f-4225-9d1d-33b6b828bcde"
   },
   "outputs": [
    {
     "data": {
      "text/plain": [
       "['andgfdjsakdba_sjh13418n3518n',\n",
       " 'lahdnanhsdi__nwqejdwn67128nsaajdasnasndsanfajsdfkas',\n",
       " 'dnbanf']"
      ]
     },
     "execution_count": 29,
     "metadata": {},
     "output_type": "execute_result"
    }
   ],
   "source": [
    "string = 'andgfdjsakdba_sjh13418n3518n@#lahdnanhsdi__nwqejdwn67128nsaajdasnasndsanfajsdfkas----$$$$$*****dnbanf'\n",
    "pat = re.compile(r'[a-zA-Z_]\\w*')\n",
    "pat.findall(string)"
   ]
  },
  {
   "cell_type": "code",
   "execution_count": 5,
   "metadata": {
    "id": "6uYVAc_WNept",
    "outputId": "f0394571-b86e-4e72-a7b4-98893df95c8a"
   },
   "outputs": [
    {
     "name": "stdout",
     "output_type": "stream",
     "text": [
      "['asndsanfajsdfkas----$$$$$*****dnbanf']\n"
     ]
    }
   ],
   "source": [
    "emp_list = []\n",
    "x = re.compile('[0-9:\"@#]')\n",
    "\n",
    "for i in documents:\n",
    "    result = x.search(i)\n",
    "    if result==None:\n",
    "        emp_list.append(i)\n",
    "        # print(i)\n",
    "    else:\n",
    "        pass\n",
    "\n",
    "print(emp_list)"
   ]
  },
  {
   "cell_type": "code",
   "execution_count": 6,
   "metadata": {
    "id": "K0QLYzGDNepu",
    "outputId": "428d5c16-f8fa-4eed-9932-e88f2ed9d069"
   },
   "outputs": [
    {
     "name": "stdout",
     "output_type": "stream",
     "text": [
      "['T', 'h', 'e', ' ', 'q', 'u', 'i', 'k', ' ', 'r', 'o', 'w', 'n', ' ', 'f', 'o', 'x', ' ', 'j', 'u', 'm', 'p', 's', ' ', 'o', 'v', 'e', 'r', ' ', 't', 'h', 'e', ' ', 'l', 'z', 'y', ' ', 'd', 'o', 'g']\n"
     ]
    }
   ],
   "source": [
    "string = \"The quick brown fox jumps over the lazy dog\"\n",
    "pattern = \"[^a-c]\"\n",
    "result = re.findall(pattern, string)\n",
    "\n",
    "print(result)"
   ]
  },
  {
   "cell_type": "markdown",
   "metadata": {
    "id": "TXnLFw0GNepu"
   },
   "source": [
    "### * – Star\n",
    "\n",
    "Star (*) symbol matches zero or more occurrences of the regex preceding the * symbol. For example –  \n",
    "\n",
    "* ab*c will be matched for the string ac, abc, abbbc, dabc, etc. but will not be matched for abdc because b is not followed by c."
   ]
  },
  {
   "cell_type": "code",
   "execution_count": null,
   "metadata": {
    "id": "dGpiOdoSNepv",
    "outputId": "f378764e-16a6-43b5-fb28-03ed178f8047"
   },
   "outputs": [
    {
     "name": "stdout",
     "output_type": "stream",
     "text": [
      "['ac', 'abc']\n"
     ]
    }
   ],
   "source": [
    "string = \"abbcacabdcabbbbcadbcabc\"\n",
    "pattern = \"ab{0,1}c\"\n",
    "\n",
    "match = re.findall(pattern, string)\n",
    "\n",
    "print(match)"
   ]
  },
  {
   "cell_type": "code",
   "execution_count": null,
   "metadata": {
    "id": "-KETN6NgNepw",
    "outputId": "5c44a37e-fc26-491e-eb78-fbdca19ec015"
   },
   "outputs": [
    {
     "name": "stdout",
     "output_type": "stream",
     "text": [
      "None\n"
     ]
    }
   ],
   "source": [
    "string = \"abdc\"\n",
    "pattern = \"ab*c\"\n",
    "\n",
    "match = re.search(pattern, string)\n",
    "\n",
    "print(match)"
   ]
  },
  {
   "cell_type": "markdown",
   "metadata": {
    "id": "8hrObvOnNepx"
   },
   "source": [
    "### + – Plus\n",
    "\n",
    "Plus (+) symbol matches one or more occurrences of the regex preceding the + symbol. For example –  \n",
    "\n",
    "* ab+c will be matched for the string abc, abbc, dabc, but will not be matched for ac, abdc, because there is no b in ac and b, is not followed by c in abdc."
   ]
  },
  {
   "cell_type": "code",
   "execution_count": 3,
   "metadata": {
    "id": "qCZJNuB1Nepy",
    "outputId": "f093e0ca-1a34-4bf1-e9d1-279b6e1eb4af"
   },
   "outputs": [
    {
     "name": "stdout",
     "output_type": "stream",
     "text": [
      "['abbbbbbbc']\n"
     ]
    }
   ],
   "source": [
    "string = \"abbbbbbbc\"\n",
    "pattern = \"ab+c\"\n",
    "\n",
    "match = re.findall(pattern, string)\n",
    "\n",
    "print(match)"
   ]
  },
  {
   "cell_type": "code",
   "execution_count": 4,
   "metadata": {
    "id": "_4RgJb49Nepy",
    "outputId": "070f1894-c15f-42cd-effe-10ddfa06b894"
   },
   "outputs": [
    {
     "name": "stdout",
     "output_type": "stream",
     "text": [
      "None\n"
     ]
    }
   ],
   "source": [
    "string = \"abdc\"\n",
    "pattern = \"ab+c\"\n",
    "\n",
    "match = re.search(pattern, string)\n",
    "\n",
    "print(match)"
   ]
  },
  {
   "cell_type": "markdown",
   "metadata": {
    "id": "wp7uiOKMNepz"
   },
   "source": [
    "### ? – Question Mark\n",
    "\n",
    "The question mark (?) is a quantifier in regular expressions that indicates that the preceding element should be matched zero or one time. It allows you to specify that the element is optional, meaning it may occur once or not at all. For example,\n",
    "\n",
    "* ab?c will be matched for the string ac, acb, dabc but will not be matched for abbc because there are two b. Similarly, it will not be matched for abdc because b is not followed by c."
   ]
  },
  {
   "cell_type": "code",
   "execution_count": 6,
   "metadata": {
    "id": "sOGCDMqSNepz",
    "outputId": "6d2d735e-512f-4f44-af1a-376533522700"
   },
   "outputs": [
    {
     "name": "stdout",
     "output_type": "stream",
     "text": [
      "['can', 'cn']\n"
     ]
    }
   ],
   "source": [
    "string = \"I can write regularcn expressioncaan.\"\n",
    "pattern = \"ca?n\"\n",
    "\n",
    "match = re.findall(pattern, string)\n",
    "\n",
    "print(match)"
   ]
  },
  {
   "cell_type": "code",
   "execution_count": 7,
   "metadata": {
    "id": "4G83SpFiNep0",
    "outputId": "e6726761-ab84-4b3c-da94-dfa340644c2f"
   },
   "outputs": [
    {
     "name": "stdout",
     "output_type": "stream",
     "text": [
      "None\n"
     ]
    }
   ],
   "source": [
    "string = \"abdc\"\n",
    "pattern = \"ab?c\"\n",
    "\n",
    "match = re.search(pattern, string)\n",
    "\n",
    "print(match)"
   ]
  },
  {
   "cell_type": "markdown",
   "metadata": {
    "id": "gmp9rg_SNep0"
   },
   "source": [
    "### {m, n} – Braces\n",
    "\n",
    "Braces match any repetitions preceding regex from m to n both inclusive. For example –  \n",
    "\n",
    "* a{2, 4} will be matched for the string aaab, baaaac, gaad, but will not be matched for strings like abc, bc because there is only one a or no a in both the cases."
   ]
  },
  {
   "cell_type": "code",
   "execution_count": 8,
   "metadata": {
    "id": "h8IWkjdBNep1",
    "outputId": "3d8bc833-4951-4ed6-e9c5-71a2f988c0a8"
   },
   "outputs": [
    {
     "name": "stdout",
     "output_type": "stream",
     "text": [
      "['aaa', 'aa', 'aaaa', 'aaaa']\n"
     ]
    }
   ],
   "source": [
    "string = \"aaabcaabcaghaaaabhaaaaaolp\"\n",
    "pattern = \"a{2,4}\"\n",
    "\n",
    "match = re.findall(pattern, string)\n",
    "\n",
    "print(match)"
   ]
  },
  {
   "cell_type": "code",
   "execution_count": 9,
   "metadata": {
    "id": "aLHCM_paNep1",
    "outputId": "733ee2df-f155-4d8a-aec9-70ac1e167691"
   },
   "outputs": [
    {
     "name": "stdout",
     "output_type": "stream",
     "text": [
      "None\n"
     ]
    }
   ],
   "source": [
    "string = \"abc\"\n",
    "pattern = \"a{2,4}\"\n",
    "\n",
    "match = re.search(pattern, string)\n",
    "\n",
    "print(match)"
   ]
  },
  {
   "cell_type": "code",
   "execution_count": 10,
   "metadata": {
    "id": "1kQfBD6cNep2",
    "outputId": "cd3fb225-a82c-4f7d-f2a7-bf677072ecc4"
   },
   "outputs": [
    {
     "name": "stdout",
     "output_type": "stream",
     "text": [
      "['2356', '9178', '789', '452']\n"
     ]
    }
   ],
   "source": [
    "string = 'A quick The 2356 brown 9178 fox 789 his and 452'\n",
    "print(re.findall('[0-9]{3,4}', string))"
   ]
  },
  {
   "cell_type": "markdown",
   "metadata": {
    "id": "yIZdJErVNep2"
   },
   "source": [
    "### $ – Dollar\n",
    "\n",
    "Dollar($) symbol matches the end of the string i.e checks whether the string ends with the given character(s) or not. For example-\n",
    "\n",
    "* s$ will check for the string that ends with a such as geeks, ends, s, etc.\n",
    "* ks$ will check for the string that ends with ks such as geeks, geeksforgeeks, ks, etc."
   ]
  },
  {
   "cell_type": "code",
   "execution_count": 11,
   "metadata": {
    "id": "8o7cuqA7Nep3",
    "outputId": "7dae601e-f63f-41fe-8353-4696b1736ca6"
   },
   "outputs": [
    {
     "name": "stdout",
     "output_type": "stream",
     "text": [
      "<re.Match object; span=(11, 12), match='.'>\n"
     ]
    }
   ],
   "source": [
    "string = \"Hello World.\"\n",
    "pattern = \".$\"\n",
    "\n",
    "match = re.search(pattern, string)\n",
    "\n",
    "print(match)"
   ]
  },
  {
   "cell_type": "code",
   "execution_count": 12,
   "metadata": {
    "id": "fkeO3dccNeqC",
    "outputId": "2695dd67-32a4-4307-e7ca-4fd8183c6408"
   },
   "outputs": [
    {
     "name": "stdout",
     "output_type": "stream",
     "text": [
      "<re.Match object; span=(11, 12), match='!'>\n"
     ]
    }
   ],
   "source": [
    "string = \"Hello World!\"\n",
    "pattern = \"!$\"\n",
    "\n",
    "match = re.search(pattern, string)\n",
    "\n",
    "print(match)"
   ]
  },
  {
   "cell_type": "markdown",
   "metadata": {
    "id": "3XgtffbqNeqD"
   },
   "source": [
    "### . – Dot\n",
    "\n",
    "Dot(.) symbol matches only a single character except for the newline character (\\n). For example –  \n",
    "\n",
    "* a.b will check for the string that contains any character at the place of the dot such as acb, acbd, abbb, etc\n",
    "* .. will check if the string contains at least 2 characters"
   ]
  },
  {
   "cell_type": "code",
   "execution_count": 13,
   "metadata": {
    "id": "Q3DwQLYHNeqE",
    "outputId": "c0497329-5644-4c97-fb52-00cdeb0da49e"
   },
   "outputs": [
    {
     "name": "stdout",
     "output_type": "stream",
     "text": [
      "['f_1x']\n"
     ]
    }
   ],
   "source": [
    "string = \"The quick newe brown fox jumps over f_1x fx the lazy dog.\"\n",
    "pattern = \"f..x\"\n",
    "\n",
    "match = re.findall(pattern, string)\n",
    "\n",
    "print(match)"
   ]
  },
  {
   "cell_type": "code",
   "execution_count": 14,
   "metadata": {
    "id": "EtxwCvYZNeqF",
    "outputId": "3afd2835-1faf-45ab-f8f0-abc58db88008"
   },
   "outputs": [
    {
     "name": "stdout",
     "output_type": "stream",
     "text": [
      "['fox', 'xof']\n"
     ]
    }
   ],
   "source": [
    "string = \"The quick brown fox jumps over the lazy xof dog.\"\n",
    "pattern = \"fox|xof\"\n",
    "\n",
    "match = re.findall(pattern, string)\n",
    "\n",
    "print(match)"
   ]
  },
  {
   "cell_type": "markdown",
   "metadata": {
    "id": "wEhpAEYCNeqG"
   },
   "source": [
    "### | – Or\n",
    "\n",
    "Or symbol works as the or operator meaning it checks whether the pattern before or after the or symbol is present in the string or not. For example –  \n",
    "\n",
    "* a|b will match any string that contains a or b such as acd, bcd, abcd, etc."
   ]
  },
  {
   "cell_type": "code",
   "execution_count": 17,
   "metadata": {
    "id": "Bu14JYfGNeqH",
    "outputId": "ab1beff8-b9d5-4d38-9604-ccf93b79ae7e"
   },
   "outputs": [
    {
     "name": "stdout",
     "output_type": "stream",
     "text": [
      "['c', 'b']\n"
     ]
    }
   ],
   "source": [
    "string = \"aicujbud\"\n",
    "pattern = \"c|b\"\n",
    "\n",
    "match = re.findall(pattern, string)\n",
    "\n",
    "print(match)"
   ]
  },
  {
   "cell_type": "markdown",
   "metadata": {
    "id": "hIkYx4kxNeqI"
   },
   "source": [
    "### \\ – Backslash\n",
    "\n",
    "The backslash (\\) makes sure that the character is not treated in a special way. This can be considered a way of escaping metacharacters.\n",
    "\n",
    "For example, if you want to search for the dot(.) in the string then you will find that dot(.) will be treated as a special character as is one of the metacharacters (as shown in the above table). So for this case, we will use the backslash(\\) just before the dot(.) so that it will lose its specialty. See the below example for a better understanding."
   ]
  },
  {
   "cell_type": "code",
   "execution_count": 28,
   "metadata": {
    "id": "or-9vZJQNeqJ",
    "outputId": "7f6be42f-8eca-4b85-eb04-e1105e54fd4e"
   },
   "outputs": [
    {
     "name": "stdout",
     "output_type": "stream",
     "text": [
      "<re.Match object; span=(3, 5), match='a?'>\n"
     ]
    }
   ],
   "source": [
    "import re\n",
    "\n",
    "s = 'data?science'\n",
    "\n",
    "# without using \\\n",
    "match = re.search(r'a\\?', s)\n",
    "print(match)\n",
    "\n",
    "# using \\\n",
    "# match = re.search('\\.', s)\n",
    "# print(match)"
   ]
  },
  {
   "cell_type": "markdown",
   "metadata": {
    "id": "GsIL1k75NeqJ"
   },
   "source": [
    "The first search <code>(re.search(r'.', s))</code> matches any character, not just the period,\n",
    "while the second search <code>(re.search(r'\\.', s))</code> specifically looks for and matches the period character."
   ]
  },
  {
   "cell_type": "code",
   "execution_count": 21,
   "metadata": {
    "id": "zH4ZMlGMNeqK",
    "outputId": "953f061b-4d6d-4bb3-9039-abcbd732928f"
   },
   "outputs": [
    {
     "name": "stdout",
     "output_type": "stream",
     "text": [
      "<re.Match object; span=(16, 19), match='fox'>\n",
      "<re.Match object; span=(40, 43), match='fox'>\n",
      "<re.Match object; span=(70, 73), match='fox'>\n"
     ]
    }
   ],
   "source": [
    "string = \"The quick brown fox jumps over The lazy fox dog 123780 and some extra fox numbers 208410.\"\n",
    "pattern = \"fox\"\n",
    "result = re.finditer(pattern, string)\n",
    "\n",
    "for i in result:\n",
    "    print(i)"
   ]
  },
  {
   "cell_type": "markdown",
   "metadata": {
    "id": "cTAy_SlNNeqK"
   },
   "source": [
    "![image.png](attachment:image.png)"
   ]
  },
  {
   "cell_type": "code",
   "execution_count": 23,
   "metadata": {
    "id": "lP3NrP5xNeqL",
    "outputId": "0d44eeaa-91a3-464f-845e-83d397eb90f4"
   },
   "outputs": [
    {
     "name": "stdout",
     "output_type": "stream",
     "text": [
      "['12345', '6789', '987654321']\n"
     ]
    }
   ],
   "source": [
    "string = \"\"\"Hello my Number is 12345u6789 and\n",
    "            my friend's number is 987654321\"\"\"\n",
    "regex = r'\\d+'\n",
    "\n",
    "match = re.findall(regex, string)\n",
    "print(match)"
   ]
  },
  {
   "cell_type": "code",
   "execution_count": 25,
   "metadata": {
    "id": "rtYVEXA3NeqM",
    "outputId": "f7016e26-a7f7-4753-f192-7586ff18e00b"
   },
   "outputs": [
    {
     "name": "stdout",
     "output_type": "stream",
     "text": [
      "['H', 'e', 'l', 'l', 'o', ' ', 'm', 'y', ' ', 'N', 'u', 'm', 'b', 'e', 'r', ' ', 'i', 's', ' ', ' ', 'a', 'n', 'd', '\\n', ' ', ' ', ' ', ' ', ' ', ' ', ' ', ' ', ' ', ' ', ' ', ' ', 'm', 'y', ' ', 'f', 'r', 'i', 'e', 'n', 'd', \"'\", 's', ' ', 'n', 'u', 'm', 'b', 'e', 'r', ' ', 'i', 's', ' ']\n"
     ]
    }
   ],
   "source": [
    "string = \"\"\"Hello my Number is 123456789 and\n",
    "            my friend's number is 987654321\"\"\"\n",
    "regex = r'\\D'\n",
    "\n",
    "match = re.findall(regex, string)\n",
    "print(match)"
   ]
  },
  {
   "cell_type": "code",
   "execution_count": 30,
   "metadata": {
    "id": "JSYAUoLlNeqM",
    "outputId": "9c714ec1-202b-4263-c986-77640959226b"
   },
   "outputs": [
    {
     "name": "stdout",
     "output_type": "stream",
     "text": [
      "[' ', ' ', '*', ' ', ' ', ' ', '.']\n"
     ]
    }
   ],
   "source": [
    "string = \"\"\"He said * in 1234 some_lang.\"\"\"\n",
    "regex = r'\\W'\n",
    "\n",
    "match = re.findall(regex, string)\n",
    "print(match)"
   ]
  },
  {
   "cell_type": "code",
   "execution_count": 31,
   "metadata": {
    "id": "R9jXdkmWNeqO",
    "outputId": "1134d522-9e2b-4779-e278-bc855bdd9b7f"
   },
   "outputs": [
    {
     "name": "stdout",
     "output_type": "stream",
     "text": [
      "['I', 'went', 'to', 'him', 'at', '11', 'A', 'M', 'he', 'said', 'in', 'some_language']\n"
     ]
    }
   ],
   "source": [
    "string = \"\"\"I went to him at 11 A.M., he said *** in some_language.\"\"\"\n",
    "regex = r'\\w+'\n",
    "\n",
    "match = re.findall(regex, string)\n",
    "print(match)"
   ]
  },
  {
   "cell_type": "code",
   "execution_count": 33,
   "metadata": {
    "id": "RU7DF3xNNeqO",
    "outputId": "5938198b-3fb1-4cef-f7b4-720cddc8652b"
   },
   "outputs": [
    {
     "name": "stdout",
     "output_type": "stream",
     "text": [
      "[' ', ' ', '*', '*', '*', ' ', ' ', '.']\n"
     ]
    }
   ],
   "source": [
    "string = \"\"\"he said *** in some_language.\"\"\"\n",
    "regex = r'\\W'\n",
    "\n",
    "match = re.findall(regex, string)\n",
    "print(match)"
   ]
  },
  {
   "cell_type": "code",
   "execution_count": 34,
   "metadata": {
    "id": "1GH_9upfNeqP",
    "outputId": "d42fea01-d525-4591-8a40-b2b0ad7e665e"
   },
   "outputs": [
    {
     "name": "stdout",
     "output_type": "stream",
     "text": [
      "['h', 'e', 's', 'a', 'i', 'd', '*', '*', '*', 'i', 'n', 's', 'o', 'm', 'e', '_', 'l', 'a', 'n', 'g', 'u', 'a', 'g', 'e', '.', 'I', 'd', 'i', 'd', 'n', \"'\", 't', 'u', 'n', 'd', 'e', 'r', 's', 't', 'a', 'n', 'd', '.']\n"
     ]
    }
   ],
   "source": [
    "string = \"\"\"he said *** in some_language.\n",
    "            I didn't understand.\"\"\"\n",
    "regex = r'\\S'\n",
    "\n",
    "match = re.findall(regex, string)\n",
    "print(match)"
   ]
  },
  {
   "cell_type": "code",
   "execution_count": null,
   "metadata": {
    "id": "h41d6KHwNeqQ",
    "outputId": "48c38b91-8b09-4770-d373-6f31aa88b439"
   },
   "outputs": [
    {
     "name": "stdout",
     "output_type": "stream",
     "text": [
      "['h', 'e', 's', 'a', 'i', 'd', '*', '*', '*', 'i', 'n', 's', 'o', 'm', 'e', '_', 'l', 'a', 'n', 'g', 'u', 'a', 'g', 'e', '.']\n"
     ]
    }
   ],
   "source": [
    "string = \"\"\"he said *** in some_language.\"\"\"\n",
    "regex = '\\S'\n",
    "\n",
    "match = re.findall(regex, string)\n",
    "print(match)"
   ]
  },
  {
   "cell_type": "markdown",
   "metadata": {
    "id": "focOZFc5NeqQ"
   },
   "source": [
    "![image.png](attachment:image.png)"
   ]
  },
  {
   "cell_type": "markdown",
   "metadata": {
    "id": "Ugnw-RvaNeqR"
   },
   "source": [
    "#### \\A Returns a match if the specified characters are at the beginning of the string"
   ]
  },
  {
   "cell_type": "code",
   "execution_count": null,
   "metadata": {
    "id": "VDxIpL0WNeqR",
    "outputId": "e9471d5a-1933-4adf-ddb7-976994f0890f"
   },
   "outputs": [
    {
     "name": "stdout",
     "output_type": "stream",
     "text": [
      "['The']\n"
     ]
    }
   ],
   "source": [
    "import re\n",
    "\n",
    "txt = \"The rain in Spain\"\n",
    "\n",
    "#Check if the string starts with \"The\":\n",
    "\n",
    "x = re.findall(\"\\AThe\", txt)\n",
    "\n",
    "print(x)"
   ]
  },
  {
   "cell_type": "code",
   "execution_count": null,
   "metadata": {
    "id": "0nwHUiZINeqS",
    "outputId": "8bb9230e-ed20-48c5-fa5b-c9b07247a4af"
   },
   "outputs": [
    {
     "data": {
      "text/plain": [
       "['The']"
      ]
     },
     "execution_count": 355,
     "metadata": {},
     "output_type": "execute_result"
    }
   ],
   "source": [
    "import re\n",
    "\n",
    "txt = \"The rain in Spain\"\n",
    "\n",
    "#Check if the string starts with \"The\":\n",
    "\n",
    "b = re.compile(\"\\AThe\")\n",
    "b.findall(txt)"
   ]
  },
  {
   "cell_type": "markdown",
   "metadata": {
    "id": "i0NDn3CDNeqT"
   },
   "source": [
    "#### \\b Returns a match where the specified characters are at the beginning or at the end of a word"
   ]
  },
  {
   "cell_type": "code",
   "execution_count": null,
   "metadata": {
    "id": "sT7qX5WnNeqT",
    "outputId": "6517e91d-8328-4253-9933-1480190d6cb5"
   },
   "outputs": [
    {
     "name": "stdout",
     "output_type": "stream",
     "text": [
      "<re.Match object; span=(18, 20), match='in'>\n"
     ]
    }
   ],
   "source": [
    "import re\n",
    "\n",
    "txt = \"The rain in Spain india\"\n",
    "\n",
    "#Check if \"in\" is present at the beginning of a WORD:\n",
    "\n",
    "x = re.finditer(r\"in\\B\", txt)\n",
    "\n",
    "for i in x:\n",
    "    print(i)"
   ]
  },
  {
   "cell_type": "code",
   "execution_count": null,
   "metadata": {
    "id": "lMLucnOHNeqU",
    "outputId": "16f473bf-0846-4cbd-e804-4ba7afa7d688"
   },
   "outputs": [
    {
     "name": "stdout",
     "output_type": "stream",
     "text": [
      "['in', 'in', 'in']\n"
     ]
    }
   ],
   "source": [
    "import re\n",
    "\n",
    "txt = \"The rain in Spain\"\n",
    "\n",
    "#Check if \"ain\" is present at the end of a WORD:\n",
    "\n",
    "x = re.findall(r\"in\\b\", txt)\n",
    "\n",
    "print(x)"
   ]
  },
  {
   "cell_type": "code",
   "execution_count": null,
   "metadata": {
    "id": "Qg9-4DIsNeqV",
    "outputId": "c0777af6-a28d-4701-c84e-3263d000d247"
   },
   "outputs": [
    {
     "name": "stdout",
     "output_type": "stream",
     "text": [
      "<re.Match object; span=(5, 8), match='ain'>\n",
      "<re.Match object; span=(14, 17), match='ain'>\n"
     ]
    }
   ],
   "source": [
    "import re\n",
    "\n",
    "txt = \"The rain in Spain\"\n",
    "\n",
    "#Check if \"ain\" is present at the end of a WORD:\n",
    "\n",
    "x = re.finditer(r\"ain\\b\", txt)\n",
    "\n",
    "for i in x:\n",
    "    print(i)"
   ]
  },
  {
   "cell_type": "markdown",
   "metadata": {
    "id": "QHPW3HtJNeqV"
   },
   "source": [
    "#### \\B Returns a match where the specified characters are present, but NOT at the beginning (or at the end) of a word"
   ]
  },
  {
   "cell_type": "code",
   "execution_count": null,
   "metadata": {
    "id": "cQOUNShNNeqW",
    "outputId": "3f12178d-3b11-4e21-9724-5d6d5d469277"
   },
   "outputs": [
    {
     "name": "stdout",
     "output_type": "stream",
     "text": [
      "['ain', 'ain']\n"
     ]
    }
   ],
   "source": [
    "import re\n",
    "\n",
    "txt = \"The rain in Spain\"\n",
    "\n",
    "#Check if \"ain\" is present, but NOT at the beginning of a word:\n",
    "\n",
    "x = re.findall(r\"\\Bain\", txt)\n",
    "\n",
    "print(x)"
   ]
  },
  {
   "cell_type": "code",
   "execution_count": null,
   "metadata": {
    "id": "Nx1u0jOrNeqY",
    "outputId": "bfac65c4-bb63-4066-d193-be759c316ffe"
   },
   "outputs": [
    {
     "name": "stdout",
     "output_type": "stream",
     "text": [
      "[]\n"
     ]
    }
   ],
   "source": [
    "import re\n",
    "\n",
    "txt = \"The rain in Spain\"\n",
    "\n",
    "#Check if \"ain\" is present, but NOT at the end of a word:\n",
    "\n",
    "x = re.findall(r\"ain\\B\", txt)\n",
    "\n",
    "print(x)"
   ]
  },
  {
   "cell_type": "markdown",
   "metadata": {
    "id": "bf_I050DNeqY"
   },
   "source": [
    "### re.split()"
   ]
  },
  {
   "cell_type": "code",
   "execution_count": null,
   "metadata": {
    "id": "lMTN1IAoNeqZ",
    "outputId": "2c4b5dd1-4d26-4a4c-dfc5-e48ffe639740"
   },
   "outputs": [
    {
     "data": {
      "text/plain": [
       "['This', 'test', 'is', 'short', 'and', 'sweet', 'words', '23567', 'asdfg']"
      ]
     },
     "execution_count": 354,
     "metadata": {},
     "output_type": "execute_result"
    }
   ],
   "source": [
    "text = \"This test, **\\\\ is short and sweet ,,,... --- words 23567 ##asdfg\"\n",
    "\n",
    "p = re.compile('\\W+')\n",
    "p.split(text)"
   ]
  },
  {
   "cell_type": "markdown",
   "metadata": {
    "id": "Az7hCHXzNeqa"
   },
   "source": [
    "### re.sub()"
   ]
  },
  {
   "cell_type": "code",
   "execution_count": null,
   "metadata": {
    "id": "EAg-rKCuNeqb",
    "outputId": "6d222a30-efb0-41df-ba04-ff442a658523"
   },
   "outputs": [
    {
     "data": {
      "text/plain": [
       "'color shoes and color socks'"
      ]
     },
     "execution_count": 358,
     "metadata": {},
     "output_type": "execute_result"
    }
   ],
   "source": [
    "text = \"blue red shoes and white blue red white socks\"\n",
    "\n",
    "p = re.compile('(blue\\s|white\\s|red\\s)+')\n",
    "\n",
    "p.sub('color ', text)"
   ]
  },
  {
   "cell_type": "code",
   "execution_count": null,
   "metadata": {
    "id": "JWBinwS1Neqb",
    "outputId": "3e88f525-12cf-4a0b-96e3-fe2b733a834d"
   },
   "outputs": [
    {
     "data": {
      "text/plain": [
       "(\"Hello my Number is 123456789 and my friend's number is 987654321\", 10)"
      ]
     },
     "execution_count": 395,
     "metadata": {},
     "output_type": "execute_result"
    }
   ],
   "source": [
    "string = \"\"\"Hello my Number is 123456789 and\n",
    "            my friend's number is 987654321\"\"\"\n",
    "\n",
    "p = re.compile('\\d{5}\\b')\n",
    "new_text = p.sub('#####',string)\n",
    "p1 = re.compile(r'\\s+')\n",
    "p1.subn(' ', new_text)"
   ]
  },
  {
   "cell_type": "code",
   "execution_count": null,
   "metadata": {
    "id": "5TExuuLrNeqc",
    "outputId": "c0dea57f-d9b6-4d24-c4b6-ad6eeca7d8de"
   },
   "outputs": [
    {
     "name": "stdout",
     "output_type": "stream",
     "text": [
      "Hello my Number is 123456789 and \\nmy friend's number is 987654321\n"
     ]
    }
   ],
   "source": [
    "print(r\"Hello my Number is 123456789 and \\nmy friend's number is 987654321\")"
   ]
  },
  {
   "cell_type": "code",
   "execution_count": null,
   "metadata": {
    "id": "UIuSW3zbNeqd",
    "outputId": "d8ed9472-5f22-40c1-f585-b077928220f3"
   },
   "outputs": [
    {
     "data": {
      "text/plain": [
       "(\"Hello my Number is 1234##### and \\n            my friend's number is 9876#####\",\n",
       " 2)"
      ]
     },
     "execution_count": 390,
     "metadata": {},
     "output_type": "execute_result"
    }
   ],
   "source": [
    "string = \"\"\"Hello my Number is 123456789 and\n",
    "            my friend's number is 987654321\"\"\"\n",
    "\n",
    "p = re.compile(r'\\d{5}\\b')\n",
    "p.subn('#####',string)"
   ]
  },
  {
   "cell_type": "markdown",
   "metadata": {
    "id": "DVkCXJLoNeqe"
   },
   "source": [
    "### re.subn()"
   ]
  },
  {
   "cell_type": "code",
   "execution_count": null,
   "metadata": {
    "id": "fKMHMAwjNeqe",
    "outputId": "caf25e95-24ac-4b42-a526-58fbcfab26e8"
   },
   "outputs": [
    {
     "data": {
      "text/plain": [
       "('color shoes and color socks', 2)"
      ]
     },
     "execution_count": 293,
     "metadata": {},
     "output_type": "execute_result"
    }
   ],
   "source": [
    "text = \"blue red shoes and white blue red white socks\"\n",
    "\n",
    "p = re.compile('(blue\\s|white\\s|red\\s)+')\n",
    "\n",
    "p.subn('color ', text)"
   ]
  }
 ],
 "metadata": {
  "colab": {
   "provenance": []
  },
  "kernelspec": {
   "display_name": "Python 3 (ipykernel)",
   "language": "python",
   "name": "python3"
  },
  "language_info": {
   "codemirror_mode": {
    "name": "ipython",
    "version": 3
   },
   "file_extension": ".py",
   "mimetype": "text/x-python",
   "name": "python",
   "nbconvert_exporter": "python",
   "pygments_lexer": "ipython3",
   "version": "3.12.4"
  }
 },
 "nbformat": 4,
 "nbformat_minor": 4
}
