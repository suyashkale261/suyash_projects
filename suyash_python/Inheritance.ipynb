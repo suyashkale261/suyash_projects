{
 "cells": [
  {
   "cell_type": "code",
   "execution_count": 25,
   "id": "3820703f-6efd-4b41-ab9b-a2916a8260d8",
   "metadata": {},
   "outputs": [
    {
     "name": "stdout",
     "output_type": "stream",
     "text": [
      "This function is in parent class\n",
      "This function is in child class\n"
     ]
    }
   ],
   "source": [
    "# Single Level Inheritance Example 1 -> Child class inherits properties of one single Parent class\n",
    "class Parent:\n",
    "    def f1(self):print(\"This function is in parent class\")\n",
    "class Child(Parent):\n",
    "    def f2(self):print(\"This function is in child class\")\n",
    "obj = Child()\n",
    "obj.f1()\n",
    "obj.f2()"
   ]
  },
  {
   "cell_type": "code",
   "execution_count": 14,
   "id": "5a875bc6-52f4-4293-84b3-3094a9d20284",
   "metadata": {},
   "outputs": [
    {
     "name": "stdout",
     "output_type": "stream",
     "text": [
      "Amazon is an Online E-Commerce Store\n",
      "Ebay is an Online Store\n",
      "OLX is an Online Buy/Sell Store\n"
     ]
    }
   ],
   "source": [
    "# Single Level Inheritance Example 2\n",
    "class Brand:\n",
    "    b1 = \"Amazon\"\n",
    "    b2 = \"Ebay\"\n",
    "    b3 = \"OLX\"\n",
    "class Product(Brand):\n",
    "    p1 = \"Online E-Commerce Store\"\n",
    "    p2 = \"Online Store\"\n",
    "    p3 = \"Online Buy/Sell Store\"\n",
    "ob = Product()\n",
    "print(ob.b1 + \" is an \"+ob.p1)\n",
    "print(ob.b2 + \" is an \"+ob.p2)\n",
    "print(ob.b3 + \" is an \"+ob.p3)"
   ]
  },
  {
   "cell_type": "code",
   "execution_count": 28,
   "id": "19cf6d39-2619-4cf7-9257-07840b66f505",
   "metadata": {},
   "outputs": [
    {
     "name": "stdout",
     "output_type": "stream",
     "text": [
      "Father :  ABC , Mother :  XYZ\n"
     ]
    }
   ],
   "source": [
    "# Multiple Inheritance Example 1 -> Child Class inherits properties of more than 1 Parent class\n",
    "\n",
    "class Mother:\n",
    "    mname = \"\"\n",
    "    def mother(self):print(self.mname)\n",
    "class Father:\n",
    "    fname = \"\"\n",
    "    def father(self): print(self.fname)\n",
    "class Son(Father,Mother):\n",
    "    def parents(self): print(\"Father : \",self.fname,\", Mother : \",self.mname)\n",
    "s1 = Son()\n",
    "s1.fname = \"ABC\"\n",
    "s1.mname = \"XYZ\"\n",
    "s1.parents()"
   ]
  },
  {
   "cell_type": "code",
   "execution_count": 25,
   "id": "184863bf-c6b2-4b93-aad9-4b88d40b1315",
   "metadata": {},
   "outputs": [
    {
     "name": "stdout",
     "output_type": "stream",
     "text": [
      "Amazon is an Online E-Commerce Store and its popularity is 100 %\n",
      "Ebay is an Online Store and its popularity is 70 %\n",
      "OLX is an Online Buy/Sell Store and its popularity is 60 %\n"
     ]
    }
   ],
   "source": [
    "# Multiple Inheritance Example 2\n",
    "class Brand:\n",
    "    b1 = \"Amazon\"\n",
    "    b2 = \"Ebay\"\n",
    "    b3 = \"OLX\"\n",
    "class Product:\n",
    "    p1 = \"Online E-Commerce Store\"\n",
    "    p2 = \"Online Store\"\n",
    "    p3 = \"Online Buy/Sell Store\"\n",
    "class Popularity(Brand,Product):\n",
    "    pr1 = 100\n",
    "    pr2 = 70\n",
    "    pr3 = 60\n",
    "ob = Popularity()\n",
    "print(ob.b1 + \" is an \"+ob.p1 + \" and its popularity is\",ob.pr1,\"%\")\n",
    "print(ob.b2 + \" is an \"+ob.p2+ \" and its popularity is\",ob.pr2,\"%\")\n",
    "print(ob.b3 + \" is an \"+ob.p3+ \" and its popularity is\",ob.pr3,\"%\")"
   ]
  },
  {
   "cell_type": "code",
   "execution_count": 27,
   "id": "97fb4c83-9f1c-43fa-bdc7-e0f1cde66e90",
   "metadata": {},
   "outputs": [
    {
     "name": "stdin",
     "output_type": "stream",
     "text": [
      "Enter first number :  45\n",
      "Enter second number :  46\n"
     ]
    },
    {
     "name": "stdout",
     "output_type": "stream",
     "text": [
      "Sum of Two Numbers :  91\n"
     ]
    }
   ],
   "source": [
    "# Multilevel Inheritance Example 1 -> Child class inherits properties of its previous Parent Class\n",
    "\n",
    "class First:\n",
    "    def input(self):\n",
    "        self.a = int(input(\"Enter first number : \"))\n",
    "        self.b = int(input(\"Enter second number : \"))\n",
    "class Second(First):\n",
    "    def add(self):self.z = self.a + self.b\n",
    "class Third(Second):\n",
    "    def result(self):print(\"Sum of Two Numbers : \",self.z)\n",
    "obj = Third()\n",
    "obj.input()\n",
    "obj.add()\n",
    "obj.result()"
   ]
  },
  {
   "cell_type": "code",
   "execution_count": 33,
   "id": "1598404e-5d46-419c-a358-61025c1fd5b4",
   "metadata": {},
   "outputs": [
    {
     "name": "stdout",
     "output_type": "stream",
     "text": [
      "Amazon is an Online E-Commerce Store and its popularity is 100 %\n",
      "Ebay is an Online Store and its popularity is 75 %\n",
      "OLX is an Online Buy/Sell Store and its popularity is 65 %\n"
     ]
    }
   ],
   "source": [
    "# Multilevel Inheritance Example 2\n",
    "class Brand:\n",
    "    b1 = \"Amazon\"\n",
    "    b2 = \"Ebay\"\n",
    "    b3 = \"OLX\"\n",
    "class Product(Brand):\n",
    "    p1 = \"Online E-Commerce Store\"\n",
    "    p2 = \"Online Store\"\n",
    "    p3 = \"Online Buy/Sell Store\"\n",
    "class Popularity(Product):\n",
    "    pr1 = 100\n",
    "    pr2 = 75\n",
    "    pr3 = 65\n",
    "ob = Popularity()\n",
    "print(ob.b1 + \" is an \"+ob.p1 + \" and its popularity is \"+str(ob.pr1)+\" %\")\n",
    "print(ob.b2 + \" is an \"+ob.p2+ \" and its popularity is \"+str(ob.pr2)+\" %\")\n",
    "print(ob.b3 + \" is an \"+ob.p3+ \" and its popularity is \"+str(ob.pr3)+\" %\")"
   ]
  },
  {
   "cell_type": "code",
   "execution_count": 26,
   "id": "03df2d4c-b86d-4a7a-b06c-dbc9eed41f5b",
   "metadata": {},
   "outputs": [
    {
     "name": "stdout",
     "output_type": "stream",
     "text": [
      "Sum :  30\n",
      "Subtraction :  10\n"
     ]
    }
   ],
   "source": [
    "# Hierarchical Inheritance Example 1 -> Multiple Child classes inherit properties of one single Parent Class\n",
    "class First:\n",
    "    def __init__(self): self.x, self.y = 20,10\n",
    "class Second(First):\n",
    "    def sum(self): print(\"Sum : \", self.x+self.y)\n",
    "class Third(First):\n",
    "    def sub(self):print(\"Subtraction : \", self.x-self.y)\n",
    "obj1,obj2= Second(),Third()\n",
    "obj1.sum()\n",
    "obj2.sub()"
   ]
  },
  {
   "cell_type": "code",
   "execution_count": 29,
   "id": "8f0b6afb-919f-4259-9191-b2d5647678d3",
   "metadata": {},
   "outputs": [
    {
     "name": "stdout",
     "output_type": "stream",
     "text": [
      "Amazon is an Online E-Commerce Store and its popularity is 100 % and is of Outstanding value\n",
      "Ebay is an Online Store and its popularity is 75 % and is of Excellent value\n",
      "OLX is an Online Buy/Sell Store and its popularity is 65 % and is of Good value\n"
     ]
    }
   ],
   "source": [
    "# Hierarchical Inheitance Example 2\n",
    "class Brand:\n",
    "    b1,b2,b3 = \"Amazon\",\"Ebay\",\"OLX\"\n",
    "class Product(Brand):\n",
    "    p1,p2,p3 = \"Online E-Commerce Store\",\"Online Store\",\"Online Buy/Sell Store\"\n",
    "class Popularity(Brand):\n",
    "    pr1,pr2,pr3 = 100,75,65\n",
    "class Value(Brand):\n",
    "    v1,v2,v3 = \"Outstanding\",\"Excellent\",\"Good\"\n",
    "ob1,ob2,ob3 = Product(),Popularity(),Value()\n",
    "print(ob1.b1 + \" is an \"+ob1.p1 + \" and its popularity is \"+str(ob2.pr1)+\" %\",\"and is of \"+ ob3.v1 +\" value\")\n",
    "print(ob1.b2 + \" is an \"+ob1.p2+ \" and its popularity is \"+str(ob2.pr2)+\" %\",\"and is of \"+ ob3.v2 +\" value\")\n",
    "print(ob1.b3 + \" is an \"+ob1.p3+ \" and its popularity is \"+str(ob2.pr3)+\" %\",\"and is of \"+ ob3.v3 +\" value\")"
   ]
  },
  {
   "cell_type": "code",
   "execution_count": 30,
   "id": "bafed13f-bcf6-4187-9464-6d577a8a4b61",
   "metadata": {},
   "outputs": [
    {
     "name": "stdout",
     "output_type": "stream",
     "text": [
      "This is Student Class\n",
      "This is Mouse Class\n",
      "This is Laptop Class\n",
      "This is PC Class\n"
     ]
    }
   ],
   "source": [
    "# Hybrid Inheritance Example 1 -> Combination of All Types of Inheritance; Single, Multiple, Multilevel, and Hierarchical\n",
    "# There is no sequence in hybrid inheritance in which class will inherit which particular class. \n",
    "# You can use it according to your requirement.\n",
    "\n",
    "class PC:\n",
    "    def f1(self): print(\"This is PC Class\")\n",
    "class Laptop(PC):\n",
    "    def f2(self):print(\"This is Laptop Class\")\n",
    "class Mouse(Laptop):\n",
    "    def f3(self):print(\"This is Mouse Class\")\n",
    "class Student(Mouse,Laptop):\n",
    "    def f4(self):print(\"This is Student Class\")\n",
    "ob = Student()\n",
    "ob1 = Mouse()\n",
    "ob.f4()\n",
    "ob.f3()\n",
    "ob1.f2()\n",
    "ob1.f1()"
   ]
  },
  {
   "cell_type": "code",
   "execution_count": null,
   "id": "43fecfd7-634b-473e-b294-1a4139f0b714",
   "metadata": {},
   "outputs": [],
   "source": []
  }
 ],
 "metadata": {
  "kernelspec": {
   "display_name": "Python 3 (ipykernel)",
   "language": "python",
   "name": "python3"
  },
  "language_info": {
   "codemirror_mode": {
    "name": "ipython",
    "version": 3
   },
   "file_extension": ".py",
   "mimetype": "text/x-python",
   "name": "python",
   "nbconvert_exporter": "python",
   "pygments_lexer": "ipython3",
   "version": "3.12.4"
  }
 },
 "nbformat": 4,
 "nbformat_minor": 5
}
