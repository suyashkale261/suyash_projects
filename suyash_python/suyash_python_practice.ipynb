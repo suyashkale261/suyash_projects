{
 "cells": [
  {
   "cell_type": "code",
   "execution_count": 2,
   "id": "d62450d6-f65b-4cc8-91f7-5720107b335a",
   "metadata": {},
   "outputs": [
    {
     "name": "stdout",
     "output_type": "stream",
     "text": [
      "Sum of all numbers in [1, 2, 3, 4, 5, 6, 7, 8, 9, 10] :  55\n"
     ]
    }
   ],
   "source": [
    "list,sum = [1,2,3,4,5,6,7,8,9,10],0\n",
    "for i in list: sum += i\n",
    "print(f\"Sum of all numbers in {list} : \",sum)"
   ]
  },
  {
   "cell_type": "code",
   "execution_count": 3,
   "id": "b92d1321-9ed1-4015-bf52-dee6aad8ee0a",
   "metadata": {},
   "outputs": [
    {
     "name": "stdout",
     "output_type": "stream",
     "text": [
      "Product of all numbers in [1, 2, 3, 4, 5, 6, 7, 8, 9, 10] :  3628800\n"
     ]
    }
   ],
   "source": [
    "list,prod = [1,2,3,4,5,6,7,8,9,10],1\n",
    "for i in list: prod *= i\n",
    "print(f\"Product of all numbers in {list} : \",prod)"
   ]
  },
  {
   "cell_type": "code",
   "execution_count": 5,
   "id": "afa3a78c-1680-4a7e-814c-ccd0c0493a30",
   "metadata": {},
   "outputs": [
    {
     "name": "stdout",
     "output_type": "stream",
     "text": [
      "Largest Number in [1, 2, 3, 4, 5, 6, 7, 8, 9, 10] :  10\n"
     ]
    }
   ],
   "source": [
    "list = [1,2,3,4,5,6,7,8,9,10]\n",
    "print(f\"Largest Number in {list} : \",max(list))"
   ]
  },
  {
   "cell_type": "code",
   "execution_count": 6,
   "id": "ea068143-4f9c-4a64-813a-a61544902a9e",
   "metadata": {},
   "outputs": [
    {
     "name": "stdout",
     "output_type": "stream",
     "text": [
      "Smallest Number in [1, 2, 3, 4, 5, 6, 7, 8, 9, 10] :  1\n"
     ]
    }
   ],
   "source": [
    "list = [1,2,3,4,5,6,7,8,9,10]\n",
    "print(f\"Smallest Number in {list} : \",min(list))"
   ]
  },
  {
   "cell_type": "code",
   "execution_count": null,
   "id": "0a3e53bf-586c-42da-9dac-8d2a192c7a88",
   "metadata": {},
   "outputs": [],
   "source": []
  }
 ],
 "metadata": {
  "kernelspec": {
   "display_name": "Python 3 (ipykernel)",
   "language": "python",
   "name": "python3"
  },
  "language_info": {
   "codemirror_mode": {
    "name": "ipython",
    "version": 3
   },
   "file_extension": ".py",
   "mimetype": "text/x-python",
   "name": "python",
   "nbconvert_exporter": "python",
   "pygments_lexer": "ipython3",
   "version": "3.12.4"
  }
 },
 "nbformat": 4,
 "nbformat_minor": 5
}
