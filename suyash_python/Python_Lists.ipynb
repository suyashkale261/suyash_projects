{
 "cells": [
  {
   "cell_type": "markdown",
   "id": "37be462b-7821-49d0-bb23-7de382d960f0",
   "metadata": {},
   "source": [
    "PYTHON LISTS\n",
    "\n",
    "A list in Python is used to store the sequence of various types of data. Python lists are mutable type its mean we can modify its element after it is created. However, Python consists of six data-types that are capable to store the sequences, but the most common and reliable type is the list.\n",
    "\n",
    "A list can be defined as a collection of values or items of different types. The items in the list are separated with the comma (,) and enclosed within the square brackets []."
   ]
  },
  {
   "cell_type": "code",
   "execution_count": 21,
   "id": "a130b173-ce3c-486d-a50e-cf63dce08bc8",
   "metadata": {},
   "outputs": [
    {
     "name": "stdout",
     "output_type": "stream",
     "text": [
      "[1, 1.2, 'Suyash', True, (2+4j)]\n"
     ]
    }
   ],
   "source": [
    "list1 = [1,1.2,\"Suyash\",True,2+4j]\n",
    "print(list1)"
   ]
  },
  {
   "cell_type": "code",
   "execution_count": 22,
   "id": "c0b27706-4653-4e08-9be4-12dfe01d3570",
   "metadata": {},
   "outputs": [
    {
     "data": {
      "text/plain": [
       "list"
      ]
     },
     "execution_count": 22,
     "metadata": {},
     "output_type": "execute_result"
    }
   ],
   "source": [
    "type(list1)"
   ]
  },
  {
   "cell_type": "code",
   "execution_count": 23,
   "id": "6fd66bac-48b7-45a1-8fd0-be47e45cf9e3",
   "metadata": {},
   "outputs": [
    {
     "name": "stdout",
     "output_type": "stream",
     "text": [
      "[]\n"
     ]
    }
   ],
   "source": [
    "list2 = []\n",
    "print(list2)"
   ]
  },
  {
   "cell_type": "code",
   "execution_count": 24,
   "id": "fe058bf1-91f7-46ff-932c-f6c4eb5b37a4",
   "metadata": {},
   "outputs": [
    {
     "data": {
      "text/plain": [
       "list"
      ]
     },
     "execution_count": 24,
     "metadata": {},
     "output_type": "execute_result"
    }
   ],
   "source": [
    "type(list2)"
   ]
  },
  {
   "cell_type": "code",
   "execution_count": 36,
   "id": "ccc7a911-df69-4a86-86bd-13ea388891b7",
   "metadata": {},
   "outputs": [
    {
     "name": "stdout",
     "output_type": "stream",
     "text": [
      "[1, 1.2, 'Suyash', True, (2+4j), [1, 2, 3, 4, 5]]\n"
     ]
    }
   ],
   "source": [
    "list3 = [1,1.2,\"Suyash\",True,2+4j,[1,2,3,4,5]]\n",
    "print(list3)"
   ]
  },
  {
   "cell_type": "code",
   "execution_count": 37,
   "id": "d643221b-131d-4042-abca-f95b631dcdfa",
   "metadata": {},
   "outputs": [
    {
     "data": {
      "text/plain": [
       "7"
      ]
     },
     "execution_count": 37,
     "metadata": {},
     "output_type": "execute_result"
    }
   ],
   "source": [
    "list4 = [\"mouse\",[8,4,6,[2,3,[4,5,7]]],['a']]\n",
    "list4[1][3][2][2]"
   ]
  },
  {
   "cell_type": "code",
   "execution_count": 38,
   "id": "78176b7f-8516-4dd4-b7ea-a277f87f84a8",
   "metadata": {},
   "outputs": [
    {
     "data": {
      "text/plain": [
       "13"
      ]
     },
     "execution_count": 38,
     "metadata": {},
     "output_type": "execute_result"
    }
   ],
   "source": [
    "list5 = [1,2,3,4,[5,11,[12,13]]]\n",
    "list5[4][2][1]"
   ]
  },
  {
   "cell_type": "code",
   "execution_count": 39,
   "id": "b47c2ca5-3428-4851-aa76-7872057b3964",
   "metadata": {},
   "outputs": [
    {
     "name": "stdout",
     "output_type": "stream",
     "text": [
      "1,2,3,4,5\n"
     ]
    }
   ],
   "source": [
    "l6 = [1,2,3,4,5]\n",
    "print(*l6,sep=\",\")"
   ]
  },
  {
   "cell_type": "code",
   "execution_count": 46,
   "id": "a176e21f-359b-46ad-a4f5-c650842ffd26",
   "metadata": {},
   "outputs": [
    {
     "name": "stdout",
     "output_type": "stream",
     "text": [
      "10 1 1 10\n"
     ]
    }
   ],
   "source": [
    "l7 = [1,2,3,4,5,6,7,8,9,10]\n",
    "print(l7[-1],l7[0],l7[-10],l7[-1])"
   ]
  },
  {
   "cell_type": "code",
   "execution_count": null,
   "id": "67c245c0-822b-4ae4-82fa-c2eee4e58745",
   "metadata": {},
   "outputs": [],
   "source": []
  }
 ],
 "metadata": {
  "kernelspec": {
   "display_name": "Python 3 (ipykernel)",
   "language": "python",
   "name": "python3"
  },
  "language_info": {
   "codemirror_mode": {
    "name": "ipython",
    "version": 3
   },
   "file_extension": ".py",
   "mimetype": "text/x-python",
   "name": "python",
   "nbconvert_exporter": "python",
   "pygments_lexer": "ipython3",
   "version": "3.12.4"
  }
 },
 "nbformat": 4,
 "nbformat_minor": 5
}
