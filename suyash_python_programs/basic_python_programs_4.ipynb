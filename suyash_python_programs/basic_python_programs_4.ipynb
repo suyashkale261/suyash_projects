{
 "cells": [
  {
   "cell_type": "code",
   "execution_count": 4,
   "id": "10a876f9-3d26-4403-ae57-d08ce7db7593",
   "metadata": {},
   "outputs": [
    {
     "name": "stdout",
     "output_type": "stream",
     "text": [
      "Resultant mapped string with list variable in it : \n",
      "Hey Python Developers Welcome to JavaTpoint, ['Java', 'Python', 'C++', 'HTML', 'JavaScript']\n"
     ]
    }
   ],
   "source": [
    "mkr1 = \"Hey\"\n",
    "mkr2 = \"Python\"\n",
    "mkr3 = \"Developers\"\n",
    "mkr4 = \"Welcome\"\n",
    "mkr5 = \"to\"\n",
    "mkr6 = \"JavaTpoint\"\n",
    "AList = [\"Java\",\"Python\",\"C++\",\"HTML\",\"JavaScript\"]\n",
    "ResultantStr = \"%s %s %s %s %s %s, %s\" %(mkr1,mkr2,mkr3,mkr4,mkr5,mkr6,AList)\n",
    "print(\"Resultant mapped string with list variable in it : \")\n",
    "print(ResultantStr)"
   ]
  },
  {
   "cell_type": "code",
   "execution_count": 5,
   "id": "17df3ca6-7f4e-41a5-bdfe-c508c5855c0b",
   "metadata": {},
   "outputs": [
    {
     "name": "stdout",
     "output_type": "stream",
     "text": [
      "We all are equal.\n"
     ]
    }
   ],
   "source": [
    "print('We all are {}.'.format('equal'))"
   ]
  },
  {
   "cell_type": "code",
   "execution_count": 8,
   "id": "c1a51739-1b43-4101-9527-cd443740585d",
   "metadata": {},
   "outputs": [
    {
     "name": "stdin",
     "output_type": "stream",
     "text": [
      "enter the price :  90\n"
     ]
    },
    {
     "name": "stdout",
     "output_type": "stream",
     "text": [
      "The price is 90 dollars\n",
      "the price is price dollars\n"
     ]
    }
   ],
   "source": [
    "price = int(input(\"enter the price : \"))\n",
    "txt = \"The price is {} dollars\"\n",
    "print(txt.format(price))\n",
    "print(\"the price is price dollars\")"
   ]
  },
  {
   "cell_type": "code",
   "execution_count": 10,
   "id": "ffd3af74-0bfa-4421-8b5e-428ec5a0cd4b",
   "metadata": {},
   "outputs": [
    {
     "name": "stdout",
     "output_type": "stream",
     "text": [
      "Read the directions\n"
     ]
    }
   ],
   "source": [
    "print('{2} {1} {0}'.format('directions','the','Read'))"
   ]
  },
  {
   "cell_type": "code",
   "execution_count": 17,
   "id": "e66a9bae-ce3f-41f1-8d86-eae6fa68e029",
   "metadata": {},
   "outputs": [
    {
     "name": "stdout",
     "output_type": "stream",
     "text": [
      "The value of pi is : 3.14\n"
     ]
    }
   ],
   "source": [
    "print(\"The value of pi is : %.2f\" %(3.1415926535897932384626433832795))"
   ]
  },
  {
   "cell_type": "code",
   "execution_count": 16,
   "id": "807fdac5-80e9-4300-9f51-593cdea11fa8",
   "metadata": {},
   "outputs": [
    {
     "name": "stdout",
     "output_type": "stream",
     "text": [
      "Read the instructions carefully\n"
     ]
    }
   ],
   "source": [
    "print('{2} {1} {0} {3}'.format('instructions','the','Read','carefully'))"
   ]
  },
  {
   "cell_type": "code",
   "execution_count": 19,
   "id": "245b4ebc-8675-43d1-b7be-947169f506ad",
   "metadata": {},
   "outputs": [
    {
     "name": "stdout",
     "output_type": "stream",
     "text": [
      "I want 3 pieces of item number 567 for 49.00 USD.\n"
     ]
    }
   ],
   "source": [
    "q,item,p,o = 3,567,49,\"I want {} pieces of item number {} for {:.2f} USD.\"\n",
    "print(o.format(q,item,p))"
   ]
  },
  {
   "cell_type": "code",
   "execution_count": 20,
   "id": "1d98f223-72bc-49d7-b74a-696168e9c1d5",
   "metadata": {},
   "outputs": [
    {
     "name": "stdout",
     "output_type": "stream",
     "text": [
      "His Name is Suyash. Suyash is 28 years old.\n"
     ]
    }
   ],
   "source": [
    "age,name,txt = 28,\"Suyash\",\"His Name is {1}. {1} is {0} years old.\"\n",
    "print(txt.format(age,name))"
   ]
  },
  {
   "cell_type": "code",
   "execution_count": null,
   "id": "ac89f12e-098d-456c-aee2-6578442d3aaa",
   "metadata": {},
   "outputs": [],
   "source": []
  }
 ],
 "metadata": {
  "kernelspec": {
   "display_name": "Python 3 (ipykernel)",
   "language": "python",
   "name": "python3"
  },
  "language_info": {
   "codemirror_mode": {
    "name": "ipython",
    "version": 3
   },
   "file_extension": ".py",
   "mimetype": "text/x-python",
   "name": "python",
   "nbconvert_exporter": "python",
   "pygments_lexer": "ipython3",
   "version": "3.12.4"
  }
 },
 "nbformat": 4,
 "nbformat_minor": 5
}
