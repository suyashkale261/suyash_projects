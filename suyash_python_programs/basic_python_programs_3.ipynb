{
 "cells": [
  {
   "cell_type": "code",
   "execution_count": 3,
   "id": "fd553d6c-dea6-47e1-b1db-fa139c10a25f",
   "metadata": {},
   "outputs": [
    {
     "data": {
      "text/plain": [
       "'SUYASH PRAMOD KALE'"
      ]
     },
     "execution_count": 3,
     "metadata": {},
     "output_type": "execute_result"
    }
   ],
   "source": [
    "str1 = \"SUYASH PRAMOD KALE\"\n",
    "str1"
   ]
  },
  {
   "cell_type": "code",
   "execution_count": 4,
   "id": "bd269331-f644-4989-bdc4-1268b615af89",
   "metadata": {},
   "outputs": [
    {
     "data": {
      "text/plain": [
       "'U'"
      ]
     },
     "execution_count": 4,
     "metadata": {},
     "output_type": "execute_result"
    }
   ],
   "source": [
    "str1 = \"SUYASH PRAMOD KALE\"\n",
    "str1[1]"
   ]
  },
  {
   "cell_type": "code",
   "execution_count": 9,
   "id": "a10676a2-2582-4afa-af09-6b1b2932dbd2",
   "metadata": {},
   "outputs": [
    {
     "name": "stdout",
     "output_type": "stream",
     "text": [
      "18\n"
     ]
    }
   ],
   "source": [
    "str1 = \"SUYASH PRAMOD KALE\"\n",
    "print(len(str1)) # len() - gives the length of a string including spaces"
   ]
  },
  {
   "cell_type": "code",
   "execution_count": 16,
   "id": "16b8315c-a28f-48ef-8bdb-87c1486a6019",
   "metadata": {},
   "outputs": [
    {
     "name": "stdout",
     "output_type": "stream",
     "text": [
      "Length :  18\n",
      "S 0\n",
      "U 1\n",
      "Y 2\n",
      "A 3\n",
      "S 4\n",
      "H 5\n",
      "  6\n",
      "P 7\n",
      "R 8\n",
      "A 9\n",
      "M 10\n",
      "O 11\n",
      "D 12\n",
      "  13\n",
      "K 14\n",
      "A 15\n",
      "L 16\n",
      "E 17\n"
     ]
    }
   ],
   "source": [
    "s = \"SUYASH PRAMOD KALE\"\n",
    "print(\"Length : \",len(s))\n",
    "for i in range(len(s)): print(s[i],i)"
   ]
  },
  {
   "cell_type": "code",
   "execution_count": 22,
   "id": "f960b209-dac3-4b84-b71b-3c622677fd79",
   "metadata": {},
   "outputs": [
    {
     "name": "stdout",
     "output_type": "stream",
     "text": [
      "SUYASH PRAMOD KALE\n",
      "UYAS\n",
      "ELAK DOMARP HSAYUS\n",
      "SYS RMD\n"
     ]
    }
   ],
   "source": [
    "# Slicing String\n",
    "s = \"SUYASH PRAMOD KALE\"\n",
    "print(s[:])\n",
    "print(s[1:5])\n",
    "print(s[::-1])\n",
    "print(s[0:13:2])"
   ]
  },
  {
   "cell_type": "code",
   "execution_count": 30,
   "id": "ff650739-6168-4eee-96c9-9b58af8a4912",
   "metadata": {},
   "outputs": [
    {
     "name": "stdout",
     "output_type": "stream",
     "text": [
      "18\n",
      "HELLO GOOD MORNING\n",
      "hello good morning\n",
      "Hello good morning\n",
      "4\n",
      "11\n",
      "5\n",
      "2\n"
     ]
    }
   ],
   "source": [
    "s = \"hello good morning\"\n",
    "print(len(s))\n",
    "print(s.upper())\n",
    "print(s.lower())\n",
    "print(s.capitalize())\n",
    "print(s.count('o'))\n",
    "print(s.index(\"m\"))\n",
    "print(s.index(\" \"))\n",
    "print(s.count(\" \"))"
   ]
  },
  {
   "cell_type": "code",
   "execution_count": 32,
   "id": "67756fc6-a867-44ef-9894-ce9b9735e193",
   "metadata": {},
   "outputs": [
    {
     "data": {
      "text/plain": [
       "'hi, this is example of strip function'"
      ]
     },
     "execution_count": 32,
     "metadata": {},
     "output_type": "execute_result"
    }
   ],
   "source": [
    "\"    hi, this is example of strip function    \".strip() # it removes white spaces from both sides"
   ]
  },
  {
   "cell_type": "code",
   "execution_count": 33,
   "id": "9e1c97e5-c776-4ea5-83e0-a3c0995736b8",
   "metadata": {},
   "outputs": [
    {
     "data": {
      "text/plain": [
       "'    hi, this is example of strip function'"
      ]
     },
     "execution_count": 33,
     "metadata": {},
     "output_type": "execute_result"
    }
   ],
   "source": [
    "\"    hi, this is example of strip function    \".rstrip()"
   ]
  },
  {
   "cell_type": "code",
   "execution_count": 34,
   "id": "f7fa994d-91e6-4ef5-898a-d1d3bedbd354",
   "metadata": {},
   "outputs": [
    {
     "data": {
      "text/plain": [
       "'hi, this is example of strip function    '"
      ]
     },
     "execution_count": 34,
     "metadata": {},
     "output_type": "execute_result"
    }
   ],
   "source": [
    "\"    hi, this is example of strip function    \".lstrip()"
   ]
  },
  {
   "cell_type": "code",
   "execution_count": 40,
   "id": "3b42dbdc-ae5f-431d-abbe-beafca9cf71d",
   "metadata": {},
   "outputs": [
    {
     "name": "stdout",
     "output_type": "stream",
     "text": [
      "['SUYASH', 'PRAMOD', 'KALE']\n"
     ]
    }
   ],
   "source": [
    "print(\"SUYASH PRAMOD KALE\".split(\" \"))"
   ]
  },
  {
   "cell_type": "code",
   "execution_count": 41,
   "id": "d43184a4-a9e0-448d-bf22-38bb74235902",
   "metadata": {},
   "outputs": [
    {
     "name": "stdout",
     "output_type": "stream",
     "text": [
      "['X', 'Y', 'Z']\n"
     ]
    }
   ],
   "source": [
    "print(\"X,Y,Z\".split(\",\"))"
   ]
  },
  {
   "cell_type": "code",
   "execution_count": 42,
   "id": "0f48bc94-cdaa-4a96-abe6-19da78743a6b",
   "metadata": {},
   "outputs": [
    {
     "name": "stdout",
     "output_type": "stream",
     "text": [
      "['', 'UYA', 'H PRAMOD KALE']\n"
     ]
    }
   ],
   "source": [
    "print(\"SUYASH PRAMOD KALE\".split(\"S\"))"
   ]
  },
  {
   "cell_type": "code",
   "execution_count": 46,
   "id": "62d12990-8202-49d3-8848-27c7f43eea12",
   "metadata": {},
   "outputs": [
    {
     "name": "stdout",
     "output_type": "stream",
     "text": [
      "SUYASH KALE\n"
     ]
    }
   ],
   "source": [
    "print(\"SUYASH\" +\" \"+ \"KALE\")"
   ]
  },
  {
   "cell_type": "code",
   "execution_count": 47,
   "id": "5047df30-eeff-47a0-b289-abc57ff68f18",
   "metadata": {},
   "outputs": [
    {
     "name": "stdout",
     "output_type": "stream",
     "text": [
      "SUYASH KALE\n"
     ]
    }
   ],
   "source": [
    "s1= \"SUYASH\"\n",
    "s2 = \"KALE\"\n",
    "print(\"%s %s\" %(s1,s2))"
   ]
  },
  {
   "cell_type": "code",
   "execution_count": 48,
   "id": "cb844ae7-c173-4903-9538-94fc3cd94afb",
   "metadata": {},
   "outputs": [
    {
     "name": "stdout",
     "output_type": "stream",
     "text": [
      "SUYASH KALE\n"
     ]
    }
   ],
   "source": [
    "s3= \"SUYASH\"\n",
    "s4 = \"KALE\"\n",
    "print(\"{} {}\".format(s3,s4))"
   ]
  },
  {
   "cell_type": "code",
   "execution_count": 51,
   "id": "01018576-3989-434a-88c0-13baecaba0cf",
   "metadata": {},
   "outputs": [
    {
     "name": "stdout",
     "output_type": "stream",
     "text": [
      "SUYASH KALE\n"
     ]
    }
   ],
   "source": [
    "s5=\"SUYASH\"\n",
    "s6=\"KALE\"\n",
    "print(f\"{s5} {s6}\")"
   ]
  },
  {
   "cell_type": "code",
   "execution_count": 55,
   "id": "fafef5b7-aadd-47b7-80bd-74842fd0d1c9",
   "metadata": {},
   "outputs": [
    {
     "name": "stdout",
     "output_type": "stream",
     "text": [
      "SUYASH KALE\n"
     ]
    }
   ],
   "source": [
    "s7=\"SUYASH\"\n",
    "s8=\"KALE\"\n",
    "print(\" \".join([s7,s8]))"
   ]
  },
  {
   "cell_type": "code",
   "execution_count": 56,
   "id": "5cddccba-f06d-44e4-966e-04a84fdf553b",
   "metadata": {},
   "outputs": [
    {
     "data": {
      "text/plain": [
       "True"
      ]
     },
     "execution_count": 56,
     "metadata": {},
     "output_type": "execute_result"
    }
   ],
   "source": [
    "s1 = \"SUYASH PRAMOD KALE\"\n",
    "s1.isupper()"
   ]
  },
  {
   "cell_type": "code",
   "execution_count": 57,
   "id": "fdce0c1d-bcf7-49b7-8c52-54ccae3596a0",
   "metadata": {},
   "outputs": [
    {
     "data": {
      "text/plain": [
       "True"
      ]
     },
     "execution_count": 57,
     "metadata": {},
     "output_type": "execute_result"
    }
   ],
   "source": [
    "s2 = \"suyash pramod kale\"\n",
    "s2.islower()"
   ]
  },
  {
   "cell_type": "code",
   "execution_count": 58,
   "id": "0d4f86ca-e8ec-448c-9c77-eb0b28c40adc",
   "metadata": {},
   "outputs": [
    {
     "data": {
      "text/plain": [
       "True"
      ]
     },
     "execution_count": 58,
     "metadata": {},
     "output_type": "execute_result"
    }
   ],
   "source": [
    "s3 = \"suyash1234\"\n",
    "s3.isalnum()"
   ]
  },
  {
   "cell_type": "code",
   "execution_count": 59,
   "id": "e9d1f9c8-9d2e-4cce-8534-8dd6e23f35ca",
   "metadata": {},
   "outputs": [
    {
     "data": {
      "text/plain": [
       "True"
      ]
     },
     "execution_count": 59,
     "metadata": {},
     "output_type": "execute_result"
    }
   ],
   "source": [
    "s4 = \"1234567890\"\n",
    "s4.isnumeric()"
   ]
  },
  {
   "cell_type": "code",
   "execution_count": null,
   "id": "17798549-2a02-4c9f-aadc-97f8d350b06d",
   "metadata": {},
   "outputs": [],
   "source": []
  }
 ],
 "metadata": {
  "kernelspec": {
   "display_name": "Python 3 (ipykernel)",
   "language": "python",
   "name": "python3"
  },
  "language_info": {
   "codemirror_mode": {
    "name": "ipython",
    "version": 3
   },
   "file_extension": ".py",
   "mimetype": "text/x-python",
   "name": "python",
   "nbconvert_exporter": "python",
   "pygments_lexer": "ipython3",
   "version": "3.12.4"
  }
 },
 "nbformat": 4,
 "nbformat_minor": 5
}
