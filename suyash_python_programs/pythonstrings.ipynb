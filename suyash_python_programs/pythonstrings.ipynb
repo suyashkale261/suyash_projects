{
 "cells": [
  {
   "cell_type": "code",
   "execution_count": 2,
   "id": "f128e416",
   "metadata": {},
   "outputs": [
    {
     "name": "stdout",
     "output_type": "stream",
     "text": [
      "hi, Welcome to ItVedant\n"
     ]
    }
   ],
   "source": [
    "## Python String functions.\n",
    "String =\"hi, Welcome to ItVedant\"\n",
    "print(String)"
   ]
  },
  {
   "cell_type": "code",
   "execution_count": null,
   "id": "f5ccfa3b",
   "metadata": {},
   "outputs": [],
   "source": [
    "# slicing string\n",
    "String[0:] # returns all the characters from index 0"
   ]
  },
  {
   "cell_type": "code",
   "execution_count": null,
   "id": "a36c84cd",
   "metadata": {},
   "outputs": [],
   "source": [
    "String[::-1]# returns all charactrers in reverse order"
   ]
  },
  {
   "cell_type": "code",
   "execution_count": null,
   "id": "b4ed2f55",
   "metadata": {},
   "outputs": [],
   "source": [
    "String[0:7:2]# returns the characters starting with index 0 till index 6(7-1) by step 2"
   ]
  },
  {
   "cell_type": "code",
   "execution_count": null,
   "id": "42a62ce1",
   "metadata": {},
   "outputs": [],
   "source": [
    "String[-1:-6:-2] # returns the characters starting with index -1(backword) till -5 with step 2"
   ]
  },
  {
   "cell_type": "code",
   "execution_count": null,
   "id": "d71ccd1a",
   "metadata": {},
   "outputs": [],
   "source": [
    "String[4:9] # returns the characters starting with index 4 till index 8 by default step 1"
   ]
  },
  {
   "cell_type": "code",
   "execution_count": null,
   "id": "026bb9fb",
   "metadata": {},
   "outputs": [],
   "source": [
    "String[4:9:0]# step cannot be 0"
   ]
  },
  {
   "cell_type": "markdown",
   "id": "504025ca",
   "metadata": {},
   "source": [
    "### Buiilt in functions of string"
   ]
  },
  {
   "cell_type": "code",
   "execution_count": null,
   "id": "d12c000f",
   "metadata": {},
   "outputs": [],
   "source": [
    "len(String) # returns total no of characters in the string"
   ]
  },
  {
   "cell_type": "code",
   "execution_count": null,
   "id": "3df34063",
   "metadata": {},
   "outputs": [],
   "source": [
    "String.upper() #converts the entire stirng to upper case"
   ]
  },
  {
   "cell_type": "code",
   "execution_count": null,
   "id": "c94d5d2a",
   "metadata": {},
   "outputs": [],
   "source": [
    "String.lower() #converts the entire stirng to lower case"
   ]
  },
  {
   "cell_type": "code",
   "execution_count": 3,
   "id": "baf5c153",
   "metadata": {},
   "outputs": [
    {
     "data": {
      "text/plain": [
       "'Hi, welcome to itvedant'"
      ]
     },
     "execution_count": 3,
     "metadata": {},
     "output_type": "execute_result"
    }
   ],
   "source": [
    "String.capitalize() # converts the first letter of string in capital letter"
   ]
  },
  {
   "cell_type": "code",
   "execution_count": null,
   "id": "936bdc13",
   "metadata": {},
   "outputs": [],
   "source": [
    "String.count('gh') # count function returns the no of count of substring in given string"
   ]
  },
  {
   "cell_type": "code",
   "execution_count": null,
   "id": "48c7725a",
   "metadata": {},
   "outputs": [],
   "source": [
    "String1=\"This is python tutorial,it includes all Python built in functions\""
   ]
  },
  {
   "cell_type": "code",
   "execution_count": null,
   "id": "9dbf864d",
   "metadata": {},
   "outputs": [],
   "source": [
    "String1.count(\"python\")"
   ]
  },
  {
   "cell_type": "code",
   "execution_count": null,
   "id": "bef9c4ce",
   "metadata": {},
   "outputs": [],
   "source": [
    "String1.count(\"python\",0,5) # last 2 parameters indicate starting and ending position and optional"
   ]
  },
  {
   "cell_type": "code",
   "execution_count": null,
   "id": "148d8905",
   "metadata": {},
   "outputs": [],
   "source": [
    "String1.index(\"i\") # it returns the first occurance index of given character. "
   ]
  },
  {
   "cell_type": "code",
   "execution_count": null,
   "id": "7a1dd969",
   "metadata": {},
   "outputs": [],
   "source": [
    "\"    hi, this is example of strip function    \".strip() # it removes leading and trailing spaces in the string"
   ]
  },
  {
   "cell_type": "code",
   "execution_count": null,
   "id": "b5524f18",
   "metadata": {},
   "outputs": [],
   "source": [
    "\"    hi, this is example of strip function    \".rstrip() # it removes trailing spaces in the string"
   ]
  },
  {
   "cell_type": "code",
   "execution_count": null,
   "id": "d9b786eb",
   "metadata": {},
   "outputs": [],
   "source": [
    "\"    hi, this is example of strip function    \".lstrip()# it removes leading spaces in the string"
   ]
  },
  {
   "cell_type": "code",
   "execution_count": null,
   "id": "483fb6c7",
   "metadata": {},
   "outputs": [],
   "source": [
    "print(String1.split(),end=\"\") # it split the string into elemets of list,by default by space"
   ]
  },
  {
   "cell_type": "code",
   "execution_count": null,
   "id": "834480de",
   "metadata": {},
   "outputs": [],
   "source": [
    "String1.split(\",\") # it splits the string based on paramerter provided."
   ]
  },
  {
   "cell_type": "code",
   "execution_count": null,
   "id": "6277fa62",
   "metadata": {},
   "outputs": [],
   "source": [
    "String1.split(\"in\")"
   ]
  },
  {
   "cell_type": "code",
   "execution_count": null,
   "id": "98f05273",
   "metadata": {},
   "outputs": [],
   "source": [
    "String1.rsplit(\",\")"
   ]
  },
  {
   "cell_type": "code",
   "execution_count": null,
   "id": "f8806111",
   "metadata": {},
   "outputs": [],
   "source": [
    "str1=\"Hi\" ## string concat using + operator\n",
    "str2=\"WElcome\"\n",
    "str3=str1+\" \"+str2\n",
    "str3\n"
   ]
  },
  {
   "cell_type": "code",
   "execution_count": null,
   "id": "84c55dd2",
   "metadata": {
    "scrolled": true
   },
   "outputs": [],
   "source": [
    "# Python program to demonstrate the\n",
    "# use of join function to join list\n",
    "# elements with a character.\n",
    "\n",
    "list1 = [\"1\",'2']\n",
    "\n",
    "s = \"hi\"\n",
    "\n",
    "# joins elements of list1 by '-'\n",
    "# and stores in string s\n",
    "s = s.join(list1)\n",
    "\n",
    "# join use to join a list of\n",
    "# strings to a separator s\n",
    "print(s)\n"
   ]
  },
  {
   "cell_type": "code",
   "execution_count": null,
   "id": "230c9077",
   "metadata": {},
   "outputs": [],
   "source": [
    "s1=\"$\"\n",
    "s1=s1.join(list1)"
   ]
  },
  {
   "cell_type": "code",
   "execution_count": null,
   "id": "f1dbd012",
   "metadata": {},
   "outputs": [],
   "source": [
    "s1\n"
   ]
  },
  {
   "cell_type": "code",
   "execution_count": null,
   "id": "54d67140",
   "metadata": {},
   "outputs": [],
   "source": [
    "str4=\"learning python\"\n",
    "\n",
    "str4.isupper()# it checks whether all charactrers are in upper case or not"
   ]
  },
  {
   "cell_type": "code",
   "execution_count": null,
   "id": "c90eefe4",
   "metadata": {},
   "outputs": [],
   "source": [
    "str4.islower()# it checks whether all charactrers are in lower case or not"
   ]
  },
  {
   "cell_type": "code",
   "execution_count": null,
   "id": "2df8d369",
   "metadata": {},
   "outputs": [],
   "source": [
    "str4.isalnum()# checks whether string contains alphabets and numbers"
   ]
  },
  {
   "cell_type": "code",
   "execution_count": null,
   "id": "11430b16",
   "metadata": {},
   "outputs": [],
   "source": [
    "str5=\"232423\"\n",
    "str5.isnumeric()"
   ]
  },
  {
   "cell_type": "code",
   "execution_count": 6,
   "id": "c731a754",
   "metadata": {},
   "outputs": [
    {
     "data": {
      "text/plain": [
       "' This is PYTHON. PYTHON is easy to learn '"
      ]
     },
     "execution_count": 6,
     "metadata": {},
     "output_type": "execute_result"
    }
   ],
   "source": [
    "first=\" This is python. python is easy to learn \"\n",
    "first.replace(\"python\",\"PYTHON\")"
   ]
  },
  {
   "cell_type": "code",
   "execution_count": null,
   "id": "550157df",
   "metadata": {},
   "outputs": [],
   "source": [
    "str4.title()# converts the sting into title case"
   ]
  },
  {
   "cell_type": "code",
   "execution_count": 4,
   "id": "558cc7e2",
   "metadata": {},
   "outputs": [],
   "source": [
    "del first# deletes the entire string"
   ]
  },
  {
   "cell_type": "code",
   "execution_count": 5,
   "id": "171a0c4d",
   "metadata": {},
   "outputs": [
    {
     "ename": "NameError",
     "evalue": "name 'first' is not defined",
     "output_type": "error",
     "traceback": [
      "\u001b[1;31m---------------------------------------------------------------------------\u001b[0m",
      "\u001b[1;31mNameError\u001b[0m                                 Traceback (most recent call last)",
      "\u001b[1;32mc:\\Users\\admin\\Documents\\Rekha\\pythonstrings.ipynb Cell 36\u001b[0m in \u001b[0;36m<cell line: 1>\u001b[1;34m()\u001b[0m\n\u001b[1;32m----> <a href='vscode-notebook-cell:/c%3A/Users/admin/Documents/Rekha/pythonstrings.ipynb#X50sZmlsZQ%3D%3D?line=0'>1</a>\u001b[0m first\n",
      "\u001b[1;31mNameError\u001b[0m: name 'first' is not defined"
     ]
    }
   ],
   "source": [
    "first"
   ]
  },
  {
   "cell_type": "code",
   "execution_count": 9,
   "id": "38ffaa39",
   "metadata": {},
   "outputs": [
    {
     "data": {
      "text/plain": [
       "9"
      ]
     },
     "execution_count": 9,
     "metadata": {},
     "output_type": "execute_result"
    }
   ],
   "source": [
    "first.find(\"p\") # returns the fisrt occurance index of the given character as parameter"
   ]
  },
  {
   "cell_type": "code",
   "execution_count": 11,
   "id": "419d7177",
   "metadata": {},
   "outputs": [
    {
     "data": {
      "text/plain": [
       "9"
      ]
     },
     "execution_count": 11,
     "metadata": {},
     "output_type": "execute_result"
    }
   ],
   "source": [
    "first.index(\"python\")"
   ]
  },
  {
   "cell_type": "markdown",
   "id": "7b3cad59",
   "metadata": {},
   "source": [
    "### String fomratting"
   ]
  },
  {
   "cell_type": "code",
   "execution_count": 17,
   "id": "27ad5985",
   "metadata": {},
   "outputs": [
    {
     "name": "stdout",
     "output_type": "stream",
     "text": [
      "Hello Python developers! Welcome to, ItVedant! !\n"
     ]
    },
    {
     "data": {
      "text/plain": [
       "int"
      ]
     },
     "execution_count": 17,
     "metadata": {},
     "output_type": "execute_result"
    }
   ],
   "source": [
    "# Define a string value   \n",
    "str = \"ItVedant!\"  \n",
    "b=45\n",
    "# using %s to appending string  \n",
    "print(\"Hello Python developers! Welcome to, %s !\" %str)  \n",
    "type(b)"
   ]
  },
  {
   "cell_type": "code",
   "execution_count": 20,
   "id": "43665551",
   "metadata": {},
   "outputs": [
    {
     "name": "stdout",
     "output_type": "stream",
     "text": [
      "the addition is 46.000000\n"
     ]
    },
    {
     "data": {
      "text/plain": [
       "int"
      ]
     },
     "execution_count": 20,
     "metadata": {},
     "output_type": "execute_result"
    }
   ],
   "source": [
    "add=46\n",
    "print(\"the addition is %f\" %add)\n",
    "type(add)"
   ]
  },
  {
   "cell_type": "code",
   "execution_count": 21,
   "id": "2a5b4562",
   "metadata": {},
   "outputs": [
    {
     "name": "stdout",
     "output_type": "stream",
     "text": [
      "Hello Python developers, Welcome to the Itvedant! We hope you are having a good day.\n"
     ]
    }
   ],
   "source": [
    "# Declaring multiple string values  \n",
    "mkr1 = \"developers\"  \n",
    "mkr2 = \"Itvedant\"  \n",
    "mkr3 = \"day\"  \n",
    "# Appending multiple string values inside a single string  \n",
    "print(\"Hello Python %s, Welcome to the %s! We hope you are having a good %s.\" % (mkr1, mkr2, mkr3))  "
   ]
  },
  {
   "cell_type": "code",
   "execution_count": 28,
   "id": "3e59de4b",
   "metadata": {},
   "outputs": [
    {
     "name": "stdout",
     "output_type": "stream",
     "text": [
      "Resultant mapped string using %s operator:\n",
      "Hey Python Developers Welcome to Itvedant\n"
     ]
    }
   ],
   "source": [
    "# Declaring multiple string variables  \n",
    "mkr1 = \"Hey\"  \n",
    "mkr2 = \"Python\"  \n",
    "mkr3 = \"Developers\"  \n",
    "mkr4 = \"Welcome\"  \n",
    "mkr5 = \"to\"  \n",
    "mkr6 = \"Itvedant\"  \n",
    "# Mapping multiple string variables into a single string  \n",
    "ResultantStr = \"%s %s %s %s %s %s\" % (mkr1, mkr2, mkr3, mkr4, mkr5,mkr6)  \n",
    "# Printing result in output  \n",
    "print(\"Resultant mapped string using %s operator:\")   \n",
    "print(ResultantStr)  "
   ]
  },
  {
   "cell_type": "code",
   "execution_count": 32,
   "id": "c22f0a97",
   "metadata": {},
   "outputs": [
    {
     "name": "stdout",
     "output_type": "stream",
     "text": [
      "Resultant mapped string with list variable in it: \n",
      "Hey Python Developers Welcome to JavaTpoint, ['Java', 'Python', 'C++', 'HTML', 'JavaScript']\n"
     ]
    }
   ],
   "source": [
    "# Declaring multiple string variables  \n",
    "mkr1 = \"Hey\"  \n",
    "mkr2 = \"Python\"  \n",
    "mkr3 = \"Developers\"  \n",
    "mkr4 = \"Welcome\"  \n",
    "mkr5 = \"to\"  \n",
    "mkr6 = \"JavaTpoint\"  \n",
    "# Declaring a list variable also  \n",
    "AList = [\"Java\", \"Python\", \"C++\", \"HTML\", \"JavaScript\"]  \n",
    "# Mapping string variables with list variable into a single string  \n",
    "ResultantStr = \"%s %s %s %s %s %s, %s\" % (mkr1, mkr2, mkr3, mkr4, mkr5, mkr6, AList)  \n",
    "# Printing result in output  \n",
    "print(\"Resultant mapped string with list variable in it: \")   \n",
    "print(ResultantStr)  "
   ]
  },
  {
   "cell_type": "code",
   "execution_count": 33,
   "id": "e36b5d59",
   "metadata": {},
   "outputs": [
    {
     "name": "stdout",
     "output_type": "stream",
     "text": [
      "We all are equal.\n"
     ]
    }
   ],
   "source": [
    "print('We all are {}.'.format('equal'))\n"
   ]
  },
  {
   "cell_type": "code",
   "execution_count": 36,
   "id": "1b83f426",
   "metadata": {},
   "outputs": [
    {
     "name": "stdout",
     "output_type": "stream",
     "text": [
      "The price is 89 dollars\n",
      "the price is price dollers\n"
     ]
    }
   ],
   "source": [
    "price=int(input(\"enter the price\"))\n",
    "txt = \"The price is {} dollars\"\n",
    "print(txt.format(price))\n",
    "print(\"the price is price dollers\")"
   ]
  },
  {
   "cell_type": "code",
   "execution_count": 37,
   "id": "d8201a85",
   "metadata": {},
   "outputs": [
    {
     "name": "stdout",
     "output_type": "stream",
     "text": [
      "Read the directions\n"
     ]
    }
   ],
   "source": [
    "print('{2} {1} {0}'.format('directions','the', 'Read'))\n"
   ]
  },
  {
   "cell_type": "code",
   "execution_count": 38,
   "id": "bfc043ce",
   "metadata": {},
   "outputs": [
    {
     "name": "stdout",
     "output_type": "stream",
     "text": [
      "The first second was alright, but the second second was tough.\n"
     ]
    }
   ],
   "source": [
    "print('The first {p} was alright, but the {p} {p} was tough.'.format(p = 'second'))\n"
   ]
  },
  {
   "cell_type": "code",
   "execution_count": 8,
   "id": "e64b9a65",
   "metadata": {},
   "outputs": [
    {
     "name": "stdout",
     "output_type": "stream",
     "text": [
      "The value of pi is: 3.141592\n"
     ]
    }
   ],
   "source": [
    "print('The value of pi is: %f' %(3.141592))\n"
   ]
  },
  {
   "cell_type": "code",
   "execution_count": 1,
   "id": "36ca2e73",
   "metadata": {},
   "outputs": [
    {
     "ename": "NameError",
     "evalue": "name 'pi' is not defined",
     "output_type": "error",
     "traceback": [
      "\u001b[1;31m---------------------------------------------------------------------------\u001b[0m",
      "\u001b[1;31mNameError\u001b[0m                                 Traceback (most recent call last)",
      "Input \u001b[1;32mIn [1]\u001b[0m, in \u001b[0;36m<cell line: 1>\u001b[1;34m()\u001b[0m\n\u001b[1;32m----> 1\u001b[0m \u001b[38;5;28mtype\u001b[39m(\u001b[43mpi\u001b[49m)\n",
      "\u001b[1;31mNameError\u001b[0m: name 'pi' is not defined"
     ]
    }
   ],
   "source": []
  },
  {
   "cell_type": "code",
   "execution_count": 44,
   "id": "f0238cdb",
   "metadata": {},
   "outputs": [
    {
     "name": "stdout",
     "output_type": "stream",
     "text": [
      "I want 3 pieces of item number 567 for 49.00 dollars.\n"
     ]
    }
   ],
   "source": [
    "quantity = 3\n",
    "itemno = 567\n",
    "price = 49\n",
    "myorder = \"I want {} pieces of item number {} for {:.2f} dollars.\"\n",
    "print(myorder.format(quantity, itemno, price))"
   ]
  },
  {
   "cell_type": "code",
   "execution_count": 45,
   "id": "ecfd0c28",
   "metadata": {},
   "outputs": [
    {
     "name": "stdout",
     "output_type": "stream",
     "text": [
      "His name is John. John is 36 years old.\n"
     ]
    }
   ],
   "source": [
    "age = 36\n",
    "name = \"John\"\n",
    "txt = \"His name is {1}. {1} is {0} years old.\"\n",
    "print(txt.format(age, name))"
   ]
  },
  {
   "cell_type": "code",
   "execution_count": null,
   "id": "5e268272",
   "metadata": {},
   "outputs": [],
   "source": []
  }
 ],
 "metadata": {
  "kernelspec": {
   "display_name": "Python 3 (ipykernel)",
   "language": "python",
   "name": "python3"
  },
  "language_info": {
   "codemirror_mode": {
    "name": "ipython",
    "version": 3
   },
   "file_extension": ".py",
   "mimetype": "text/x-python",
   "name": "python",
   "nbconvert_exporter": "python",
   "pygments_lexer": "ipython3",
   "version": "3.12.4"
  },
  "vscode": {
   "interpreter": {
    "hash": "beedbe2faf2f7048d727558d0bc3221e7eba2a0b921cac4d4771b2feb8f74b30"
   }
  }
 },
 "nbformat": 4,
 "nbformat_minor": 5
}
