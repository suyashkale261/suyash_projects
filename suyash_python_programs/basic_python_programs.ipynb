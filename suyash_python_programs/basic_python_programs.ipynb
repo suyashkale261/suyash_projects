{
 "cells": [
  {
   "cell_type": "code",
   "execution_count": 3,
   "id": "b09e593f-5b0d-4dde-afff-92730e74cd8e",
   "metadata": {},
   "outputs": [
    {
     "name": "stdin",
     "output_type": "stream",
     "text": [
      "Enter a number :  7\n"
     ]
    },
    {
     "name": "stdout",
     "output_type": "stream",
     "text": [
      "Cube :  343\n"
     ]
    }
   ],
   "source": [
    "# Cube of a number\n",
    "x = int(input(\"Enter a number : \"))\n",
    "print(\"Cube : \", x ** 3)"
   ]
  },
  {
   "cell_type": "code",
   "execution_count": 4,
   "id": "a10374be-5876-4404-bb29-f42ef41f006b",
   "metadata": {},
   "outputs": [
    {
     "name": "stdin",
     "output_type": "stream",
     "text": [
      "Enter Temperature in Celsius :  25.25\n"
     ]
    },
    {
     "name": "stdout",
     "output_type": "stream",
     "text": [
      "Temperature in Farhenheit :  77.45\n"
     ]
    }
   ],
   "source": [
    "# Celsius to Farhenheit Temperature\n",
    "c = float(input(\"Enter Temperature in Celsius : \"))\n",
    "print(\"Temperature in Farhenheit : \", c * 9 / 5 + 32)"
   ]
  },
  {
   "cell_type": "code",
   "execution_count": 5,
   "id": "6feb791b-6bec-47ff-bb50-bc1ea993d0d9",
   "metadata": {},
   "outputs": [
    {
     "name": "stdin",
     "output_type": "stream",
     "text": [
      "Enter radius of circle :  10\n"
     ]
    },
    {
     "name": "stdout",
     "output_type": "stream",
     "text": [
      "Area of Circle :  314.2\n"
     ]
    }
   ],
   "source": [
    "# Area of Circle\n",
    "r = int(input(\"Enter radius of circle : \"))\n",
    "print(\"Area of Circle : \", 3.142 * r * r)"
   ]
  },
  {
   "cell_type": "code",
   "execution_count": 6,
   "id": "b23926a9-d8e2-41b1-977f-caafb2c11441",
   "metadata": {},
   "outputs": [
    {
     "name": "stdin",
     "output_type": "stream",
     "text": [
      "Enter Length :  20\n",
      "Enter Breadth :  10\n"
     ]
    },
    {
     "name": "stdout",
     "output_type": "stream",
     "text": [
      "Area of Rectangle :  200\n"
     ]
    }
   ],
   "source": [
    "# Area of Rectangle\n",
    "l = int(input(\"Enter Length : \"))\n",
    "b = int(input(\"Enter Breadth : \"))\n",
    "print(\"Area of Rectangle : \", l * b)"
   ]
  },
  {
   "cell_type": "markdown",
   "id": "2286d257-c70e-4df3-ba0a-c061f0e436df",
   "metadata": {},
   "source": [
    "CONDITIONAL STATEMENTS IN PYTHON"
   ]
  },
  {
   "cell_type": "code",
   "execution_count": 7,
   "id": "23ea47e1-0a57-4b20-9a87-59c06e8f1b37",
   "metadata": {},
   "outputs": [
    {
     "name": "stdin",
     "output_type": "stream",
     "text": [
      "Enter Your Age :  25\n"
     ]
    },
    {
     "name": "stdout",
     "output_type": "stream",
     "text": [
      "You are eligible for Voting\n"
     ]
    }
   ],
   "source": [
    "# Condition to check whether a person is eligible for voting or not\n",
    "age = int(input(\"Enter Your Age : \"))\n",
    "if(age >= 18):\n",
    "    print(\"You are eligible for Voting\")\n",
    "else:\n",
    "    print(\"Sorry !!!!!! , You are Not Eligible for Voting\")"
   ]
  },
  {
   "cell_type": "code",
   "execution_count": 8,
   "id": "a47b297e-4611-4512-a67c-2c3e08556d3d",
   "metadata": {},
   "outputs": [
    {
     "name": "stdout",
     "output_type": "stream",
     "text": [
      "Hello\n"
     ]
    }
   ],
   "source": [
    "# What will be the output of the following program ?\n",
    "if(True):\n",
    "    print(\"Hello\")\n",
    "else:\n",
    "    print(\"Bye\")"
   ]
  },
  {
   "cell_type": "code",
   "execution_count": 9,
   "id": "8ed17fa9-d0dd-4998-a991-72bd42afc145",
   "metadata": {},
   "outputs": [
    {
     "name": "stdin",
     "output_type": "stream",
     "text": [
      "Enter a number :  6\n"
     ]
    },
    {
     "name": "stdout",
     "output_type": "stream",
     "text": [
      "Even Number\n"
     ]
    }
   ],
   "source": [
    "# Even or Odd\n",
    "n = int(input(\"Enter a number : \"))\n",
    "if(n % 2 == 0):\n",
    "    print(\"Even Number\")\n",
    "else:\n",
    "    print(\"Odd Number\")"
   ]
  },
  {
   "cell_type": "code",
   "execution_count": 10,
   "id": "225a0bef-ec2a-4c60-aba6-9e327af3d0aa",
   "metadata": {},
   "outputs": [
    {
     "name": "stdin",
     "output_type": "stream",
     "text": [
      "Enter 1st number :  80\n",
      "Enter 2nd number :  4\n"
     ]
    },
    {
     "name": "stdout",
     "output_type": "stream",
     "text": [
      "Greater Number :  80\n"
     ]
    }
   ],
   "source": [
    "# Greater of 2 numbers\n",
    "a = int(input(\"Enter 1st number : \"))\n",
    "b = int(input(\"Enter 2nd number : \"))\n",
    "if(a > b):\n",
    "    print(\"Greater Number : \",a)\n",
    "else:\n",
    "    print(\"Greater Number : \",b)"
   ]
  },
  {
   "cell_type": "code",
   "execution_count": 11,
   "id": "4da2eb23-ae07-4927-ba5b-ad8124696267",
   "metadata": {},
   "outputs": [
    {
     "name": "stdin",
     "output_type": "stream",
     "text": [
      "Enter 1st number :  20\n",
      "Enter 2nd number :  40\n",
      "Enter 3rd number :  9\n"
     ]
    },
    {
     "name": "stdout",
     "output_type": "stream",
     "text": [
      "Highest Number :  40\n"
     ]
    }
   ],
   "source": [
    "# Greatest of 3 Numbers\n",
    "x = int(input(\"Enter 1st number : \"))\n",
    "y = int(input(\"Enter 2nd number : \"))\n",
    "z = int(input(\"Enter 3rd number : \"))\n",
    "if(x > y > z):\n",
    "    print(\"Highest Number : \",x)\n",
    "elif(y > x > z):\n",
    "    print(\"Highest Number : \",y)\n",
    "else:\n",
    "    print(\"Highest Number : \",z)"
   ]
  },
  {
   "cell_type": "code",
   "execution_count": 12,
   "id": "abc5571b-47ac-4559-99d1-e95c1a08f425",
   "metadata": {},
   "outputs": [
    {
     "name": "stdin",
     "output_type": "stream",
     "text": [
      "Enter a Number :  9\n"
     ]
    },
    {
     "name": "stdout",
     "output_type": "stream",
     "text": [
      "Positive Number\n"
     ]
    }
   ],
   "source": [
    "# Negative, Non-Negative or Positive Number\n",
    "n = int(input(\"Enter a Number : \"))\n",
    "if(n < 0):\n",
    "    print(\"Negative Number\")\n",
    "elif(n > 0):\n",
    "    print(\"Positive Number\")\n",
    "else:\n",
    "    print(\"0\")"
   ]
  },
  {
   "cell_type": "code",
   "execution_count": 13,
   "id": "44e29d53-19b5-4cc1-8bdf-6fbe8a185074",
   "metadata": {},
   "outputs": [
    {
     "name": "stdin",
     "output_type": "stream",
     "text": [
      "Enter a city in India :  Delhi\n"
     ]
    },
    {
     "name": "stdout",
     "output_type": "stream",
     "text": [
      "Red Fort\n"
     ]
    }
   ],
   "source": [
    "city = input(\"Enter a city in India : \")\n",
    "if(city == \"Delhi\"):\n",
    "    print(\"Red Fort\")\n",
    "elif(city == \"Agra\"):\n",
    "    print(\"Taj Mahal\")\n",
    "elif(city == \"Jaipur\"):\n",
    "    print(\"Hawa Mahal\")\n",
    "else:\n",
    "    print(\"Your city is not present in the list\")"
   ]
  },
  {
   "cell_type": "code",
   "execution_count": 14,
   "id": "bb59d707-83c1-41bf-b0c0-c852c2a70cbe",
   "metadata": {},
   "outputs": [
    {
     "name": "stdin",
     "output_type": "stream",
     "text": [
      "Enter the Cost Price of Bike :  100000\n"
     ]
    },
    {
     "name": "stdout",
     "output_type": "stream",
     "text": [
      "Total Amount : 110000.00000000001\n"
     ]
    }
   ],
   "source": [
    "cp = int(input(\"Enter the Cost Price of Bike : \"))\n",
    "if(cp > 100000):\n",
    "    print(\"Total Amount : \",cp * 1.15)\n",
    "elif(cp > 50000 and cp <= 100000):\n",
    "    print(\"Total Amount :\",cp * 1.1)\n",
    "else:\n",
    "    print(\"Total Amount : \",cp * 1.05)"
   ]
  },
  {
   "cell_type": "code",
   "execution_count": 15,
   "id": "22ea61de-23a8-4f19-9071-d1922d2ed5b0",
   "metadata": {},
   "outputs": [
    {
     "name": "stdin",
     "output_type": "stream",
     "text": [
      "Enter 1st number :  45\n",
      "Enter 2nd number :  7\n",
      "Enter your operator (+,-,*,/,%,//,**) :  +\n"
     ]
    },
    {
     "name": "stdout",
     "output_type": "stream",
     "text": [
      "You chose  +  Sum :  52\n"
     ]
    }
   ],
   "source": [
    "n1 = int(input(\"Enter 1st number : \"))\n",
    "n2 = int(input(\"Enter 2nd number : \"))\n",
    "op = input(\"Enter your operator (+,-,*,/,%,//,**) : \")\n",
    "if(op == '+'):\n",
    "    print(\"You chose \",op,\" Sum : \",n1+n2)\n",
    "elif(op == '-'):\n",
    "    print(\"You chose \",op,\" Difference : \",n1-n2)\n",
    "elif(op == '*'):\n",
    "    print(\"You chose \",op,\" Product : \",n1*n2)\n",
    "elif(op == '/'):\n",
    "    print(\"You chose \",op,\" Division : \",n1/n2)\n",
    "elif(op == '%'):\n",
    "    print(\"You chose \",op,\" Remainder : \",n1%n2)\n",
    "elif(op == '//'):\n",
    "    print(\"You chose \",op,\" Quotient : \",n1//n2)\n",
    "elif(op == '**'):\n",
    "    print(\"You chose \",op,\" Exponential : \",n1**n2)\n",
    "else:\n",
    "    print(\"Please Enter a Valid Operator\")"
   ]
  },
  {
   "cell_type": "code",
   "execution_count": 6,
   "id": "77ae0059-e823-4f3b-9746-3b0aa6dea35c",
   "metadata": {},
   "outputs": [
    {
     "name": "stdin",
     "output_type": "stream",
     "text": [
      "Enter your age :  25\n",
      "Enter your gender :  m\n",
      "Enter your Number of Days :  30\n"
     ]
    },
    {
     "name": "stdout",
     "output_type": "stream",
     "text": [
      "Total Wages :  21000\n"
     ]
    }
   ],
   "source": [
    "age = int(input(\"Enter your age : \"))\n",
    "gender = input(\"Enter your gender : \")\n",
    "nod = int(input(\"Enter your Number of Days : \"))\n",
    "if age >= 18 and age < 30 and gender.upper() == \"M\":\n",
    "    amt = nod*700\n",
    "    print(\"Total Wages : \",amt)\n",
    "elif age >= 18 and age < 30 and gender.upper() == \"F\":\n",
    "    amt = nod * 750\n",
    "    print(\"Total Wages : \",amt)\n",
    "elif age >= 30 and age <= 40 and gender.upper() == \"M\":\n",
    "    amt = nod * 800\n",
    "    print(\"Total Wages : \",amt)\n",
    "elif age >= 30 and age <= 40 and gender.upper() == \"F\":\n",
    "    amt = nod * 850\n",
    "    print(\"Total Wages : \",amt)\n",
    "else:\n",
    "    print(\"Enter Appropriate Age !!!!\")"
   ]
  },
  {
   "cell_type": "code",
   "execution_count": 8,
   "id": "28d68df8-e2cf-49f9-bb6d-2a607e5c0621",
   "metadata": {},
   "outputs": [
    {
     "name": "stdin",
     "output_type": "stream",
     "text": [
      "Enter the number of days :  20\n"
     ]
    },
    {
     "name": "stdout",
     "output_type": "stream",
     "text": [
      "Charge :  100\n"
     ]
    }
   ],
   "source": [
    "d = int(input(\"Enter the number of days : \"))\n",
    "if(d<=5):\n",
    "    print(\"Charge : \",d*2)\n",
    "elif(d>=6 and d<=10):\n",
    "    print(\"Charge : \",d*3)\n",
    "elif(d>=11 and d<=15):\n",
    "    print(\"Charge : \",d*4)\n",
    "else:\n",
    "    print(\"Charge : \",d*5)"
   ]
  },
  {
   "cell_type": "code",
   "execution_count": 15,
   "id": "92b30f7f-e491-4316-b527-f630e7116d97",
   "metadata": {},
   "outputs": [
    {
     "name": "stdin",
     "output_type": "stream",
     "text": [
      "Enter a number between 1 and 12 : 11\n"
     ]
    },
    {
     "name": "stdout",
     "output_type": "stream",
     "text": [
      "Month is November and No. of Days are 30\n"
     ]
    }
   ],
   "source": [
    "month = int(input(\"Enter a number between 1 and 12 :\"))\n",
    "if(month == 1):\n",
    "    print(\"Month is January and No. of Days are 31\")\n",
    "elif(month == 2):\n",
    "    print(\"Month is February and No. of Days are 28/29\")\n",
    "elif(month == 3):\n",
    "    print(\"Month is March and No. of Days are 31\")\n",
    "elif(month == 4):\n",
    "    print(\"Month is April and No. of Days are 30\")\n",
    "elif(month == 5):\n",
    "    print(\"Month is May and No. of Days are 31\")\n",
    "elif(month == 6):\n",
    "    print(\"Month is June and No. of Days are 30\")\n",
    "elif(month == 7):\n",
    "    print(\"Month is July and No. of Days are 31\")\n",
    "elif(month == 8):\n",
    "    print(\"Month is August and No. of Days are 31\")\n",
    "elif(month == 9):\n",
    "    print(\"Month is September and No. of Days are 30\")\n",
    "elif(month == 10):\n",
    "    print(\"Month is October and No. of Days are 31\")\n",
    "elif(month == 11):\n",
    "    print(\"Month is November and No. of Days are 30\")\n",
    "elif(month == 12):\n",
    "    print(\"Month is December and No. of Days are 31\")\n",
    "else:\n",
    "    print(\"Please Enter a number BETWEEN 1 and 12 ONLY\")"
   ]
  },
  {
   "cell_type": "code",
   "execution_count": 27,
   "id": "2ae4af75-e2ad-4126-a913-e285aa44f0d1",
   "metadata": {},
   "outputs": [
    {
     "name": "stdin",
     "output_type": "stream",
     "text": [
      "Enter Total Number of Days :  100\n",
      "Enter Absent Number of Days :  4\n"
     ]
    },
    {
     "name": "stdout",
     "output_type": "stream",
     "text": [
      "Attendance Percentage :  96.0\n",
      "You CAN sit for the Exam\n"
     ]
    }
   ],
   "source": [
    "td = int(input(\"Enter Total Number of Days : \"))\n",
    "ad = int(input(\"Enter Absent Number of Days : \"))\n",
    "att = ((td - ad) / td) * 100\n",
    "print(\"Attendance Percentage : \",att)\n",
    "if(att >= 75):\n",
    "    print(\"You CAN sit for the Exam\")\n",
    "else:\n",
    "    print(\"You CANNOT sit for the Exam\")"
   ]
  },
  {
   "cell_type": "code",
   "execution_count": 2,
   "id": "3cb99584-3da5-4108-bb5b-95f977fc767e",
   "metadata": {},
   "outputs": [
    {
     "name": "stdin",
     "output_type": "stream",
     "text": [
      "Enter the percentage :  96\n"
     ]
    },
    {
     "name": "stdout",
     "output_type": "stream",
     "text": [
      "Grade : A+\n"
     ]
    }
   ],
   "source": [
    "p = float(input(\"Enter the percentage : \"))\n",
    "if(p < 25):\n",
    "    print(\"Grade : D\")\n",
    "elif(p>=25 and p<45):\n",
    "    print(\"Grade : C\")\n",
    "elif(p>=45 and p<50):\n",
    "    print(\"Grade : B\")\n",
    "elif(p>=50 and p<60):\n",
    "    print(\"Grade : B+\")\n",
    "elif(p>=60 and p<=80):\n",
    "    print(\"Grade : A\")\n",
    "else:\n",
    "   print(\"Grade : A+\")"
   ]
  },
  {
   "cell_type": "code",
   "execution_count": 34,
   "id": "d45e719b-0c7d-4356-9397-19735f99a650",
   "metadata": {},
   "outputs": [
    {
     "name": "stdin",
     "output_type": "stream",
     "text": [
      "Enter i :  -2\n",
      "Enter j :  -5\n",
      "Enter k :  9\n"
     ]
    },
    {
     "name": "stdout",
     "output_type": "stream",
     "text": [
      "Values of i,j,k respectively before Logic : -2 -5 9\n",
      "Values of i,j,k respectively after Logic : 9 -5 9\n"
     ]
    }
   ],
   "source": [
    "i,j,k = int(input(\"Enter i : \")),int(input(\"Enter j : \")),int(input(\"Enter k : \"))\n",
    "print(\"Values of i,j,k respectively before Logic :\",i,j,k)\n",
    "# Logic Begins\n",
    "if i<j:\n",
    "    if j<k:\n",
    "        i = j\n",
    "    else:\n",
    "        j = k\n",
    "else:\n",
    "    if j > k:\n",
    "        j = i\n",
    "    else:\n",
    "        i = k\n",
    "# Logic Ends\n",
    "print(\"Values of i,j,k respectively after Logic :\",i,j,k)"
   ]
  },
  {
   "cell_type": "code",
   "execution_count": 2,
   "id": "b2ce905e-d4bd-491b-a460-50e236fc3f3b",
   "metadata": {},
   "outputs": [
    {
     "name": "stdin",
     "output_type": "stream",
     "text": [
      "Enter number of kilometres :  375\n"
     ]
    },
    {
     "name": "stdout",
     "output_type": "stream",
     "text": [
      "Bill :  3375\n"
     ]
    }
   ],
   "source": [
    "kms = int(input(\"Enter number of kilometres : \"))\n",
    "if(kms <= 10):\n",
    "    print(\"Bill : \",kms * 11)\n",
    "elif(kms >= 11 and kms <= 100):\n",
    "    print(\"Bill : \",kms * 10)\n",
    "else:\n",
    "    print(\"Bill : \",kms * 9)"
   ]
  },
  {
   "cell_type": "markdown",
   "id": "3212c91a-4089-42e1-9514-e80752404c00",
   "metadata": {},
   "source": [
    "ITERATION STATEMENTS IN PYTHON (LOOPS)"
   ]
  },
  {
   "cell_type": "code",
   "execution_count": 21,
   "id": "d1823425-6b0b-4e7e-ac1a-8f3846d63f61",
   "metadata": {},
   "outputs": [
    {
     "name": "stdout",
     "output_type": "stream",
     "text": [
      "1\n",
      "2\n",
      "3\n",
      "4\n",
      "5\n",
      "6\n",
      "7\n",
      "8\n",
      "9\n",
      "10\n"
     ]
    }
   ],
   "source": [
    "for i in range(1,11,1):\n",
    "    print(i)"
   ]
  },
  {
   "cell_type": "code",
   "execution_count": 2,
   "id": "9df1ac6b-dbb4-463c-b7b0-8820b7b33739",
   "metadata": {},
   "outputs": [
    {
     "name": "stdout",
     "output_type": "stream",
     "text": [
      "Occurrences of 'USA' found at positions: [11, 16]\n"
     ]
    }
   ],
   "source": [
    "import re\n",
    "def find_all_occurunces(input_str):\n",
    "    return [match.start() for match in re.finditer(r'USA',input_str,re.IGNORECASE)]\n",
    "str1 = \"Welcome to USA. usa is awesome, isn't it?\"\n",
    "occurrences = find_all_occurunces(str1)\n",
    "print(\"Occurrences of 'USA' found at positions:\", occurrences)"
   ]
  },
  {
   "cell_type": "code",
   "execution_count": 4,
   "id": "86ed51dc-e6f7-44b1-89d4-e041c02d8c8b",
   "metadata": {},
   "outputs": [
    {
     "name": "stdout",
     "output_type": "stream",
     "text": [
      "Emma\n",
      "is\n",
      "a\n",
      "data\n",
      "scientist\n"
     ]
    }
   ],
   "source": [
    "str1 = \"Emma-is-a-data-scientist\"\n",
    "substrings = str1.split('-')\n",
    "for substring in substrings : print(substring)"
   ]
  },
  {
   "cell_type": "code",
   "execution_count": 5,
   "id": "75f6dcb8-2050-4426-bd03-315bb624a8ea",
   "metadata": {},
   "outputs": [
    {
     "name": "stdout",
     "output_type": "stream",
     "text": [
      "(11, 22, [33, 444, 55], 66, 77)\n"
     ]
    }
   ],
   "source": [
    "tuple1 = (11, 22, [33, 44, 55], 66, 77)\n",
    "tuple1[2][1] = 444\n",
    "print(tuple1)"
   ]
  },
  {
   "cell_type": "code",
   "execution_count": 6,
   "id": "22936c10-f074-4d04-b2a4-039fe94e4b5a",
   "metadata": {},
   "outputs": [
    {
     "name": "stdout",
     "output_type": "stream",
     "text": [
      "['My', 'name', 'is', 'Kelly']\n"
     ]
    }
   ],
   "source": [
    "from itertools import zip_longest\n",
    "list1 = [\"M\", \"na\", \"i\", \"Ke\"]\n",
    "list2 = [\"y\", \"me\", \"s\", \"lly\"]\n",
    "new_list = [i + j for i, j in zip_longest(list1, list2, fillvalue='')]\n",
    "print(new_list)"
   ]
  },
  {
   "cell_type": "code",
   "execution_count": 7,
   "id": "799e865f-5cba-477b-9be5-30943f08d614",
   "metadata": {},
   "outputs": [
    {
     "name": "stdout",
     "output_type": "stream",
     "text": [
      "{'emp1': {'name': 'Jhon', 'salary': 75000}, 'emp2': {'name': 'Emma', 'salary': 80000}, 'emp3': {'name': 'Brad', 'salary': 85000}}\n"
     ]
    }
   ],
   "source": [
    "sample_dict = {\n",
    "    'emp1': {'name': 'Jhon', 'salary': 75000},\n",
    "    'emp2': {'name': 'Emma', 'salary': 80000},\n",
    "    'emp3': {'name': 'Brad', 'salary': 500}\n",
    "}\n",
    "sample_dict['emp3']['salary'] = 85000\n",
    "print(sample_dict)"
   ]
  },
  {
   "cell_type": "code",
   "execution_count": 8,
   "id": "b14d3a4b-ee6e-4f42-848a-985eaad32844",
   "metadata": {},
   "outputs": [
    {
     "name": "stdout",
     "output_type": "stream",
     "text": [
      "{10, 80, 20, 90, 30}\n"
     ]
    }
   ],
   "source": [
    "set1 = {10, 20, 30, 40, 50, 60, 70}\n",
    "set2 = {40, 50, 60, 70, 80, 90}\n",
    "result = set1 ^ set2\n",
    "print(result)"
   ]
  },
  {
   "cell_type": "code",
   "execution_count": 9,
   "id": "1a292a5c-32be-4c27-8968-40e7ea8da2ef",
   "metadata": {},
   "outputs": [
    {
     "name": "stdin",
     "output_type": "stream",
     "text": [
      "Enter age:  28\n",
      "Enter gender (M or F):  M\n",
      "Enter marital status (Y or N):  N\n"
     ]
    },
    {
     "name": "stdout",
     "output_type": "stream",
     "text": [
      "Place of service: Anywhere\n"
     ]
    }
   ],
   "source": [
    "age = int(input(\"Enter age: \"))\n",
    "gender = input(\"Enter gender (M or F): \").upper()\n",
    "marital_status = input(\"Enter marital status (Y or N): \").upper()\n",
    "if gender == 'F':\n",
    "    print(\"Place of service: Urban areas only\")\n",
    "elif gender == 'M':\n",
    "    if 20 <= age <= 40:\n",
    "        print(\"Place of service: Anywhere\")\n",
    "    elif 40 <= age <= 60:\n",
    "        print(\"Place of service: Urban areas only\")\n",
    "    else:\n",
    "        print(\"ERROR\")\n",
    "else:\n",
    "    print(\"ERROR\")"
   ]
  },
  {
   "cell_type": "code",
   "execution_count": null,
   "id": "44110727-d7d3-4a2e-a18b-fba003eb681f",
   "metadata": {},
   "outputs": [],
   "source": []
  }
 ],
 "metadata": {
  "kernelspec": {
   "display_name": "Python 3 (ipykernel)",
   "language": "python",
   "name": "python3"
  },
  "language_info": {
   "codemirror_mode": {
    "name": "ipython",
    "version": 3
   },
   "file_extension": ".py",
   "mimetype": "text/x-python",
   "name": "python",
   "nbconvert_exporter": "python",
   "pygments_lexer": "ipython3",
   "version": "3.12.4"
  }
 },
 "nbformat": 4,
 "nbformat_minor": 5
}
