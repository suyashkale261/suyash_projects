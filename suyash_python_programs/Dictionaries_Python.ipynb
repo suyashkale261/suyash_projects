{
 "cells": [
  {
   "cell_type": "code",
   "execution_count": 5,
   "id": "71c3086c-9c90-4fbe-a386-116fc92a64a9",
   "metadata": {},
   "outputs": [],
   "source": [
    "d={\"fname:'Arpita','Roll no':56,classroom:2\"}"
   ]
  },
  {
   "cell_type": "code",
   "execution_count": 4,
   "id": "5379c911-aaa7-40dd-8a2f-4579b7783c20",
   "metadata": {},
   "outputs": [
    {
     "data": {
      "text/plain": [
       "(1, 2, 3, 4)"
      ]
     },
     "execution_count": 4,
     "metadata": {},
     "output_type": "execute_result"
    }
   ],
   "source": [
    "dict1={1:\"x\",2:\"y\",3:\"z\",4:\"w\"}\n",
    "t3=tuple(dict1)\n",
    "t3"
   ]
  },
  {
   "cell_type": "code",
   "execution_count": 13,
   "id": "f7a77edc-97f8-4494-a621-7199229c090f",
   "metadata": {},
   "outputs": [
    {
     "data": {
      "text/plain": [
       "{1: 'apple', 2: 'ball'}"
      ]
     },
     "execution_count": 13,
     "metadata": {},
     "output_type": "execute_result"
    }
   ],
   "source": [
    "#using dict()\n",
    "my_dict3=dict({1:'apple',2:'ball'})\n",
    "my_dict3"
   ]
  },
  {
   "cell_type": "code",
   "execution_count": 14,
   "id": "847ec091-7476-419f-957f-b7e490575eff",
   "metadata": {},
   "outputs": [
    {
     "data": {
      "text/plain": [
       "['1,apple', (2, 'ball')]"
      ]
     },
     "execution_count": 14,
     "metadata": {},
     "output_type": "execute_result"
    }
   ],
   "source": [
    "#from sequence having such item as a pair\n",
    "my_dict4=([('1,apple'),(2,'ball')])\n",
    "my_dict4"
   ]
  },
  {
   "cell_type": "code",
   "execution_count": 15,
   "id": "a2f2cd50-1bae-4b00-829a-258f00e0dbaa",
   "metadata": {},
   "outputs": [
    {
     "data": {
      "text/plain": [
       "{1: 'a', 2: 'b'}"
      ]
     },
     "execution_count": 15,
     "metadata": {},
     "output_type": "execute_result"
    }
   ],
   "source": [
    "f=dict([(1,'a'),(2,'b')])\n",
    "f"
   ]
  },
  {
   "cell_type": "code",
   "execution_count": 16,
   "id": "1c148502-fa4a-43a4-8058-d4030fc6db94",
   "metadata": {},
   "outputs": [
    {
     "name": "stdout",
     "output_type": "stream",
     "text": [
      "{'brand': 'Ford', 'model': 'Mustang', 'year': 1964, 'price': 5600000}\n"
     ]
    }
   ],
   "source": [
    "#duplicates are not allowed,dictionaries cannot have two items with the same this dict\n",
    "mydict={\n",
    "    \"brand\":\"Ford\",\n",
    "    \"model\":\"Mustang\",\n",
    "    \"year\": 1964,\n",
    "    \"price\":5600000\n",
    "}\n",
    "print(mydict)"
   ]
  },
  {
   "cell_type": "code",
   "execution_count": 17,
   "id": "d089b5c7-067e-4948-bf16-647358abf970",
   "metadata": {},
   "outputs": [
    {
     "data": {
      "text/plain": [
       "'Mustang'"
      ]
     },
     "execution_count": 17,
     "metadata": {},
     "output_type": "execute_result"
    }
   ],
   "source": [
    "#accessing items\n",
    "#you can access the items of a dictrionary by referring to its key name,inside square brackets:\n",
    "#get the value of the \"model\" key:\n",
    "thisdict={\n",
    "    \"brand\":\"Ford\",\n",
    "    \"model\":\"Mustang\",\n",
    "    \"year\": 1964\n",
    "}\n",
    "x=thisdict[\"model\"]\n",
    "x"
   ]
  },
  {
   "cell_type": "code",
   "execution_count": 18,
   "id": "efeaff4e-f521-4220-92db-60b08d2aecfa",
   "metadata": {},
   "outputs": [
    {
     "data": {
      "text/plain": [
       "'Mustang'"
      ]
     },
     "execution_count": 18,
     "metadata": {},
     "output_type": "execute_result"
    }
   ],
   "source": [
    "#there is also a method called get() that will give you the same result:\n",
    "y=thisdict.get(\"model\")\n",
    "y"
   ]
  },
  {
   "cell_type": "code",
   "execution_count": 19,
   "id": "a856f015-7291-40f1-bf38-94fde5da28f8",
   "metadata": {},
   "outputs": [
    {
     "name": "stdout",
     "output_type": "stream",
     "text": [
      "dict_keys(['brand', 'model', 'year'])\n",
      "dict_keys(['brand', 'model', 'year', 'color'])\n"
     ]
    },
    {
     "data": {
      "text/plain": [
       "{'brand': 'Ford', 'model': 'Mustang', 'year': 1964, 'color': 'white'}"
      ]
     },
     "execution_count": 19,
     "metadata": {},
     "output_type": "execute_result"
    }
   ],
   "source": [
    "#adding new elements in dictionary\n",
    "car={\n",
    "     \"brand\":\"Ford\",\n",
    "    \"model\":\"Mustang\",\n",
    "    \"year\": 1964\n",
    "}\n",
    "x=car.keys()\n",
    "print(x)#before the change\n",
    "car[\"color\"]=\"white\"\n",
    "print(x)#before the change\n",
    "car"
   ]
  },
  {
   "cell_type": "code",
   "execution_count": 20,
   "id": "16a56956-2c3d-48bf-96dc-83b0eea15fac",
   "metadata": {},
   "outputs": [
    {
     "data": {
      "text/plain": [
       "{'brand': 'Ford', 'model': 'Mustang', 'year': 1964, 'color': 'red'}"
      ]
     },
     "execution_count": 20,
     "metadata": {},
     "output_type": "execute_result"
    }
   ],
   "source": [
    "#updating the value of dictionary\n",
    "car['color']=\"red\"\n",
    "car"
   ]
  },
  {
   "cell_type": "code",
   "execution_count": 21,
   "id": "3f406709-2f50-4ece-8509-390542db7c97",
   "metadata": {},
   "outputs": [
    {
     "data": {
      "text/plain": [
       "dict_values(['Ford', 'Mustang', 1964, 'red'])"
      ]
     },
     "execution_count": 21,
     "metadata": {},
     "output_type": "execute_result"
    }
   ],
   "source": [
    "#the values() method will return a list of all the items values in the dictionary.\n",
    "car.values()"
   ]
  },
  {
   "cell_type": "code",
   "execution_count": null,
   "id": "59a32d48-69ef-40c4-bde8-5a539abc7ff4",
   "metadata": {},
   "outputs": [],
   "source": [
    "#the update()method will update the dictionary the items from the given arguement\n",
    "the argument must be a dictionary,or an iterable object with key:\n",
    "thisdict={\n",
    "    \"brand\":\"Ford\",\n",
    "    \"model\":\"Mustang\",\n",
    "    \"year\": 1964\n",
    "}\n",
    "thisdict.update\n"
   ]
  }
 ],
 "metadata": {
  "kernelspec": {
   "display_name": "Python 3 (ipykernel)",
   "language": "python",
   "name": "python3"
  },
  "language_info": {
   "codemirror_mode": {
    "name": "ipython",
    "version": 3
   },
   "file_extension": ".py",
   "mimetype": "text/x-python",
   "name": "python",
   "nbconvert_exporter": "python",
   "pygments_lexer": "ipython3",
   "version": "3.12.4"
  }
 },
 "nbformat": 4,
 "nbformat_minor": 5
}
