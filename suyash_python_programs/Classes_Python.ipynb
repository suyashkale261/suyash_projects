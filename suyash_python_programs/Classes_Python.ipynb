{
 "cells": [
  {
   "cell_type": "code",
   "execution_count": 1,
   "id": "4453d6c1-6c2a-4065-91e5-314fda852589",
   "metadata": {},
   "outputs": [
    {
     "name": "stdout",
     "output_type": "stream",
     "text": [
      "Color: White, Vehicle name: School Volvo, Speed: 180, Mileage: 12\n",
      "Color: White, Vehicle name: Audi Q5, Speed: 240, Mileage: 18\n"
     ]
    }
   ],
   "source": [
    "class Vehicle:\n",
    "    color = \"White\"\n",
    "    def __init__(self,name,speed,mileage):\n",
    "        self.name = name\n",
    "        self.speed = speed\n",
    "        self.mileage = mileage\n",
    "    def show(self):\n",
    "        print(f\"Color: {Vehicle.color}, Vehicle name: {self.name}, Speed: {self.speed}, Mileage: {self.mileage}\")\n",
    "v1 = Vehicle(\"School Volvo\",180,12)\n",
    "v2 = Vehicle(\"Audi Q5\",240,18)\n",
    "v1.show()\n",
    "v2.show()"
   ]
  },
  {
   "cell_type": "code",
   "execution_count": null,
   "id": "b7fbd52e-6ea6-469e-82b7-e04595aa36aa",
   "metadata": {},
   "outputs": [],
   "source": []
  }
 ],
 "metadata": {
  "kernelspec": {
   "display_name": "Python 3 (ipykernel)",
   "language": "python",
   "name": "python3"
  },
  "language_info": {
   "codemirror_mode": {
    "name": "ipython",
    "version": 3
   },
   "file_extension": ".py",
   "mimetype": "text/x-python",
   "name": "python",
   "nbconvert_exporter": "python",
   "pygments_lexer": "ipython3",
   "version": "3.12.4"
  }
 },
 "nbformat": 4,
 "nbformat_minor": 5
}
