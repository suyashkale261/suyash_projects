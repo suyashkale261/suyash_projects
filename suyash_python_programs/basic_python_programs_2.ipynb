{
 "cells": [
  {
   "cell_type": "code",
   "execution_count": 5,
   "id": "047003a2-1c59-40ef-9994-03710ca85273",
   "metadata": {},
   "outputs": [
    {
     "name": "stdout",
     "output_type": "stream",
     "text": [
      "2\n",
      "4\n",
      "6\n",
      "8\n",
      "10\n"
     ]
    }
   ],
   "source": [
    "for i in range(2,11,2):\n",
    "    print(i)"
   ]
  },
  {
   "cell_type": "code",
   "execution_count": 8,
   "id": "d1ffddc3-b169-4ad8-888a-e0842957cc10",
   "metadata": {},
   "outputs": [
    {
     "name": "stdout",
     "output_type": "stream",
     "text": [
      "10\n",
      "8\n",
      "6\n",
      "4\n",
      "2\n"
     ]
    }
   ],
   "source": [
    "for i in range(10,1,-2):\n",
    "    print(i)"
   ]
  },
  {
   "cell_type": "code",
   "execution_count": 11,
   "id": "604dde26-1728-4d0d-b662-33377138f35e",
   "metadata": {},
   "outputs": [
    {
     "name": "stdout",
     "output_type": "stream",
     "text": [
      "2\n",
      "4\n",
      "6\n",
      "8\n",
      "10\n"
     ]
    }
   ],
   "source": [
    "for i in range(1,11,1):\n",
    "    if(i%2 == 0):print(i)\n"
   ]
  },
  {
   "cell_type": "code",
   "execution_count": 12,
   "id": "06a39193-90ed-4368-9c0a-dbcce187c340",
   "metadata": {},
   "outputs": [
    {
     "name": "stdout",
     "output_type": "stream",
     "text": [
      "0 1 2 3 4 5 6 7 8 9 10 "
     ]
    }
   ],
   "source": [
    "for i in range(11):\n",
    "    print(i, end = \" \")"
   ]
  },
  {
   "cell_type": "code",
   "execution_count": 17,
   "id": "ecaa97ea-b1c3-4942-9086-534222142459",
   "metadata": {},
   "outputs": [
    {
     "name": "stdout",
     "output_type": "stream",
     "text": [
      "Sum of First 10 Numbers :  55\n"
     ]
    }
   ],
   "source": [
    "# Sum of First 10 numbers using for loop\n",
    "sum = 0\n",
    "for i in range(1,11):\n",
    "    sum += i\n",
    "print(\"Sum of First 10 Numbers : \",sum)"
   ]
  },
  {
   "cell_type": "code",
   "execution_count": 4,
   "id": "d9ea396f-be42-4687-aa21-fea6b20c607a",
   "metadata": {},
   "outputs": [
    {
     "name": "stdin",
     "output_type": "stream",
     "text": [
      "Enter a Number :  5\n"
     ]
    },
    {
     "name": "stdout",
     "output_type": "stream",
     "text": [
      "5! :  120\n"
     ]
    }
   ],
   "source": [
    "# Factorial of a number\n",
    "n = int(input(\"Enter a Number : \"))\n",
    "if n < 0: print(\"Factorial Does not Exist for Negative Numbers !!!!\")\n",
    "elif n == 0 or n == 1: print(\"Factorial : 1\")\n",
    "else:\n",
    "    fact = 1\n",
    "    for i in range(1,n+1):fact *= i\n",
    "    print(f\"{n}! : \",fact)"
   ]
  },
  {
   "cell_type": "code",
   "execution_count": 34,
   "id": "a9c45ea1-e955-459c-a2f9-c570926b2357",
   "metadata": {},
   "outputs": [
    {
     "name": "stdin",
     "output_type": "stream",
     "text": [
      "Enter a number upto which Fibonacci Series is to be printed :  10\n"
     ]
    },
    {
     "name": "stdout",
     "output_type": "stream",
     "text": [
      "0 1 1 2 3 5 8 13 21 34 "
     ]
    }
   ],
   "source": [
    "# Fibonacci series in Python\n",
    "n = int(input(\"Enter a number upto which Fibonacci Series is to be printed : \"))\n",
    "x,y = 0,1\n",
    "for i in range(n):\n",
    "    print(x,end = \" \")\n",
    "    x,y = y,x+y"
   ]
  },
  {
   "cell_type": "code",
   "execution_count": 38,
   "id": "509965e1-43ee-469a-8089-4e02bb20cb7a",
   "metadata": {},
   "outputs": [
    {
     "name": "stdout",
     "output_type": "stream",
     "text": [
      "1 2 3 4 5 6 7 8 9 10 "
     ]
    }
   ],
   "source": [
    "# While loop\n",
    "i = 1\n",
    "while i<11:\n",
    "    print(i,end = \" \")\n",
    "    i += 1"
   ]
  },
  {
   "cell_type": "code",
   "execution_count": 40,
   "id": "bb422dfd-f9c6-42e3-a353-1e3ff75af024",
   "metadata": {},
   "outputs": [
    {
     "name": "stdin",
     "output_type": "stream",
     "text": [
      "Enter the number to print multiplication table :  15\n"
     ]
    },
    {
     "name": "stdout",
     "output_type": "stream",
     "text": [
      "15 X 1 = 15\n",
      "15 X 2 = 30\n",
      "15 X 3 = 45\n",
      "15 X 4 = 60\n",
      "15 X 5 = 75\n",
      "15 X 6 = 90\n",
      "15 X 7 = 105\n",
      "15 X 8 = 120\n",
      "15 X 9 = 135\n",
      "15 X 10 = 150\n"
     ]
    }
   ],
   "source": [
    "num = int(input(\"Enter the number to print multiplication table : \"))\n",
    "for i in range(1,11): print(num,\"X\",i,\"=\",num*i)"
   ]
  },
  {
   "cell_type": "code",
   "execution_count": 43,
   "id": "43535d80-c42f-425a-bad4-b4c99c646f1c",
   "metadata": {},
   "outputs": [
    {
     "name": "stdin",
     "output_type": "stream",
     "text": [
      "Enter the number to print multiplication table :  15\n"
     ]
    },
    {
     "name": "stdout",
     "output_type": "stream",
     "text": [
      "15 X 1 = 15\n",
      "15 X 2 = 30\n",
      "15 X 3 = 45\n",
      "15 X 4 = 60\n",
      "15 X 5 = 75\n",
      "15 X 6 = 90\n",
      "15 X 7 = 105\n",
      "15 X 8 = 120\n",
      "15 X 9 = 135\n",
      "15 X 10 = 150\n"
     ]
    }
   ],
   "source": [
    "num = int(input(\"Enter the number to print multiplication table : \"))\n",
    "i = 1\n",
    "while i<11:\n",
    "    print(num,\"X\",i,\"=\",num*i)\n",
    "    i += 1"
   ]
  },
  {
   "cell_type": "code",
   "execution_count": 6,
   "id": "4b686381-3dd1-4418-b572-f8b8c391b451",
   "metadata": {},
   "outputs": [
    {
     "name": "stdout",
     "output_type": "stream",
     "text": [
      "1 \n",
      "2 2 \n",
      "3 3 3 \n",
      "4 4 4 4 \n",
      "5 5 5 5 5 \n"
     ]
    }
   ],
   "source": [
    "for i in range(1,6):\n",
    "    for j in range(1,i+1):\n",
    "        print(i,end = \" \")\n",
    "    print()"
   ]
  },
  {
   "cell_type": "code",
   "execution_count": 5,
   "id": "415d19e1-6a85-467c-956f-cacf28c7b492",
   "metadata": {},
   "outputs": [
    {
     "name": "stdin",
     "output_type": "stream",
     "text": [
      "Enter the number of terms :  5\n"
     ]
    },
    {
     "name": "stdout",
     "output_type": "stream",
     "text": [
      "The sum of the series up to 5 terms is: 24690\n"
     ]
    }
   ],
   "source": [
    "n = int(input(\"Enter the number of terms : \"))\n",
    "total_sum,term = 0,2\n",
    "for i in range(n):\n",
    "    total_sum += term\n",
    "    term = term * 10 + 2\n",
    "print(f\"The sum of the series up to {n} terms is: {total_sum}\")"
   ]
  },
  {
   "cell_type": "code",
   "execution_count": 6,
   "id": "73035683-8935-472b-8d85-a22dc8bd1647",
   "metadata": {},
   "outputs": [
    {
     "name": "stdout",
     "output_type": "stream",
     "text": [
      "['Even', 'ODD', 'Even', 'ODD', 'Even', 'ODD', 'Even', 'ODD', 'Even']\n"
     ]
    }
   ],
   "source": [
    "List1 = [12, 23, 34, 45, 56, 67, 78, 89, 90]\n",
    "print([\"Even\" if num % 2 == 0 else \"ODD\" for num in List1])"
   ]
  },
  {
   "cell_type": "code",
   "execution_count": null,
   "id": "9bfcc88e-ff1d-4c25-8ce8-f08f3c17177e",
   "metadata": {},
   "outputs": [],
   "source": []
  }
 ],
 "metadata": {
  "kernelspec": {
   "display_name": "Python 3 (ipykernel)",
   "language": "python",
   "name": "python3"
  },
  "language_info": {
   "codemirror_mode": {
    "name": "ipython",
    "version": 3
   },
   "file_extension": ".py",
   "mimetype": "text/x-python",
   "name": "python",
   "nbconvert_exporter": "python",
   "pygments_lexer": "ipython3",
   "version": "3.12.4"
  }
 },
 "nbformat": 4,
 "nbformat_minor": 5
}
