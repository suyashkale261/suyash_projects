{
 "cells": [
  {
   "cell_type": "code",
   "execution_count": 6,
   "id": "9bc422b7-fb00-42e8-932d-4e7499b80e29",
   "metadata": {},
   "outputs": [
    {
     "name": "stdout",
     "output_type": "stream",
     "text": [
      "Hi There Everybody !!!! This is Suyash Pramod Kale\n"
     ]
    }
   ],
   "source": [
    "class FullName:\n",
    "    def __init__(self,fname,mname,lname):\n",
    "        self.fname = fname\n",
    "        self.mname = mname\n",
    "        self.lname = lname\n",
    "    def display(self): print(\"Hi There Everybody !!!! This is \" + self.fname + \" \" + self.mname + \" \" + self.lname)\n",
    "fn = FullName(\"Suyash\",\"Pramod\",\"Kale\")\n",
    "fn.display()"
   ]
  },
  {
   "cell_type": "code",
   "execution_count": 7,
   "id": "109e53f5-85c2-4a45-894a-9a50e6dd95d3",
   "metadata": {},
   "outputs": [
    {
     "data": {
      "text/plain": [
       "'Suyash'"
      ]
     },
     "execution_count": 7,
     "metadata": {},
     "output_type": "execute_result"
    }
   ],
   "source": [
    "fn.fname"
   ]
  },
  {
   "cell_type": "code",
   "execution_count": 8,
   "id": "1fccbdf0-87f4-4efe-b4b5-d24141aecc2a",
   "metadata": {},
   "outputs": [
    {
     "data": {
      "text/plain": [
       "'Pramod'"
      ]
     },
     "execution_count": 8,
     "metadata": {},
     "output_type": "execute_result"
    }
   ],
   "source": [
    "fn.mname"
   ]
  },
  {
   "cell_type": "code",
   "execution_count": 9,
   "id": "0cd780b5-b01e-4b70-b863-553435f43b48",
   "metadata": {},
   "outputs": [
    {
     "data": {
      "text/plain": [
       "'Kale'"
      ]
     },
     "execution_count": 9,
     "metadata": {},
     "output_type": "execute_result"
    }
   ],
   "source": [
    "fn.lname"
   ]
  },
  {
   "cell_type": "code",
   "execution_count": 17,
   "id": "e5917c24-0856-49cb-b6ea-8a1ed297a6e4",
   "metadata": {},
   "outputs": [
    {
     "name": "stdout",
     "output_type": "stream",
     "text": [
      "Title :  Dilwale Dulhania Le Jayenge\n",
      "Director :  Aditya Chopra\n",
      "Release Year :  1995\n",
      "Title :  Kuch Kuch Hota Hai\n",
      "Director :  Karan Johar\n",
      "Release Year :  1998\n",
      "Title :  Kabhi Khushi Kabhie Gham\n",
      "Director :  Karan Johar\n",
      "Release Year :  2001\n"
     ]
    }
   ],
   "source": [
    "class Movie:\n",
    "    def __init__(self,title,director,year):\n",
    "        self.title = title\n",
    "        self.director = director\n",
    "        self.year = year\n",
    "    def details(self): \n",
    "        print(\"Title : \",self.title) \n",
    "        print(\"Director : \",self.director)\n",
    "        print(\"Release Year : \",self.year)\n",
    "m1 = Movie(\"Dilwale Dulhania Le Jayenge\",\"Aditya Chopra\",1995)\n",
    "m2 = Movie(\"Kuch Kuch Hota Hai\",\"Karan Johar\",1998)\n",
    "m3 = Movie(\"Kabhi Khushi Kabhie Gham\",\"Karan Johar\",2001)\n",
    "m1.details()\n",
    "m2.details()\n",
    "m3.details()"
   ]
  },
  {
   "cell_type": "code",
   "execution_count": 20,
   "id": "3aa01dc3-215c-41e3-a58f-ca1d50400178",
   "metadata": {},
   "outputs": [
    {
     "name": "stdout",
     "output_type": "stream",
     "text": [
      "First Number : 100\n",
      "Second Number : 200\n",
      "Sum :  300\n"
     ]
    }
   ],
   "source": [
    "class Sum:\n",
    "    f,s = 0,0\n",
    "    def __init__(self,f1,s1):\n",
    "        self.f = f1\n",
    "        self.s = s1\n",
    "    def display(self):\n",
    "        print(\"First Number : \"+str(self.f))\n",
    "        print(\"Second Number : \"+str(self.s))\n",
    "        print(\"Sum : \",self.f + self.s)\n",
    "o = Sum(100,200)\n",
    "o.display()"
   ]
  },
  {
   "cell_type": "code",
   "execution_count": 1,
   "id": "4a72ec59-7529-4c85-93ec-d912abbfaeaa",
   "metadata": {},
   "outputs": [
    {
     "name": "stdout",
     "output_type": "stream",
     "text": [
      "101\n"
     ]
    }
   ],
   "source": [
    "class DemoClass:\n",
    "    num = 101\n",
    "    def read_number(self):print(self.num)\n",
    "obj = DemoClass()\n",
    "obj.read_number()"
   ]
  },
  {
   "cell_type": "code",
   "execution_count": 16,
   "id": "7a26d72a-9b6a-46dc-a503-01fc86916cc0",
   "metadata": {},
   "outputs": [
    {
     "name": "stdout",
     "output_type": "stream",
     "text": [
      "Cloth : cotton\t Type : T-Shirt\n",
      "Brand :  Peter England\n"
     ]
    }
   ],
   "source": [
    "# Non-Parameterized Character\n",
    "class Dress:\n",
    "    brand = \"Peter England\"\n",
    "    def __init__(self):\n",
    "        self.cloth = \"cotton\"\n",
    "        self.type = \"T-Shirt\"\n",
    "    def get_data(self):\n",
    "        return f\"Cloth : {self.cloth}\\t Type : {self.type}\"\n",
    "t_shirt = Dress()\n",
    "print(t_shirt.get_data())\n",
    "print(\"Brand : \",t_shirt.brand)"
   ]
  },
  {
   "cell_type": "code",
   "execution_count": 23,
   "id": "9564d115-be19-4dd1-8120-13b7c5aee139",
   "metadata": {},
   "outputs": [
    {
     "name": "stdout",
     "output_type": "stream",
     "text": [
      "Cloth : silk\t Type : shirt\t Quantity : 20 pieces\n",
      "Cloth : cotton\t Type : t-shirt\t Quantity : 2 pieces\n",
      "Cloth : nylon\t Type : shirt\t Quantity : 5 pieces\n",
      "Brand :  Peter England\n"
     ]
    }
   ],
   "source": [
    "# Parameterized Constructor\n",
    "class Dress2:\n",
    "    brand = \"Peter England\"\n",
    "    def __init__(self,cloth,type,qty=5):\n",
    "        self.cloth = cloth\n",
    "        self.type = type\n",
    "        self.qty = qty\n",
    "    def get_data(self):\n",
    "        return f\"Cloth : {self.cloth}\\t Type : {self.type}\\t Quantity : {self.qty} pieces\"\n",
    "t_shirt = Dress2(\"silk\",\"shirt\",20)\n",
    "t_shirt2 = Dress2(\"cotton\",\"t-shirt\",2)\n",
    "t_shirt3 = Dress2(\"nylon\",\"shirt\")\n",
    "print(t_shirt.get_data())\n",
    "print(t_shirt2.get_data())\n",
    "print(t_shirt3.get_data())\n",
    "print(\"Brand : \",t_shirt.brand)"
   ]
  },
  {
   "cell_type": "code",
   "execution_count": 6,
   "id": "4176aaa4-257d-4499-85bc-aaef35b8a50f",
   "metadata": {},
   "outputs": [
    {
     "name": "stdout",
     "output_type": "stream",
     "text": [
      "Accelerating !!!!\n",
      "Changing Flap !!!!\n",
      "Closing Wheels !!!!\n"
     ]
    },
    {
     "data": {
      "text/plain": [
       "2"
      ]
     },
     "execution_count": 6,
     "metadata": {},
     "output_type": "execute_result"
    }
   ],
   "source": [
    "class Plane:\n",
    "    def __init__(self):\n",
    "        self.wings = 2\n",
    "        #self.drive()\n",
    "        #self.flap()\n",
    "        #self.wheels()\n",
    "    def drive(self):print(\"Accelerating !!!!\")\n",
    "    def flap(self):print(\"Changing Flap !!!!\")\n",
    "    def wheels(self):print(\"Closing Wheels !!!!\")\n",
    "b = Plane()\n",
    "b.drive()\n",
    "b.flap()\n",
    "b.wheels()\n",
    "b.wings"
   ]
  },
  {
   "cell_type": "code",
   "execution_count": 8,
   "id": "dcc994b8-c8a8-49fc-8282-6c49370c003b",
   "metadata": {},
   "outputs": [
    {
     "name": "stdout",
     "output_type": "stream",
     "text": [
      "4 2 2\n"
     ]
    }
   ],
   "source": [
    "class Bug:\n",
    "    def __init__(self):\n",
    "        self.wings = 4\n",
    "class Human:\n",
    "    def __init__(self):\n",
    "        self.legs = 2\n",
    "        self.arms = 2\n",
    "a = Bug()\n",
    "b = Human()\n",
    "print(a.wings , b.legs , b.arms)"
   ]
  },
  {
   "cell_type": "code",
   "execution_count": 1,
   "id": "374f1537-fc57-49e0-91d0-d6b7e7a55cac",
   "metadata": {},
   "outputs": [
    {
     "name": "stdout",
     "output_type": "stream",
     "text": [
      "30\n",
      "70\n",
      "270\n",
      "7.5\n"
     ]
    }
   ],
   "source": [
    "class Add:\n",
    "    def __init__(self,a,b):\n",
    "        self.a = a\n",
    "        self.b = b\n",
    "        print(self.a + self.b)\n",
    "class Subtract:\n",
    "    def __init__(self,c,d):\n",
    "        self.c = c\n",
    "        self.d = d\n",
    "        print(self.c - self.d)\n",
    "class Multiply:\n",
    "    def __init__(self,e,f):\n",
    "        self.e = e\n",
    "        self.f = f\n",
    "        print(self.e * self.f)\n",
    "class Divide:\n",
    "    def __init__(self,g,h):\n",
    "        self.g = g\n",
    "        self.h = h\n",
    "        print(self.g / self.h)\n",
    "x = Add(10,20)\n",
    "y = Subtract(75,5)\n",
    "z = Multiply(30,9)\n",
    "w = Divide(45,6)"
   ]
  },
  {
   "cell_type": "code",
   "execution_count": 4,
   "id": "4f6b80d1-ba26-4c43-b8b3-ea11ba261fb7",
   "metadata": {},
   "outputs": [
    {
     "name": "stdout",
     "output_type": "stream",
     "text": [
      "Employee Object Created !!!!!\n",
      "Destructor Called !!!! Employee Object Deleted !!!!!!\n"
     ]
    }
   ],
   "source": [
    "# Destructor Example\n",
    "class Employee:\n",
    "    def __init__(self):print(\"Employee Object Created !!!!!\")\n",
    "    def __del__(self):print(\"Destructor Called !!!! Employee Object Deleted !!!!!!\") # destructor created\n",
    "obj = Employee()\n",
    "del obj"
   ]
  },
  {
   "cell_type": "code",
   "execution_count": 11,
   "id": "2ae8a8ef-88b3-4bc5-ae39-46fa74113f19",
   "metadata": {},
   "outputs": [
    {
     "name": "stdout",
     "output_type": "stream",
     "text": [
      "CS CS CS Harry 21 Yash 23 Suyash 28\n",
      "CS\n",
      "CS CS CS\n",
      "IT IT IT\n"
     ]
    }
   ],
   "source": [
    "class Student:\n",
    "    stream = \"CS\" # 'stream' is a static/class variable\n",
    "    def __init__(self,name,roll): self.name,self.roll = name,roll\n",
    "a = Student(\"Harry\",21)\n",
    "b = Student(\"Yash\",23)\n",
    "c = Student(\"Suyash\",28)\n",
    "print(a.stream,b.stream,c.stream,a.name,a.roll,b.name,b.roll,c.name,c.roll)\n",
    "print(Student.stream)\n",
    "stream = \"IT\"\n",
    "print(a.stream,b.stream,c.stream)\n",
    "Student.stream = \"IT\" # instance variable\n",
    "print(a.stream,b.stream,c.stream)"
   ]
  },
  {
   "cell_type": "code",
   "execution_count": 16,
   "id": "f756a269-5ad8-43a2-bf51-e05ed23b6a46",
   "metadata": {},
   "outputs": [
    {
     "data": {
      "text/plain": [
       "<__main__.X at 0x1498f07b8c0>"
      ]
     },
     "execution_count": 16,
     "metadata": {},
     "output_type": "execute_result"
    }
   ],
   "source": [
    "# Pass Statement -> Class definitions cannot be empty therefore to show an empty class definition, you can write the 'pass' statement\n",
    "class X:\n",
    "    pass\n",
    "X()"
   ]
  },
  {
   "cell_type": "code",
   "execution_count": null,
   "id": "2146a8c5-298e-4a20-a475-925bd016d1ac",
   "metadata": {},
   "outputs": [],
   "source": []
  }
 ],
 "metadata": {
  "kernelspec": {
   "display_name": "Python 3 (ipykernel)",
   "language": "python",
   "name": "python3"
  },
  "language_info": {
   "codemirror_mode": {
    "name": "ipython",
    "version": 3
   },
   "file_extension": ".py",
   "mimetype": "text/x-python",
   "name": "python",
   "nbconvert_exporter": "python",
   "pygments_lexer": "ipython3",
   "version": "3.12.4"
  }
 },
 "nbformat": 4,
 "nbformat_minor": 5
}
